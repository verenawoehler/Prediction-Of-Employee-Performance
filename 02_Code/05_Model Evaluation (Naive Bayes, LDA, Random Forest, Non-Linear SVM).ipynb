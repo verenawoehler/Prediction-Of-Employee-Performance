{
 "cells": [
  {
   "cell_type": "markdown",
   "metadata": {},
   "source": [
    "# 0. Section objectives\n",
    "So this is the most exciting part of the project as our test data will show whether the predictions made by each of our four fitted models will uphold our expectations.\n",
    "\n",
    "To start, I will compare the four models using the findings from the cross-validation process.\n",
    "\n",
    "Afterwards, and more importantly, we will predict the performance measures within our test dataset that we separated in our pre-processing step. First, we will use the same pre-processing methods as on the train dataset. Then, we will compute out-of-sample validity metrics and interpret the data to decide on the model that serves our various project purposes best."
   ]
  },
  {
   "cell_type": "markdown",
   "metadata": {},
   "source": [
    "# 1. Prepare the work environment"
   ]
  },
  {
   "cell_type": "markdown",
   "metadata": {},
   "source": [
    "## 1.1 Set general options"
   ]
  },
  {
   "cell_type": "code",
   "execution_count": 1,
   "metadata": {},
   "outputs": [],
   "source": [
    "#Set seed\n",
    "set.seed(100)"
   ]
  },
  {
   "cell_type": "code",
   "execution_count": 2,
   "metadata": {},
   "outputs": [],
   "source": [
    "#General options\n",
    "options(scipen = 999,\n",
    "        readr.num_columns = 0,\n",
    "        warn=-1)"
   ]
  },
  {
   "cell_type": "markdown",
   "metadata": {},
   "source": [
    "## 1.2 Set working directory"
   ]
  },
  {
   "cell_type": "code",
   "execution_count": 3,
   "metadata": {},
   "outputs": [],
   "source": [
    "#Set wd\n",
    "setwd(\"C:/Users/veren/github/ML_Project_Predict_Employee_Performance\")"
   ]
  },
  {
   "cell_type": "markdown",
   "metadata": {},
   "source": [
    "## 1.3 Load libraries\n",
    "To start, I will load all the libraries needed for this project. The libraries have been formerly installed and therefore are only called and not installed again."
   ]
  },
  {
   "cell_type": "code",
   "execution_count": 4,
   "metadata": {},
   "outputs": [
    {
     "name": "stderr",
     "output_type": "stream",
     "text": [
      "Loading required package: lattice\n",
      "Loading required package: ggplot2\n",
      "-- Attaching packages --------------------------------------- tidyverse 1.3.0 --\n",
      "v tibble  3.0.1     v dplyr   0.8.5\n",
      "v tidyr   1.0.3     v stringr 1.4.0\n",
      "v readr   1.3.1     v forcats 0.5.0\n",
      "v purrr   0.3.4     \n",
      "-- Conflicts ------------------------------------------ tidyverse_conflicts() --\n",
      "x dplyr::filter() masks stats::filter()\n",
      "x dplyr::lag()    masks stats::lag()\n",
      "x purrr::lift()   masks caret::lift()\n"
     ]
    }
   ],
   "source": [
    "library(caret)\n",
    "library(tidyverse)"
   ]
  },
  {
   "cell_type": "markdown",
   "metadata": {},
   "source": [
    "## 1.4 Import user-defined functions"
   ]
  },
  {
   "cell_type": "code",
   "execution_count": 5,
   "metadata": {},
   "outputs": [],
   "source": [
    "#Load functions\n",
    "load(\"03_Objects/ud_functions.RData\")"
   ]
  },
  {
   "cell_type": "markdown",
   "metadata": {},
   "source": [
    "## 1.5 Import workspace from modelling"
   ]
  },
  {
   "cell_type": "code",
   "execution_count": 6,
   "metadata": {},
   "outputs": [],
   "source": [
    "#Load functions\n",
    "load(\"03_Objects/modelling.RData\")"
   ]
  },
  {
   "cell_type": "markdown",
   "metadata": {},
   "source": [
    "# 2. Model comparison (data from CV)"
   ]
  },
  {
   "cell_type": "markdown",
   "metadata": {},
   "source": [
    "### 2.1 Define model list to be compared"
   ]
  },
  {
   "cell_type": "code",
   "execution_count": 7,
   "metadata": {},
   "outputs": [],
   "source": [
    "comp <- caret::resamples(list(NaiveBayes = ml_nb,\n",
    "                              LDA = ml_lda,\n",
    "                              RandomForest = ml_forest,\n",
    "                              NLSVM = ml_svmnl))"
   ]
  },
  {
   "cell_type": "markdown",
   "metadata": {},
   "source": [
    "### 2.2 Compare models"
   ]
  },
  {
   "cell_type": "code",
   "execution_count": 8,
   "metadata": {},
   "outputs": [
    {
     "data": {
      "text/plain": [
       "\n",
       "Call:\n",
       "summary.resamples(object = comp)\n",
       "\n",
       "Models: NaiveBayes, LDA, RandomForest, NLSVM \n",
       "Number of resamples: 100 \n",
       "\n",
       "Accuracy \n",
       "                  Min.   1st Qu.    Median      Mean   3rd Qu.      Max. NA's\n",
       "NaiveBayes   0.3157895 0.5730994 0.6315789 0.6386493 0.7222222 0.8947368    0\n",
       "LDA          0.3333333 0.5448529 0.6111111 0.6089962 0.6842105 0.8421053    0\n",
       "RandomForest 0.3888889 0.5789474 0.6583333 0.6513682 0.7222222 0.9411765    0\n",
       "NLSVM        0.3684211 0.5555556 0.6315789 0.6331933 0.7058824 0.8888889    0\n",
       "\n",
       "AUC \n",
       "                  Min.   1st Qu.    Median      Mean   3rd Qu.      Max. NA's\n",
       "NaiveBayes   0.6501246 0.7777252 0.8240004 0.8328104 0.8915153 0.9810847    0\n",
       "LDA          0.5971154 0.7705440 0.8223983 0.8157409 0.8780093 0.9412111    0\n",
       "RandomForest 0.6383230 0.7812018 0.8265472 0.8274277 0.8810452 0.9907407    0\n",
       "NLSVM        0.6073232 0.7644972 0.8032318 0.8058762 0.8623526 0.9457819    0\n",
       "\n",
       "Kappa \n",
       "                    Min.   1st Qu.    Median      Mean   3rd Qu.      Max. NA's\n",
       "NaiveBayes    0.02371542 0.3184826 0.4215913 0.4320037 0.5604220 0.8347826    0\n",
       "LDA          -0.05319149 0.2911184 0.3977273 0.3911994 0.5055185 0.7564103    0\n",
       "RandomForest  0.06250000 0.2957516 0.4365718 0.4238315 0.5193452 0.9028571    0\n",
       "NLSVM         0.02145923 0.2772043 0.4185606 0.4070630 0.5142857 0.8200000    0\n",
       "\n",
       "logLoss \n",
       "                  Min.   1st Qu.    Median      Mean   3rd Qu.     Max. NA's\n",
       "NaiveBayes   0.3154240 0.7123825 0.8990993 0.9740036 1.2193760 1.903522    0\n",
       "LDA          0.4842622 0.7250337 0.8920652 0.9092333 1.0639529 1.678595    0\n",
       "RandomForest 0.3608711 0.6149661 0.7145220 0.9408779 0.9044336 4.672372    0\n",
       "NLSVM        0.4231337 0.6753693 0.7966585 0.8105747 0.9165811 1.326778    0\n",
       "\n",
       "Mean_Balanced_Accuracy \n",
       "                  Min.   1st Qu.    Median      Mean   3rd Qu.      Max. NA's\n",
       "NaiveBayes   0.5388709 0.6780247 0.7402333 0.7419058 0.8143519 0.9386574    0\n",
       "LDA          0.4583333 0.6831845 0.7348642 0.7272546 0.7943452 0.9163462    0\n",
       "RandomForest 0.5048611 0.6643834 0.7243428 0.7286915 0.7979167 0.9703704    0\n",
       "NLSVM        0.5046296 0.6662984 0.7279837 0.7270399 0.7876891 0.9458333    0\n",
       "\n",
       "Mean_Detection_Rate \n",
       "                  Min.   1st Qu.    Median      Mean   3rd Qu.      Max. NA's\n",
       "NaiveBayes   0.1052632 0.1910331 0.2105263 0.2128831 0.2407407 0.2982456    0\n",
       "LDA          0.1111111 0.1816176 0.2037037 0.2029987 0.2280702 0.2807018    0\n",
       "RandomForest 0.1296296 0.1929825 0.2194444 0.2171227 0.2407407 0.3137255    0\n",
       "NLSVM        0.1228070 0.1851852 0.2105263 0.2110644 0.2352941 0.2962963    0\n",
       "\n",
       "Mean_F1 \n",
       "                  Min.   1st Qu.    Median      Mean   3rd Qu.      Max. NA's\n",
       "NaiveBayes   0.3882784 0.5480159 0.6206645 0.6272130 0.7088119 0.8884921    6\n",
       "LDA          0.3206349 0.5333333 0.5948718 0.5979431 0.6583710 0.8322021    7\n",
       "RandomForest 0.4111111 0.5723906 0.6464646 0.6473980 0.7166667 0.9137255   13\n",
       "NLSVM        0.3670034 0.5351852 0.6182540 0.6196171 0.6954248 0.8660256    5\n",
       "\n",
       "Mean_Neg_Pred_Value \n",
       "                  Min.   1st Qu.    Median      Mean   3rd Qu.      Max. NA's\n",
       "NaiveBayes   0.6919516 0.7713481 0.8119658 0.8124134 0.8515079 0.9444444    0\n",
       "LDA          0.6253968 0.7722222 0.8058972 0.8001755 0.8387999 0.9166667    0\n",
       "RandomForest 0.6698413 0.7659849 0.8112795 0.8078598 0.8430322 0.9629630    0\n",
       "NLSVM        0.6651682 0.7634139 0.8132730 0.8029165 0.8384645 0.9387255    0\n",
       "\n",
       "Mean_Pos_Pred_Value \n",
       "                  Min.   1st Qu.    Median      Mean   3rd Qu.      Max. NA's\n",
       "NaiveBayes   0.2444444 0.5555556 0.6222222 0.6234075 0.7166667 0.8750000    1\n",
       "LDA          0.2962963 0.5185185 0.6087121 0.6000635 0.6810516 0.8307692    0\n",
       "RandomForest 0.3571429 0.5638889 0.6484848 0.6408345 0.7222222 0.9444444    3\n",
       "NLSVM        0.3805556 0.5397080 0.6246032 0.6286079 0.7037037 0.9190476    0\n",
       "\n",
       "Mean_Precision \n",
       "                  Min.   1st Qu.    Median      Mean   3rd Qu.      Max. NA's\n",
       "NaiveBayes   0.2444444 0.5555556 0.6222222 0.6234075 0.7166667 0.8750000    1\n",
       "LDA          0.2962963 0.5185185 0.6087121 0.6000635 0.6810516 0.8307692    0\n",
       "RandomForest 0.3571429 0.5638889 0.6484848 0.6408345 0.7222222 0.9444444    3\n",
       "NLSVM        0.3805556 0.5397080 0.6246032 0.6286079 0.7037037 0.9190476    0\n",
       "\n",
       "Mean_Recall \n",
       "                  Min.   1st Qu.    Median      Mean   3rd Qu.      Max. NA's\n",
       "NaiveBayes   0.4047619 0.5861111 0.6748677 0.6715661 0.7694444 0.9259259    0\n",
       "LDA          0.2777778 0.5780423 0.6666667 0.6553016 0.7555556 0.9000000    0\n",
       "RandomForest 0.3222222 0.5666667 0.6539683 0.6524444 0.7503968 0.9629630    0\n",
       "NLSVM        0.3333333 0.5555556 0.6542328 0.6541270 0.7535714 0.9333333    0\n",
       "\n",
       "Mean_Sensitivity \n",
       "                  Min.   1st Qu.    Median      Mean   3rd Qu.      Max. NA's\n",
       "NaiveBayes   0.4047619 0.5861111 0.6748677 0.6715661 0.7694444 0.9259259    0\n",
       "LDA          0.2777778 0.5780423 0.6666667 0.6553016 0.7555556 0.9000000    0\n",
       "RandomForest 0.3222222 0.5666667 0.6539683 0.6524444 0.7503968 0.9629630    0\n",
       "NLSVM        0.3333333 0.5555556 0.6542328 0.6541270 0.7535714 0.9333333    0\n",
       "\n",
       "Mean_Specificity \n",
       "                  Min.   1st Qu.    Median      Mean   3rd Qu.      Max. NA's\n",
       "NaiveBayes   0.6517094 0.7718546 0.8120581 0.8122454 0.8611742 0.9513889    0\n",
       "LDA          0.6319444 0.7636574 0.8023903 0.7992076 0.8402778 0.9326923    0\n",
       "RandomForest 0.6777778 0.7587146 0.8055556 0.8049386 0.8376713 0.9777778    0\n",
       "NLSVM        0.6593661 0.7584135 0.8075499 0.7999529 0.8354482 0.9583333    0\n",
       "\n",
       "prAUC \n",
       "                  Min.   1st Qu.    Median      Mean   3rd Qu.      Max. NA's\n",
       "NaiveBayes   0.3371507 0.4706194 0.5342901 0.5402569 0.6014056 0.7813647    0\n",
       "LDA          0.3465486 0.4781713 0.5264327 0.5321274 0.5847136 0.6908724    0\n",
       "RandomForest 0.3201300 0.4907882 0.5485223 0.5469524 0.6006288 0.7738039    0\n",
       "NLSVM        0.3595355 0.4689833 0.5193906 0.5261541 0.5810461 0.7309306    0\n"
      ]
     },
     "metadata": {},
     "output_type": "display_data"
    }
   ],
   "source": [
    "#Summary\n",
    "summary(comp)"
   ]
  },
  {
   "cell_type": "code",
   "execution_count": 9,
   "metadata": {},
   "outputs": [
    {
     "data": {
      "image/png": "[encoded data removed]",
      "text/plain": [
       "plot without title"
      ]
     },
     "metadata": {},
     "output_type": "display_data"
    }
   ],
   "source": [
    "#Boxplots\n",
    "lattice::bwplot(comp, scales = list(x = list(relation = \"free\"), y = list(relation = \"free\")))"
   ]
  },
  {
   "cell_type": "code",
   "execution_count": 10,
   "metadata": {},
   "outputs": [
    {
     "data": {
      "text/html": [
       "<table>\n",
       "<caption>A matrix: 4 × 4 of type dbl</caption>\n",
       "<thead>\n",
       "\t<tr><th></th><th scope=col>NaiveBayes</th><th scope=col>LDA</th><th scope=col>RandomForest</th><th scope=col>NLSVM</th></tr>\n",
       "</thead>\n",
       "<tbody>\n",
       "\t<tr><th scope=row>NaiveBayes</th><td> 1.00</td><td>-0.15</td><td>-0.21</td><td>-0.01</td></tr>\n",
       "\t<tr><th scope=row>LDA</th><td>-0.15</td><td> 1.00</td><td> 0.12</td><td>-0.06</td></tr>\n",
       "\t<tr><th scope=row>RandomForest</th><td>-0.21</td><td> 0.12</td><td> 1.00</td><td>-0.17</td></tr>\n",
       "\t<tr><th scope=row>NLSVM</th><td>-0.01</td><td>-0.06</td><td>-0.17</td><td> 1.00</td></tr>\n",
       "</tbody>\n",
       "</table>\n"
      ],
      "text/latex": [
       "A matrix: 4 × 4 of type dbl\n",
       "\\begin{tabular}{r|llll}\n",
       "  & NaiveBayes & LDA & RandomForest & NLSVM\\\\\n",
       "\\hline\n",
       "\tNaiveBayes &  1.00 & -0.15 & -0.21 & -0.01\\\\\n",
       "\tLDA & -0.15 &  1.00 &  0.12 & -0.06\\\\\n",
       "\tRandomForest & -0.21 &  0.12 &  1.00 & -0.17\\\\\n",
       "\tNLSVM & -0.01 & -0.06 & -0.17 &  1.00\\\\\n",
       "\\end{tabular}\n"
      ],
      "text/markdown": [
       "\n",
       "A matrix: 4 × 4 of type dbl\n",
       "\n",
       "| <!--/--> | NaiveBayes | LDA | RandomForest | NLSVM |\n",
       "|---|---|---|---|---|\n",
       "| NaiveBayes |  1.00 | -0.15 | -0.21 | -0.01 |\n",
       "| LDA | -0.15 |  1.00 |  0.12 | -0.06 |\n",
       "| RandomForest | -0.21 |  0.12 |  1.00 | -0.17 |\n",
       "| NLSVM | -0.01 | -0.06 | -0.17 |  1.00 |\n",
       "\n"
      ],
      "text/plain": [
       "             NaiveBayes LDA   RandomForest NLSVM\n",
       "NaiveBayes    1.00      -0.15 -0.21        -0.01\n",
       "LDA          -0.15       1.00  0.12        -0.06\n",
       "RandomForest -0.21       0.12  1.00        -0.17\n",
       "NLSVM        -0.01      -0.06 -0.17         1.00"
      ]
     },
     "metadata": {},
     "output_type": "display_data"
    }
   ],
   "source": [
    "#Correlations between models\n",
    "round(caret::modelCor(comp),2)"
   ]
  },
  {
   "cell_type": "markdown",
   "metadata": {},
   "source": [
    "## 3. Pre-processing test data\n",
    "Steps for test (same steps as formerly done for train, except for deleting multivariate outliers through Mahalanobis' distance):\n",
    "1. Separate data into target and predictors\n",
    "2. One-Hot-Encoding for categorical predictors (not necessary here)\n",
    "3. Robust winsorizing of predictors (with robust z-values + MAD parameters from train) to adjust extreme univariate values (threshold alpha = .01)\n",
    "4. Re-integrate pre-processed predictors with target variable\n",
    "5. Use preProcess (parameters of train)"
   ]
  },
  {
   "cell_type": "code",
   "execution_count": 11,
   "metadata": {},
   "outputs": [],
   "source": [
    "#Save target separately\n",
    "target_test <- test_raw$performance\n",
    "test <- test_raw[, -1]"
   ]
  },
  {
   "cell_type": "code",
   "execution_count": 12,
   "metadata": {
    "scrolled": true
   },
   "outputs": [
    {
     "data": {
      "text/plain": [
       "    quality      service_orientation   innovation     organisation  \n",
       " Min.   :2.000   Min.   :2.000       Min.   :2.000   Min.   :2.000  \n",
       " 1st Qu.:3.000   1st Qu.:3.000       1st Qu.:3.000   1st Qu.:3.000  \n",
       " Median :4.000   Median :4.000       Median :3.000   Median :3.000  \n",
       " Mean   :3.558   Mean   :3.884       Mean   :3.326   Mean   :3.116  \n",
       " 3rd Qu.:4.000   3rd Qu.:4.000       3rd Qu.:4.000   3rd Qu.:4.000  \n",
       " Max.   :5.000   Max.   :5.000       Max.   :5.000   Max.   :5.000  \n",
       " problem_solving   curiosity     determination       analysis     \n",
       " Min.   :2.000   Min.   :0.500   Min.   :0.6800   Min.   :0.2700  \n",
       " 1st Qu.:3.000   1st Qu.:0.770   1st Qu.:0.7900   1st Qu.:0.5750  \n",
       " Median :3.000   Median :0.870   Median :0.9000   Median :0.6700  \n",
       " Mean   :3.535   Mean   :0.846   Mean   :0.8851   Mean   :0.7172  \n",
       " 3rd Qu.:4.000   3rd Qu.:0.935   3rd Qu.:1.0000   3rd Qu.:0.9250  \n",
       " Max.   :5.000   Max.   :1.000   Max.   :1.0000   Max.   :1.0000  \n",
       "  empowerment    \n",
       " Min.   :0.4800  \n",
       " 1st Qu.:0.8000  \n",
       " Median :0.9200  \n",
       " Mean   :0.8851  \n",
       " 3rd Qu.:1.0000  \n",
       " Max.   :1.0000  "
      ]
     },
     "metadata": {},
     "output_type": "display_data"
    }
   ],
   "source": [
    "#Process one-hot-encoding for categorical variables\n",
    "test <- as.data.frame(predict(dmy, test))\n",
    "\n",
    "summary(test)"
   ]
  },
  {
   "cell_type": "code",
   "execution_count": 13,
   "metadata": {
    "scrolled": true
   },
   "outputs": [
    {
     "data": {
      "text/plain": [
       "    quality      service_orientation   innovation     organisation  \n",
       " Min.   :2.000   Min.   :3.743       Min.   :2.743   Min.   :2.000  \n",
       " 1st Qu.:3.000   1st Qu.:3.743       1st Qu.:3.000   1st Qu.:3.000  \n",
       " Median :4.000   Median :4.000       Median :3.000   Median :3.000  \n",
       " Mean   :3.558   Mean   :3.976       Mean   :3.072   Mean   :3.116  \n",
       " 3rd Qu.:4.000   3rd Qu.:4.000       3rd Qu.:3.257   3rd Qu.:4.000  \n",
       " Max.   :5.000   Max.   :4.257       Max.   :3.257   Max.   :5.000  \n",
       " problem_solving   curiosity     determination       analysis     \n",
       " Min.   :2.000   Min.   :0.500   Min.   :0.7114   Min.   :0.2700  \n",
       " 1st Qu.:3.000   1st Qu.:0.770   1st Qu.:0.7900   1st Qu.:0.5750  \n",
       " Median :3.000   Median :0.870   Median :0.9000   Median :0.6700  \n",
       " Mean   :3.535   Mean   :0.846   Mean   :0.8859   Mean   :0.7172  \n",
       " 3rd Qu.:4.000   3rd Qu.:0.935   3rd Qu.:1.0000   3rd Qu.:0.9250  \n",
       " Max.   :5.000   Max.   :1.000   Max.   :1.0000   Max.   :1.0000  \n",
       "  empowerment    \n",
       " Min.   :0.7595  \n",
       " 1st Qu.:0.8000  \n",
       " Median :0.9200  \n",
       " Mean   :0.9011  \n",
       " 3rd Qu.:1.0000  \n",
       " Max.   :1.0000  "
      ]
     },
     "metadata": {},
     "output_type": "display_data"
    }
   ],
   "source": [
    "#Winsorizing (robust method with same median and mad parameters of train)\n",
    "test <- wins_rob(test, centers = centers_train, scales = scales_train)\n",
    "\n",
    "summary(test)"
   ]
  },
  {
   "cell_type": "code",
   "execution_count": 14,
   "metadata": {},
   "outputs": [],
   "source": [
    "#Re-integrate data with target\n",
    "test <- data.frame(performance = target_test, test)"
   ]
  },
  {
   "cell_type": "code",
   "execution_count": 15,
   "metadata": {},
   "outputs": [],
   "source": [
    "#Pre-process test (with the same parameters as train)\n",
    "test <- as.data.frame(predict(prep, test))"
   ]
  },
  {
   "cell_type": "code",
   "execution_count": 16,
   "metadata": {
    "scrolled": true
   },
   "outputs": [
    {
     "data": {
      "text/plain": [
       " performance    quality         service_orientation   innovation      \n",
       " C:15        Min.   :-2.11777   Min.   :-1.1626     Min.   :-1.86932  \n",
       " B:23        1st Qu.:-0.69550   1st Qu.:-1.1626     1st Qu.:-0.34369  \n",
       " A: 5        Median : 0.72676   Median : 0.3819     Median :-0.34369  \n",
       "             Mean   : 0.09832   Mean   : 0.2382     Mean   : 0.08207  \n",
       "             3rd Qu.: 0.72676   3rd Qu.: 0.3819     3rd Qu.: 1.18195  \n",
       "             Max.   : 2.14903   Max.   : 1.9264     Max.   : 1.18195  \n",
       "  organisation     problem_solving       curiosity        determination     \n",
       " Min.   :-1.6582   Min.   :-2.251706   Min.   :-2.48897   Min.   :-1.85485  \n",
       " 1st Qu.:-0.2880   1st Qu.:-0.779107   1st Qu.:-0.53267   1st Qu.:-1.08620  \n",
       " Median :-0.2880   Median :-0.779107   Median : 0.19189   Median :-0.01071  \n",
       " Mean   :-0.1287   Mean   : 0.008562   Mean   : 0.01833   Mean   :-0.14878  \n",
       " 3rd Qu.: 1.0821   3rd Qu.: 0.693491   3rd Qu.: 0.66285   3rd Qu.: 0.96701  \n",
       " Max.   : 2.4522   Max.   : 2.166090   Max.   : 1.13381   Max.   : 0.96701  \n",
       "    analysis        empowerment      \n",
       " Min.   :-2.4361   Min.   :-1.87414  \n",
       " 1st Qu.:-0.8906   1st Qu.:-1.40750  \n",
       " Median :-0.4093   Median :-0.02536  \n",
       " Mean   :-0.1700   Mean   :-0.24329  \n",
       " 3rd Qu.: 0.8828   3rd Qu.: 0.89607  \n",
       " Max.   : 1.2629   Max.   : 0.89607  "
      ]
     },
     "metadata": {},
     "output_type": "display_data"
    }
   ],
   "source": [
    "summary(test)"
   ]
  },
  {
   "cell_type": "code",
   "execution_count": 17,
   "metadata": {},
   "outputs": [
    {
     "data": {
      "text/html": [
       "FALSE"
      ],
      "text/latex": [
       "FALSE"
      ],
      "text/markdown": [
       "FALSE"
      ],
      "text/plain": [
       "[1] FALSE"
      ]
     },
     "metadata": {},
     "output_type": "display_data"
    }
   ],
   "source": [
    "anyNA(test)"
   ]
  },
  {
   "cell_type": "markdown",
   "metadata": {},
   "source": [
    "# 4. Model evaluation"
   ]
  },
  {
   "cell_type": "markdown",
   "metadata": {},
   "source": [
    "## 4.1 Naive Bayes"
   ]
  },
  {
   "cell_type": "markdown",
   "metadata": {},
   "source": [
    "### 4.1.1 Out of sample prediction (with test)"
   ]
  },
  {
   "cell_type": "code",
   "execution_count": 18,
   "metadata": {},
   "outputs": [],
   "source": [
    "#Predict test targets\n",
    "pred_nb <- as.ordered(caret::predict.train(ml_nb, newdata = test))"
   ]
  },
  {
   "cell_type": "code",
   "execution_count": 19,
   "metadata": {
    "scrolled": true
   },
   "outputs": [
    {
     "name": "stderr",
     "output_type": "stream",
     "text": [
      "Setting direction: controls < cases\n",
      "Setting direction: controls < cases\n",
      "Setting direction: controls < cases\n"
     ]
    },
    {
     "data": {
      "text/plain": [
       "\n",
       "Call:\n",
       "multiclass.roc.default(response = test$performance, predictor = pred_nb)\n",
       "\n",
       "Data: pred_nb with 3 levels of test$performance: C, B, A.\n",
       "Multi-class area under the curve: 0.9034"
      ]
     },
     "metadata": {},
     "output_type": "display_data"
    }
   ],
   "source": [
    "#ROC curve\n",
    "(roc_nb <- pROC::multiclass.roc(test$performance, pred_nb))"
   ]
  },
  {
   "cell_type": "code",
   "execution_count": 32,
   "metadata": {},
   "outputs": [
    {
     "data": {
      "text/plain": [
       "Confusion Matrix and Statistics\n",
       "\n",
       "          Reference\n",
       "Prediction  C  B  A\n",
       "         C  8  1  0\n",
       "         B  7 19  0\n",
       "         A  0  3  5\n",
       "\n",
       "Overall Statistics\n",
       "                                          \n",
       "               Accuracy : 0.7442          \n",
       "                 95% CI : (0.5883, 0.8648)\n",
       "    No Information Rate : 0.5349          \n",
       "    P-Value [Acc > NIR] : 0.003994        \n",
       "                                          \n",
       "                  Kappa : 0.5604          \n",
       "                                          \n",
       " Mcnemar's Test P-Value : NA              \n",
       "\n",
       "Statistics by Class:\n",
       "\n",
       "                     Class: C Class: B Class: A\n",
       "Sensitivity            0.5333   0.8261   1.0000\n",
       "Specificity            0.9643   0.6500   0.9211\n",
       "Pos Pred Value         0.8889   0.7308   0.6250\n",
       "Neg Pred Value         0.7941   0.7647   1.0000\n",
       "Precision              0.8889   0.7308   0.6250\n",
       "Recall                 0.5333   0.8261   1.0000\n",
       "F1                     0.6667   0.7755   0.7692\n",
       "Prevalence             0.3488   0.5349   0.1163\n",
       "Detection Rate         0.1860   0.4419   0.1163\n",
       "Detection Prevalence   0.2093   0.6047   0.1860\n",
       "Balanced Accuracy      0.7488   0.7380   0.9605"
      ]
     },
     "metadata": {},
     "output_type": "display_data"
    }
   ],
   "source": [
    "#Confusion Matrix\n",
    "cm_nb <- caret::confusionMatrix(reference = test$performance,\n",
    "                                data = pred_nb, \n",
    "                                mode = \"everything\", positive = \"A\")\n",
    "\n",
    "cm_nb"
   ]
  },
  {
   "cell_type": "markdown",
   "metadata": {},
   "source": [
    "### 4.1.2 Analyse false predictions"
   ]
  },
  {
   "cell_type": "code",
   "execution_count": 21,
   "metadata": {},
   "outputs": [
    {
     "data": {
      "text/html": [
       "<table>\n",
       "<caption>A data.frame: 11 × 7</caption>\n",
       "<thead>\n",
       "\t<tr><th scope=col>performance_pred_nb</th><th scope=col>performance</th><th scope=col>problem_solving</th><th scope=col>organisation</th><th scope=col>service_orientation</th><th scope=col>quality</th><th scope=col>innovation</th></tr>\n",
       "\t<tr><th scope=col>&lt;chr&gt;</th><th scope=col>&lt;chr&gt;</th><th scope=col>&lt;dbl&gt;</th><th scope=col>&lt;dbl&gt;</th><th scope=col>&lt;dbl&gt;</th><th scope=col>&lt;dbl&gt;</th><th scope=col>&lt;dbl&gt;</th></tr>\n",
       "</thead>\n",
       "<tbody>\n",
       "\t<tr><td>B</td><td>C</td><td>-0.7791074</td><td>-0.288038</td><td> 0.3818871</td><td> 0.7267628</td><td>-0.3436871</td></tr>\n",
       "\t<tr><td>B</td><td>C</td><td> 0.6934912</td><td>-1.658165</td><td> 0.3818871</td><td>-0.6955041</td><td>-0.3436871</td></tr>\n",
       "\t<tr><td>A</td><td>B</td><td> 0.6934912</td><td> 1.082089</td><td> 0.3818871</td><td> 0.7267628</td><td>-0.3436871</td></tr>\n",
       "\t<tr><td>B</td><td>C</td><td>-0.7791074</td><td>-0.288038</td><td> 0.3818871</td><td>-0.6955041</td><td>-0.3436871</td></tr>\n",
       "\t<tr><td>B</td><td>C</td><td>-0.7791074</td><td>-0.288038</td><td> 0.3818871</td><td> 0.7267628</td><td>-0.3436871</td></tr>\n",
       "\t<tr><td>B</td><td>C</td><td> 0.6934912</td><td>-0.288038</td><td> 1.9264083</td><td>-0.6955041</td><td>-0.3436871</td></tr>\n",
       "\t<tr><td>B</td><td>C</td><td>-2.2517061</td><td>-0.288038</td><td> 0.3818871</td><td> 0.7267628</td><td>-0.3436871</td></tr>\n",
       "\t<tr><td>A</td><td>B</td><td> 0.6934912</td><td> 1.082089</td><td> 0.3818871</td><td> 0.7267628</td><td>-0.3436871</td></tr>\n",
       "\t<tr><td>A</td><td>B</td><td> 0.6934912</td><td> 1.082089</td><td>-1.1626341</td><td> 2.1490296</td><td> 1.1819482</td></tr>\n",
       "\t<tr><td>C</td><td>B</td><td>-0.7791074</td><td>-0.288038</td><td>-1.1626341</td><td>-2.1177710</td><td>-0.3436871</td></tr>\n",
       "\t<tr><td>B</td><td>C</td><td>-0.7791074</td><td>-0.288038</td><td> 0.3818871</td><td> 0.7267628</td><td>-0.3436871</td></tr>\n",
       "</tbody>\n",
       "</table>\n"
      ],
      "text/latex": [
       "A data.frame: 11 × 7\n",
       "\\begin{tabular}{lllllll}\n",
       " performance\\_pred\\_nb & performance & problem\\_solving & organisation & service\\_orientation & quality & innovation\\\\\n",
       " <chr> & <chr> & <dbl> & <dbl> & <dbl> & <dbl> & <dbl>\\\\\n",
       "\\hline\n",
       "\t B & C & -0.7791074 & -0.288038 &  0.3818871 &  0.7267628 & -0.3436871\\\\\n",
       "\t B & C &  0.6934912 & -1.658165 &  0.3818871 & -0.6955041 & -0.3436871\\\\\n",
       "\t A & B &  0.6934912 &  1.082089 &  0.3818871 &  0.7267628 & -0.3436871\\\\\n",
       "\t B & C & -0.7791074 & -0.288038 &  0.3818871 & -0.6955041 & -0.3436871\\\\\n",
       "\t B & C & -0.7791074 & -0.288038 &  0.3818871 &  0.7267628 & -0.3436871\\\\\n",
       "\t B & C &  0.6934912 & -0.288038 &  1.9264083 & -0.6955041 & -0.3436871\\\\\n",
       "\t B & C & -2.2517061 & -0.288038 &  0.3818871 &  0.7267628 & -0.3436871\\\\\n",
       "\t A & B &  0.6934912 &  1.082089 &  0.3818871 &  0.7267628 & -0.3436871\\\\\n",
       "\t A & B &  0.6934912 &  1.082089 & -1.1626341 &  2.1490296 &  1.1819482\\\\\n",
       "\t C & B & -0.7791074 & -0.288038 & -1.1626341 & -2.1177710 & -0.3436871\\\\\n",
       "\t B & C & -0.7791074 & -0.288038 &  0.3818871 &  0.7267628 & -0.3436871\\\\\n",
       "\\end{tabular}\n"
      ],
      "text/markdown": [
       "\n",
       "A data.frame: 11 × 7\n",
       "\n",
       "| performance_pred_nb &lt;chr&gt; | performance &lt;chr&gt; | problem_solving &lt;dbl&gt; | organisation &lt;dbl&gt; | service_orientation &lt;dbl&gt; | quality &lt;dbl&gt; | innovation &lt;dbl&gt; |\n",
       "|---|---|---|---|---|---|---|\n",
       "| B | C | -0.7791074 | -0.288038 |  0.3818871 |  0.7267628 | -0.3436871 |\n",
       "| B | C |  0.6934912 | -1.658165 |  0.3818871 | -0.6955041 | -0.3436871 |\n",
       "| A | B |  0.6934912 |  1.082089 |  0.3818871 |  0.7267628 | -0.3436871 |\n",
       "| B | C | -0.7791074 | -0.288038 |  0.3818871 | -0.6955041 | -0.3436871 |\n",
       "| B | C | -0.7791074 | -0.288038 |  0.3818871 |  0.7267628 | -0.3436871 |\n",
       "| B | C |  0.6934912 | -0.288038 |  1.9264083 | -0.6955041 | -0.3436871 |\n",
       "| B | C | -2.2517061 | -0.288038 |  0.3818871 |  0.7267628 | -0.3436871 |\n",
       "| A | B |  0.6934912 |  1.082089 |  0.3818871 |  0.7267628 | -0.3436871 |\n",
       "| A | B |  0.6934912 |  1.082089 | -1.1626341 |  2.1490296 |  1.1819482 |\n",
       "| C | B | -0.7791074 | -0.288038 | -1.1626341 | -2.1177710 | -0.3436871 |\n",
       "| B | C | -0.7791074 | -0.288038 |  0.3818871 |  0.7267628 | -0.3436871 |\n",
       "\n"
      ],
      "text/plain": [
       "   performance_pred_nb performance problem_solving organisation\n",
       "1  B                   C           -0.7791074      -0.288038   \n",
       "2  B                   C            0.6934912      -1.658165   \n",
       "3  A                   B            0.6934912       1.082089   \n",
       "4  B                   C           -0.7791074      -0.288038   \n",
       "5  B                   C           -0.7791074      -0.288038   \n",
       "6  B                   C            0.6934912      -0.288038   \n",
       "7  B                   C           -2.2517061      -0.288038   \n",
       "8  A                   B            0.6934912       1.082089   \n",
       "9  A                   B            0.6934912       1.082089   \n",
       "10 C                   B           -0.7791074      -0.288038   \n",
       "11 B                   C           -0.7791074      -0.288038   \n",
       "   service_orientation quality    innovation\n",
       "1   0.3818871           0.7267628 -0.3436871\n",
       "2   0.3818871          -0.6955041 -0.3436871\n",
       "3   0.3818871           0.7267628 -0.3436871\n",
       "4   0.3818871          -0.6955041 -0.3436871\n",
       "5   0.3818871           0.7267628 -0.3436871\n",
       "6   1.9264083          -0.6955041 -0.3436871\n",
       "7   0.3818871           0.7267628 -0.3436871\n",
       "8   0.3818871           0.7267628 -0.3436871\n",
       "9  -1.1626341           2.1490296  1.1819482\n",
       "10 -1.1626341          -2.1177710 -0.3436871\n",
       "11  0.3818871           0.7267628 -0.3436871"
      ]
     },
     "metadata": {},
     "output_type": "display_data"
    }
   ],
   "source": [
    "test %>% \n",
    "  dplyr::mutate(performance = as.character(performance),\n",
    "         performance_pred_nb = as.character(pred_nb),\n",
    "         correct = case_when(\n",
    "           performance_pred_nb == performance ~ TRUE,\n",
    "           TRUE ~ FALSE)) %>% \n",
    "  dplyr::filter(correct == FALSE) %>% \n",
    "  dplyr::select(performance_pred_nb, performance, all_of(ml_nb$finalModel$varnames))"
   ]
  },
  {
   "cell_type": "markdown",
   "metadata": {},
   "source": [
    "## 4.2 Linear Discriminant Analysis"
   ]
  },
  {
   "cell_type": "markdown",
   "metadata": {},
   "source": [
    "### 4.2.1 Out of sample validity (for test)"
   ]
  },
  {
   "cell_type": "code",
   "execution_count": 44,
   "metadata": {},
   "outputs": [],
   "source": [
    "#Predict values of test\n",
    "pred_lda <- as.ordered(caret::predict.train(ml_lda, newdata = test))"
   ]
  },
  {
   "cell_type": "code",
   "execution_count": 23,
   "metadata": {},
   "outputs": [
    {
     "name": "stderr",
     "output_type": "stream",
     "text": [
      "Setting direction: controls < cases\n",
      "Setting direction: controls < cases\n",
      "Setting direction: controls < cases\n"
     ]
    },
    {
     "data": {
      "text/plain": [
       "\n",
       "Call:\n",
       "multiclass.roc.default(response = test$performance, predictor = pred_lda)\n",
       "\n",
       "Data: pred_lda with 3 levels of test$performance: C, B, A.\n",
       "Multi-class area under the curve: 0.9217"
      ]
     },
     "metadata": {},
     "output_type": "display_data"
    }
   ],
   "source": [
    "#ROC Curve\n",
    "(roc_lda <- pROC::multiclass.roc(test$performance, pred_lda))"
   ]
  },
  {
   "cell_type": "code",
   "execution_count": 33,
   "metadata": {},
   "outputs": [
    {
     "data": {
      "text/plain": [
       "Confusion Matrix and Statistics\n",
       "\n",
       "          Reference\n",
       "Prediction  C  B  A\n",
       "         C 11  1  0\n",
       "         B  4 17  0\n",
       "         A  0  5  5\n",
       "\n",
       "Overall Statistics\n",
       "                                          \n",
       "               Accuracy : 0.7674          \n",
       "                 95% CI : (0.6137, 0.8824)\n",
       "    No Information Rate : 0.5349          \n",
       "    P-Value [Acc > NIR] : 0.00144         \n",
       "                                          \n",
       "                  Kappa : 0.6215          \n",
       "                                          \n",
       " Mcnemar's Test P-Value : NA              \n",
       "\n",
       "Statistics by Class:\n",
       "\n",
       "                     Class: C Class: B Class: A\n",
       "Sensitivity            0.7333   0.7391   1.0000\n",
       "Specificity            0.9643   0.8000   0.8684\n",
       "Pos Pred Value         0.9167   0.8095   0.5000\n",
       "Neg Pred Value         0.8710   0.7273   1.0000\n",
       "Precision              0.9167   0.8095   0.5000\n",
       "Recall                 0.7333   0.7391   1.0000\n",
       "F1                     0.8148   0.7727   0.6667\n",
       "Prevalence             0.3488   0.5349   0.1163\n",
       "Detection Rate         0.2558   0.3953   0.1163\n",
       "Detection Prevalence   0.2791   0.4884   0.2326\n",
       "Balanced Accuracy      0.8488   0.7696   0.9342"
      ]
     },
     "metadata": {},
     "output_type": "display_data"
    }
   ],
   "source": [
    "#Confusion Matrix\n",
    "cm_lda <- caret::confusionMatrix(reference = test$performance,\n",
    "                                 data = pred_lda, \n",
    "                                 mode = \"everything\", positive = \"A\")\n",
    "\n",
    "cm_lda"
   ]
  },
  {
   "cell_type": "markdown",
   "metadata": {},
   "source": [
    "## 4.3 Random Forest"
   ]
  },
  {
   "cell_type": "markdown",
   "metadata": {},
   "source": [
    "### 4.3.1 Out of Sample validation"
   ]
  },
  {
   "cell_type": "code",
   "execution_count": 45,
   "metadata": {},
   "outputs": [],
   "source": [
    "#Predict values of test\n",
    "pred_forest <- as.ordered(caret::predict.train(ml_forest, newdata = test))"
   ]
  },
  {
   "cell_type": "code",
   "execution_count": 26,
   "metadata": {},
   "outputs": [
    {
     "name": "stderr",
     "output_type": "stream",
     "text": [
      "Setting direction: controls < cases\n",
      "Setting direction: controls < cases\n",
      "Setting direction: controls < cases\n"
     ]
    },
    {
     "data": {
      "text/plain": [
       "\n",
       "Call:\n",
       "multiclass.roc.default(response = test$performance, predictor = pred_forest)\n",
       "\n",
       "Data: pred_forest with 3 levels of test$performance: C, B, A.\n",
       "Multi-class area under the curve: 0.8691"
      ]
     },
     "metadata": {},
     "output_type": "display_data"
    }
   ],
   "source": [
    "#ROC Curve\n",
    "(roc_forest <- pROC::multiclass.roc(test$performance, pred_forest))"
   ]
  },
  {
   "cell_type": "code",
   "execution_count": 34,
   "metadata": {},
   "outputs": [
    {
     "data": {
      "text/plain": [
       "Confusion Matrix and Statistics\n",
       "\n",
       "          Reference\n",
       "Prediction  C  B  A\n",
       "         C 10  5  0\n",
       "         B  4 14  0\n",
       "         A  1  4  5\n",
       "\n",
       "Overall Statistics\n",
       "                                          \n",
       "               Accuracy : 0.6744          \n",
       "                 95% CI : (0.5146, 0.8092)\n",
       "    No Information Rate : 0.5349          \n",
       "    P-Value [Acc > NIR] : 0.04509         \n",
       "                                          \n",
       "                  Kappa : 0.481           \n",
       "                                          \n",
       " Mcnemar's Test P-Value : 0.16384         \n",
       "\n",
       "Statistics by Class:\n",
       "\n",
       "                     Class: C Class: B Class: A\n",
       "Sensitivity            0.6667   0.6087   1.0000\n",
       "Specificity            0.8214   0.8000   0.8684\n",
       "Pos Pred Value         0.6667   0.7778   0.5000\n",
       "Neg Pred Value         0.8214   0.6400   1.0000\n",
       "Precision              0.6667   0.7778   0.5000\n",
       "Recall                 0.6667   0.6087   1.0000\n",
       "F1                     0.6667   0.6829   0.6667\n",
       "Prevalence             0.3488   0.5349   0.1163\n",
       "Detection Rate         0.2326   0.3256   0.1163\n",
       "Detection Prevalence   0.3488   0.4186   0.2326\n",
       "Balanced Accuracy      0.7440   0.7043   0.9342"
      ]
     },
     "metadata": {},
     "output_type": "display_data"
    }
   ],
   "source": [
    "#Confusion Matrix\n",
    "cm_forest <- caret::confusionMatrix(reference = test$performance,\n",
    "                                    data = pred_forest, \n",
    "                                    mode = \"everything\", positive = \"A\")\n",
    "\n",
    "cm_forest"
   ]
  },
  {
   "cell_type": "markdown",
   "metadata": {},
   "source": [
    "## 4.4 Non-Linear Support Vector Machines"
   ]
  },
  {
   "cell_type": "markdown",
   "metadata": {},
   "source": [
    "### 4.4.1 Out of Sample validation"
   ]
  },
  {
   "cell_type": "code",
   "execution_count": 46,
   "metadata": {},
   "outputs": [],
   "source": [
    "#Predict values of test\n",
    "pred_svmnl <- as.ordered(caret::predict.train(ml_svmnl, newdata = test))"
   ]
  },
  {
   "cell_type": "code",
   "execution_count": 29,
   "metadata": {},
   "outputs": [
    {
     "name": "stderr",
     "output_type": "stream",
     "text": [
      "Setting direction: controls < cases\n",
      "Setting direction: controls < cases\n",
      "Setting direction: controls < cases\n"
     ]
    },
    {
     "data": {
      "text/plain": [
       "\n",
       "Call:\n",
       "multiclass.roc.default(response = test$performance, predictor = pred_svmnl)\n",
       "\n",
       "Data: pred_svmnl with 3 levels of test$performance: C, B, A.\n",
       "Multi-class area under the curve: 0.8937"
      ]
     },
     "metadata": {},
     "output_type": "display_data"
    }
   ],
   "source": [
    "#ROC Curve\n",
    "(roc_svmnl <- pROC::multiclass.roc(test$performance, pred_svmnl))"
   ]
  },
  {
   "cell_type": "code",
   "execution_count": 35,
   "metadata": {},
   "outputs": [
    {
     "data": {
      "text/plain": [
       "Confusion Matrix and Statistics\n",
       "\n",
       "          Reference\n",
       "Prediction  C  B  A\n",
       "         C 10  5  0\n",
       "         B  5 15  0\n",
       "         A  0  3  5\n",
       "\n",
       "Overall Statistics\n",
       "                                          \n",
       "               Accuracy : 0.6977          \n",
       "                 95% CI : (0.5387, 0.8282)\n",
       "    No Information Rate : 0.5349          \n",
       "    P-Value [Acc > NIR] : 0.0222          \n",
       "                                          \n",
       "                  Kappa : 0.5027          \n",
       "                                          \n",
       " Mcnemar's Test P-Value : NA              \n",
       "\n",
       "Statistics by Class:\n",
       "\n",
       "                     Class: C Class: B Class: A\n",
       "Sensitivity            0.6667   0.6522   1.0000\n",
       "Specificity            0.8214   0.7500   0.9211\n",
       "Pos Pred Value         0.6667   0.7500   0.6250\n",
       "Neg Pred Value         0.8214   0.6522   1.0000\n",
       "Precision              0.6667   0.7500   0.6250\n",
       "Recall                 0.6667   0.6522   1.0000\n",
       "F1                     0.6667   0.6977   0.7692\n",
       "Prevalence             0.3488   0.5349   0.1163\n",
       "Detection Rate         0.2326   0.3488   0.1163\n",
       "Detection Prevalence   0.3488   0.4651   0.1860\n",
       "Balanced Accuracy      0.7440   0.7011   0.9605"
      ]
     },
     "metadata": {},
     "output_type": "display_data"
    }
   ],
   "source": [
    "#Confusion Matrix\n",
    "cm_svmnl <- caret::confusionMatrix(reference = test$performance,\n",
    "                                   data = pred_svmnl, \n",
    "                                   mode = \"everything\", positive = \"A\")\n",
    "\n",
    "cm_svmnl"
   ]
  },
  {
   "cell_type": "markdown",
   "metadata": {},
   "source": [
    "## 4.5 Comparative Analysis of Out-Of-Sample Validity\n",
    "\n",
    "In this last step, I will sum up the most important statistics referring to the compared models' out-of-sample validity metrics. First, I will take all models' Kappas into account. Kappa forms a good starting point for model comparison as it gives us an understanding of how well each model does in comparison to just guessing the classes (any value greater than 0 means it does better than the guessing base line model). Afterwards, I will take a look at some Class A performance metrics. **Class A refers to the best performance class - and, in recruitment, we are usually most interested in identifying our top future talents**. Precisely, I will consider:\n",
    "\n",
    "- **Class A F1**: The F1 metric is more appropriate for imbalanced data sets than accuracy alone. Precisely, the F1 score combines the precision and recall metrics for each class into a single score.\n",
    "- **Class A specificity**: Additionally, I will look at the specificty of Class A. This performance marker is paramount for our project context as it reflects what percentage of actual Class B or C candidates have been correctly classified as \"non Class A performers\" (as opposed to having been falsely classified as Class A performers). Therefore, for any recruiter, a model that only classifies actual top performers as such is most helpful."
   ]
  },
  {
   "cell_type": "markdown",
   "metadata": {},
   "source": [
    "### 4.5.1 Overview of Out-of-Sample Validity"
   ]
  },
  {
   "cell_type": "code",
   "execution_count": 40,
   "metadata": {},
   "outputs": [
    {
     "data": {
      "text/html": [
       "<table>\n",
       "<caption>A data.frame: 4 × 4</caption>\n",
       "<thead>\n",
       "\t<tr><th scope=col>Model</th><th scope=col>Kappa</th><th scope=col>Class_a_f1</th><th scope=col>Class_a_specifity</th></tr>\n",
       "\t<tr><th scope=col>&lt;fct&gt;</th><th scope=col>&lt;dbl&gt;</th><th scope=col>&lt;dbl&gt;</th><th scope=col>&lt;dbl&gt;</th></tr>\n",
       "</thead>\n",
       "<tbody>\n",
       "\t<tr><td>NB    </td><td>0.56</td><td>0.77</td><td>0.92</td></tr>\n",
       "\t<tr><td>LDA   </td><td>0.62</td><td>0.67</td><td>0.87</td></tr>\n",
       "\t<tr><td>RF    </td><td>0.48</td><td>0.67</td><td>0.87</td></tr>\n",
       "\t<tr><td>NL_SVM</td><td>0.50</td><td>0.77</td><td>0.92</td></tr>\n",
       "</tbody>\n",
       "</table>\n"
      ],
      "text/latex": [
       "A data.frame: 4 × 4\n",
       "\\begin{tabular}{llll}\n",
       " Model & Kappa & Class\\_a\\_f1 & Class\\_a\\_specifity\\\\\n",
       " <fct> & <dbl> & <dbl> & <dbl>\\\\\n",
       "\\hline\n",
       "\t NB     & 0.56 & 0.77 & 0.92\\\\\n",
       "\t LDA    & 0.62 & 0.67 & 0.87\\\\\n",
       "\t RF     & 0.48 & 0.67 & 0.87\\\\\n",
       "\t NL\\_SVM & 0.50 & 0.77 & 0.92\\\\\n",
       "\\end{tabular}\n"
      ],
      "text/markdown": [
       "\n",
       "A data.frame: 4 × 4\n",
       "\n",
       "| Model &lt;fct&gt; | Kappa &lt;dbl&gt; | Class_a_f1 &lt;dbl&gt; | Class_a_specifity &lt;dbl&gt; |\n",
       "|---|---|---|---|\n",
       "| NB     | 0.56 | 0.77 | 0.92 |\n",
       "| LDA    | 0.62 | 0.67 | 0.87 |\n",
       "| RF     | 0.48 | 0.67 | 0.87 |\n",
       "| NL_SVM | 0.50 | 0.77 | 0.92 |\n",
       "\n"
      ],
      "text/plain": [
       "  Model  Kappa Class_a_f1 Class_a_specifity\n",
       "1 NB     0.56  0.77       0.92             \n",
       "2 LDA    0.62  0.67       0.87             \n",
       "3 RF     0.48  0.67       0.87             \n",
       "4 NL_SVM 0.50  0.77       0.92             "
      ]
     },
     "metadata": {},
     "output_type": "display_data"
    }
   ],
   "source": [
    "comp_oos <- data.frame(Model = c(\"NB\", \"LDA\", \"RF\", \"NL_SVM\"),\n",
    "                       Kappa = c(cm_nb$overall[\"Kappa\"],\n",
    "                                 cm_lda$overall[\"Kappa\"],\n",
    "                                 cm_forest$overall[\"Kappa\"],\n",
    "                                 cm_svmnl$overall[\"Kappa\"]),\n",
    "                       Class_a_f1 = c(cm_nb$byClass[3,7],\n",
    "                                      cm_lda$byClass[3,7],\n",
    "                                      cm_forest$byClass[3,7],\n",
    "                                      cm_svmnl$byClass[3,7]),\n",
    "                       Class_a_specifity = c(cm_nb$byClass[3,2],\n",
    "                                             cm_lda$byClass[3,2],\n",
    "                                             cm_forest$byClass[3,2],\n",
    "                                             cm_svmnl$byClass[3,2]))\n",
    "\n",
    "comp_oos <- mutate_if(comp_oos, is.numeric, ~round(., 2))\n",
    "\n",
    "comp_oos"
   ]
  },
  {
   "cell_type": "code",
   "execution_count": 42,
   "metadata": {},
   "outputs": [
    {
     "data": {
      "image/png": "[encoded data removed]",
      "text/plain": [
       "plot without title"
      ]
     },
     "metadata": {},
     "output_type": "display_data"
    }
   ],
   "source": [
    "comp_oos2 <- tidyr::pivot_longer(comp_oos, cols=names(comp_oos[2:4]), names_to = \"Metric\", \n",
    "values_to = \"Value\")\n",
    "\n",
    "\n",
    "ggplot(comp_oos2, aes(x = Model, y = Value, fill = Metric)) +\n",
    "    geom_bar(stat='identity', position='dodge') + coord_flip()"
   ]
  },
  {
   "cell_type": "markdown",
   "metadata": {},
   "source": [
    "### 4.5.2 Conclusion\n",
    "\n",
    "After plotting our three chosen metrics for each of the four models, we can observe that in terms of Kappa, LDA has reached the highest value (~ .62). However, taking into account the Class A metrics, Non-Linear Support Vector Machines and Naive Bayes made for the better candidates.\n",
    "\n",
    "As mentioned, in our project context we want to focus on a good performance especially for Class A predictions. Also - as parsimony of predictors is paramount to this project - comparing NLSVM and NB, the latter model needed far fewer predictor variables (just 5, as opposed to all possible 11 predictors in NLSVM) to reach a comparable performance outcome.\n",
    "\n",
    "To conclude, in this case I would go ahead with **Naive Bayes as it shows decent model performance after selecting just a small number of all predictors**. Choosing this model will serve our two main project objectives:\n",
    "\n",
    "1. Select the most meaningful predictors amongst a predictor pool (which, in the real project, would be much more extended than depicted here) to streamline the recruitment process.\n",
    "2. Make class predictions for a big number of job candidates based on previous benchmark modelling, and focusing mainly on the goodness of prediction model for the predicted Class A performers (as these candidates are the most likely to be selected into the company)."
   ]
  },
  {
   "cell_type": "markdown",
   "metadata": {},
   "source": [
    "# 5. Save workspace\n",
    "To use the workspace in a different notebook, I will save it as an R object to be able to import it into other notebooks."
   ]
  },
  {
   "cell_type": "code",
   "execution_count": 31,
   "metadata": {},
   "outputs": [],
   "source": [
    "save.image(file = \"03_Objects/model_evaluation.RData\")"
   ]
  }
 ],
 "metadata": {
  "kernelspec": {
   "display_name": "R",
   "language": "R",
   "name": "ir"
  },
  "language_info": {
   "codemirror_mode": "r",
   "file_extension": ".r",
   "mimetype": "text/x-r-source",
   "name": "R",
   "pygments_lexer": "r",
   "version": "3.6.1"
  }
 },
 "nbformat": 4,
 "nbformat_minor": 4
}
