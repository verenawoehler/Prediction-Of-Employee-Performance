{
 "cells": [
  {
   "cell_type": "markdown",
   "metadata": {},
   "source": [
    "# 0. Introduction\n",
    "## 0.1 Purpose of the project\n",
    "*For a complete explanation of the project, please first refer to the README.txt and EXECUTIVE_SUMMARY.txt files available from the project folder.*\n",
    "\n",
    "In this project, I work on **predicting future employee performance through competency measures collected during the standardised interviewing process**. The overall goal was to analyse which competencies work well as predictors, thus possibly **making the interviewing process more efficient** by deleting questions that tap into behaviours which are non-critical for the job at hand.\n",
    "\n",
    "This is a win-win on part of both the employer and the employee: The employer can save time and money spent on interviewing the candidates, and increases the predictive validity of their personnel selection procedures. This leads to employees that are more suitable and potentially stay longer with the company, saving more opportunity costs. On the other hand, employees can showcase what they are best at and, as a substantial body of research in I-O-Psychology suggests, usually feel more engaged and satisfied in roles that match their skills better.\n",
    "\n",
    "My intention behind uploading this and the following notebooks is to demonstrate a business case for People Analytics, and why the need for HR data scientists might rise in the future. I will show how **ML can render insights from even small samples and few predictors**, and how data professionals can help make HR more evidence-based on the long run.\n",
    "\n",
    "\n",
    "## 0.2 Section objectives\n",
    "This first notebook demonstrates the process of screening and cleaning the data, as much as the exploratory data analysis of the dataset. Usually, I would separate those two steps but for this very small and straightforward dataset, I summarised them in just one notebook."
   ]
  },
  {
   "cell_type": "markdown",
   "metadata": {},
   "source": [
    "# 1. Prepare the work environment"
   ]
  },
  {
   "cell_type": "markdown",
   "metadata": {},
   "source": [
    "## 1.1 Set general options"
   ]
  },
  {
   "cell_type": "code",
   "execution_count": 1,
   "metadata": {},
   "outputs": [],
   "source": [
    "#General options\n",
    "options(scipen = 999,\n",
    "        readr.num_columns = 0,\n",
    "        warn = -1)"
   ]
  },
  {
   "cell_type": "markdown",
   "metadata": {},
   "source": [
    "## 1.2 Set working directory"
   ]
  },
  {
   "cell_type": "code",
   "execution_count": 2,
   "metadata": {},
   "outputs": [],
   "source": [
    "#Set wd\n",
    "setwd(\"C:/Users/veren/github/ML_Project_Predict_Employee_Performance\")"
   ]
  },
  {
   "cell_type": "markdown",
   "metadata": {},
   "source": [
    "## 1.3 Load libraries\n",
    "To start, I will load all the libraries needed for this project. The libraries have been formerly installed and therefore are only called and not installed again."
   ]
  },
  {
   "cell_type": "code",
   "execution_count": 3,
   "metadata": {},
   "outputs": [
    {
     "name": "stderr",
     "output_type": "stream",
     "text": [
      "Loading required package: lattice\n",
      "Loading required package: ggplot2\n",
      "-- Attaching packages --------------------------------------- tidyverse 1.3.0 --\n",
      "v tibble  3.0.1     v dplyr   0.8.5\n",
      "v tidyr   1.0.3     v stringr 1.4.0\n",
      "v readr   1.3.1     v forcats 0.5.0\n",
      "v purrr   0.3.4     \n",
      "-- Conflicts ------------------------------------------ tidyverse_conflicts() --\n",
      "x dplyr::filter() masks stats::filter()\n",
      "x dplyr::lag()    masks stats::lag()\n",
      "x purrr::lift()   masks caret::lift()\n"
     ]
    }
   ],
   "source": [
    "library(caret)\n",
    "library(tidyverse)"
   ]
  },
  {
   "cell_type": "markdown",
   "metadata": {},
   "source": [
    "## 1.4 Import user-defined functions"
   ]
  },
  {
   "cell_type": "code",
   "execution_count": 4,
   "metadata": {},
   "outputs": [],
   "source": [
    "#Load functions\n",
    "load(\"03_Objects/ud_functions.RData\")"
   ]
  },
  {
   "cell_type": "markdown",
   "metadata": {},
   "source": [
    "# 2. Load database"
   ]
  },
  {
   "cell_type": "code",
   "execution_count": 5,
   "metadata": {},
   "outputs": [],
   "source": [
    "#Save database\n",
    "perf <- read.csv(\"01_Data/performance.csv\")"
   ]
  },
  {
   "cell_type": "markdown",
   "metadata": {},
   "source": [
    "# 3. Data screening and cleaning\n",
    "As mentioned above, usually, data screening and cleaning is one of the exercises that takes up most of a data scientist's time, and this has also been true for the majority of my past projects. However in this project, the clean-up is very short as I am working on a fabricated, simplified database as explained and the respective README.\n",
    "\n",
    "In the future, I mean to upload a real-life project which is majorly concerned with the cleaning, screening and EDA part of the data."
   ]
  },
  {
   "cell_type": "code",
   "execution_count": 6,
   "metadata": {
    "scrolled": true
   },
   "outputs": [
    {
     "data": {
      "text/plain": [
       "    quality      service_orientation   innovation     organisation  \n",
       " Min.   :2.000   Min.   :2.000       Min.   :1.000   Min.   :2.000  \n",
       " 1st Qu.:3.000   1st Qu.:3.000       1st Qu.:3.000   1st Qu.:3.000  \n",
       " Median :3.000   Median :4.000       Median :3.000   Median :3.000  \n",
       " Mean   :3.502   Mean   :3.742       Mean   :3.249   Mean   :3.192  \n",
       " 3rd Qu.:4.000   3rd Qu.:4.000       3rd Qu.:4.000   3rd Qu.:4.000  \n",
       " Max.   :5.000   Max.   :5.000       Max.   :5.000   Max.   :5.000  \n",
       "                                                     NA's   :6      \n",
       " problem_solving   curiosity      determination       analysis     \n",
       " Min.   :2.00    Min.   :0.4553   Min.   :0.5398   Min.   :0.2095  \n",
       " 1st Qu.:3.00    1st Qu.:0.7535   1st Qu.:0.8178   1st Qu.:0.5954  \n",
       " Median :4.00    Median :0.8698   Median :0.9280   Median :0.7475  \n",
       " Mean   :3.53    Mean   :0.8440   Mean   :0.8951   Mean   :0.7445  \n",
       " 3rd Qu.:4.00    3rd Qu.:0.9706   3rd Qu.:1.0000   3rd Qu.:0.9233  \n",
       " Max.   :5.00    Max.   :1.0000   Max.   :1.0000   Max.   :1.0000  \n",
       " NA's   :10                                                        \n",
       "  empowerment     performance\n",
       " Min.   :0.4823   A: 29      \n",
       " 1st Qu.:0.8493   B:118      \n",
       " Median :0.9420   C: 78      \n",
       " Mean   :0.9095              \n",
       " 3rd Qu.:1.0000              \n",
       " Max.   :1.0000              \n",
       "                             "
      ]
     },
     "metadata": {},
     "output_type": "display_data"
    }
   ],
   "source": [
    "summary(perf)"
   ]
  },
  {
   "cell_type": "code",
   "execution_count": 7,
   "metadata": {},
   "outputs": [],
   "source": [
    "#Put target variable first and convert into ordered factor\n",
    "perf <- perf %>%\n",
    "  dplyr::select(performance, quality:empowerment) %>% \n",
    "  mutate(performance = ordered(performance, levels = c(\"C\", \"B\", \"A\")))"
   ]
  },
  {
   "cell_type": "code",
   "execution_count": 8,
   "metadata": {},
   "outputs": [
    {
     "data": {
      "text/html": [
       "<style>\n",
       ".dl-inline {width: auto; margin:0; padding: 0}\n",
       ".dl-inline>dt, .dl-inline>dd {float: none; width: auto; display: inline-block}\n",
       ".dl-inline>dt::after {content: \":\\0020\"; padding-right: .5ex}\n",
       ".dl-inline>dt:not(:first-of-type) {padding-left: .5ex}\n",
       "</style><dl class=dl-inline><dt>C</dt><dd>78</dd><dt>B</dt><dd>118</dd><dt>A</dt><dd>29</dd></dl>\n"
      ],
      "text/latex": [
       "\\begin{description*}\n",
       "\\item[C] 78\n",
       "\\item[B] 118\n",
       "\\item[A] 29\n",
       "\\end{description*}\n"
      ],
      "text/markdown": [
       "C\n",
       ":   78B\n",
       ":   118A\n",
       ":   29\n",
       "\n"
      ],
      "text/plain": [
       "  C   B   A \n",
       " 78 118  29 "
      ]
     },
     "metadata": {},
     "output_type": "display_data"
    }
   ],
   "source": [
    "summary(perf$performance)"
   ]
  },
  {
   "cell_type": "code",
   "execution_count": 9,
   "metadata": {},
   "outputs": [],
   "source": [
    "#Round all numerics to two decimals\n",
    "perf <- perf %>% \n",
    "  mutate_if(is.numeric, ~round(., 2))"
   ]
  },
  {
   "cell_type": "markdown",
   "metadata": {},
   "source": [
    "# 4. EDA\n",
    "An exploratory data analysis is a good way to deepen the understanding of a dataset.\n",
    "What I want to do is first understand every variable by itself, meaning to review their histograms, means, sd, ranges (numeric variables) or frequencies and levels (categorical variables) and describing missing or extreme values.\n",
    "\n",
    "Thereafter, I will go on to bi- and multivariate analysis like correlations and multicollinearity, and how each predictor is related to the target variable.\n",
    "\n",
    "**Note that** in this step, we will NOT perform any data transformation just yet. Any transformation which might be affected by statistics that are specific to this dataset (e.g. means, variances) will be done during pre-processing to avoid tempering with the test dataset which will be used during out-of-sample validation."
   ]
  },
  {
   "cell_type": "markdown",
   "metadata": {},
   "source": [
    "## 4.1 Summary"
   ]
  },
  {
   "cell_type": "code",
   "execution_count": 10,
   "metadata": {
    "scrolled": true
   },
   "outputs": [
    {
     "name": "stdout",
     "output_type": "stream",
     "text": [
      "-- Data Summary ------------------------\n",
      "                           Values\n",
      "Name                       perf  \n",
      "Number of rows             225   \n",
      "Number of columns          10    \n",
      "_______________________          \n",
      "Column type frequency:           \n",
      "  factor                   1     \n",
      "  numeric                  9     \n",
      "________________________         \n",
      "Group variables            None  \n",
      "\n",
      "-- Variable type: factor -------------------------------------------------------\n",
      "# A tibble: 1 x 6\n",
      "  skim_variable n_missing complete_rate ordered n_unique top_counts          \n",
      "* <chr>             <int>         <dbl> <lgl>      <int> <chr>               \n",
      "1 performance           0             1 TRUE           3 B: 118, C: 78, A: 29\n",
      "\n",
      "-- Variable type: numeric ------------------------------------------------------\n",
      "# A tibble: 9 x 11\n",
      "  skim_variable       n_missing complete_rate  mean    sd    p0   p25   p50\n",
      "* <chr>                   <int>         <dbl> <dbl> <dbl> <dbl> <dbl> <dbl>\n",
      "1 quality                     0         1     3.50  0.702  2     3     3   \n",
      "2 service_orientation         0         1     3.74  0.729  2     3     4   \n",
      "3 innovation                  0         1     3.25  0.682  1     3     3   \n",
      "4 organisation                6         0.973 3.19  0.736  2     3     3   \n",
      "5 problem_solving            10         0.956 3.53  0.696  2     3     4   \n",
      "6 curiosity                   0         1     0.844 0.136  0.46  0.75  0.87\n",
      "7 determination               0         1     0.895 0.109  0.54  0.82  0.93\n",
      "8 analysis                    0         1     0.744 0.199  0.21  0.6   0.75\n",
      "9 empowerment                 0         1     0.910 0.108  0.48  0.85  0.94\n",
      "    p75  p100 hist \n",
      "* <dbl> <dbl> <chr>\n",
      "1  4        5 <U+2581><U+2587><U+2581><U+2587><U+2581>\n",
      "2  4        5 <U+2581><U+2585><U+2581><U+2587><U+2582>\n",
      "3  4        5 <U+2581><U+2582><U+2587><U+2585><U+2581>\n",
      "4  4        5 <U+2583><U+2587><U+2581><U+2585><U+2581>\n",
      "5  4        5 <U+2581><U+2587><U+2581><U+2587><U+2581>\n",
      "6  0.97     1 <U+2581><U+2582><U+2583><U+2585><U+2587>\n",
      "7  1        1 <U+2581><U+2581><U+2582><U+2583><U+2587>\n",
      "8  0.92     1 <U+2581><U+2582><U+2586><U+2585><U+2587>\n",
      "9  1        1 <U+2581><U+2581><U+2582><U+2582><U+2587>\n"
     ]
    }
   ],
   "source": [
    "skimr::skim(perf)"
   ]
  },
  {
   "cell_type": "markdown",
   "metadata": {},
   "source": [
    "As can be observed, 5 of the predictors (up until problem-solving) have ranges from 1 to 5, and 4 predictors (from curiosity) range from 0 to 1. This is because the first predictors are actual competency measures, while the last ones are measures of future potential. \n",
    "\n",
    "This finding gives us a hint that it is probably a good idea to normalise the data before feeding them into any ML model to avoid issues caused by different variances.\n",
    "\n",
    "Also, the target variable seems to be imbalanced (only few employees got awarded an A). Imbalanced datasets may cause problems for some algorithms as overrepresented classes might be given more importance than the underrepresented ones. However, as we are mainly interested in which competencies convert a candidate into a potential A-performer, we definitely have to address imbalance in the later modelling phase."
   ]
  },
  {
   "cell_type": "code",
   "execution_count": 11,
   "metadata": {},
   "outputs": [
    {
     "name": "stdout",
     "output_type": "stream",
     "text": [
      "Rows: 225\n",
      "Columns: 10\n",
      "$ performance         <ord> A, B, B, C, C, C, B, C, C, B, C, B, B, C, B, B,...\n",
      "$ quality             <dbl> 4, 3, 4, 3, 2, 3, 4, 4, 3, 4, 3, 3, 3, 3, 3, 3,...\n",
      "$ service_orientation <dbl> 4, 3, 4, 3, 2, 3, 5, 4, 2, 5, 4, 4, 4, 3, 5, 5,...\n",
      "$ innovation          <dbl> 2, 3, 4, 3, 4, 3, 4, 3, 2, 2, 2, 4, 2, 2, 3, 3,...\n",
      "$ organisation        <dbl> 4, 3, 2, 3, 3, 3, 5, 2, 2, 3, 2, 4, 3, 2, 3, 3,...\n",
      "$ problem_solving     <dbl> 4, 4, 4, 3, 3, 3, 4, 4, 3, 4, 3, 4, 3, 3, 3, NA...\n",
      "$ curiosity           <dbl> 0.94, 0.60, 1.00, 0.96, 0.74, 1.00, 0.71, 0.94,...\n",
      "$ determination       <dbl> 0.71, 0.90, 0.92, 1.00, 1.00, 0.79, 1.00, 0.77,...\n",
      "$ analysis            <dbl> 0.88, 0.60, 1.00, 0.87, 0.93, 1.00, 0.55, 0.99,...\n",
      "$ empowerment         <dbl> 0.69, 0.86, 0.92, 1.00, 0.75, 0.96, 0.94, 0.81,...\n"
     ]
    }
   ],
   "source": [
    "glimpse(perf)"
   ]
  },
  {
   "cell_type": "markdown",
   "metadata": {},
   "source": [
    "From both output cells above, we can tell that most of the predictors are highly skewed. In this case, it is best practice to either transform the data (e.g. log-transformation), or use robust methods during pre-processing (which will be further explained in the next notebook)."
   ]
  },
  {
   "cell_type": "markdown",
   "metadata": {},
   "source": [
    "## 4.2 Histograms of variables and bivariate correlations"
   ]
  },
  {
   "cell_type": "markdown",
   "metadata": {},
   "source": [
    "A first glimpse at the correlations and scatterplots shows that many of the predictors are highly intercorrelated, and also highly correlated with the target variable.\n",
    "\n",
    "**Note: We cannot tell at this point whether this finding is caused by methodological artefact (e.g. competency and performance measures taken by the same person, biased attitudes towards the employees after the selection process, etc). However, it is very important to keep this curiosity in mind and critically address it with the company, as correlations above and beyond .40 are scarcely found in controlled predictive validity studies where psychometrics are used as predictors.**"
   ]
  },
  {
   "cell_type": "code",
   "execution_count": 12,
   "metadata": {
    "scrolled": true
   },
   "outputs": [
    {
     "data": {
      "image/png": "[encoded data removed]",
      "text/plain": [
       "Plot with title \"\""
      ]
     },
     "metadata": {},
     "output_type": "display_data"
    }
   ],
   "source": [
    "#Diagram with all variables\n",
    "PerformanceAnalytics::chart.Correlation(mutate(perf, performance = as.integer(performance)))"
   ]
  },
  {
   "cell_type": "markdown",
   "metadata": {},
   "source": [
    "## 4.3 Missing values"
   ]
  },
  {
   "cell_type": "code",
   "execution_count": 13,
   "metadata": {
    "scrolled": true
   },
   "outputs": [
    {
     "data": {
      "text/html": [
       "TRUE"
      ],
      "text/latex": [
       "TRUE"
      ],
      "text/markdown": [
       "TRUE"
      ],
      "text/plain": [
       "[1] TRUE"
      ]
     },
     "metadata": {},
     "output_type": "display_data"
    }
   ],
   "source": [
    "#There are missing values\n",
    "anyNA(perf)"
   ]
  },
  {
   "cell_type": "code",
   "execution_count": 14,
   "metadata": {},
   "outputs": [
    {
     "data": {
      "text/html": [
       "<table>\n",
       "<caption>A data.frame: 10 × 1</caption>\n",
       "<thead>\n",
       "\t<tr><th></th><th scope=col>percent_missing</th></tr>\n",
       "\t<tr><th></th><th scope=col>&lt;dbl&gt;</th></tr>\n",
       "</thead>\n",
       "<tbody>\n",
       "\t<tr><th scope=row>performance</th><td>0.00</td></tr>\n",
       "\t<tr><th scope=row>quality</th><td>0.00</td></tr>\n",
       "\t<tr><th scope=row>service_orientation</th><td>0.00</td></tr>\n",
       "\t<tr><th scope=row>innovation</th><td>0.00</td></tr>\n",
       "\t<tr><th scope=row>organisation</th><td>2.67</td></tr>\n",
       "\t<tr><th scope=row>problem_solving</th><td>4.44</td></tr>\n",
       "\t<tr><th scope=row>curiosity</th><td>0.00</td></tr>\n",
       "\t<tr><th scope=row>determination</th><td>0.00</td></tr>\n",
       "\t<tr><th scope=row>analysis</th><td>0.00</td></tr>\n",
       "\t<tr><th scope=row>empowerment</th><td>0.00</td></tr>\n",
       "</tbody>\n",
       "</table>\n"
      ],
      "text/latex": [
       "A data.frame: 10 × 1\n",
       "\\begin{tabular}{r|l}\n",
       "  & percent\\_missing\\\\\n",
       "  & <dbl>\\\\\n",
       "\\hline\n",
       "\tperformance & 0.00\\\\\n",
       "\tquality & 0.00\\\\\n",
       "\tservice\\_orientation & 0.00\\\\\n",
       "\tinnovation & 0.00\\\\\n",
       "\torganisation & 2.67\\\\\n",
       "\tproblem\\_solving & 4.44\\\\\n",
       "\tcuriosity & 0.00\\\\\n",
       "\tdetermination & 0.00\\\\\n",
       "\tanalysis & 0.00\\\\\n",
       "\tempowerment & 0.00\\\\\n",
       "\\end{tabular}\n"
      ],
      "text/markdown": [
       "\n",
       "A data.frame: 10 × 1\n",
       "\n",
       "| <!--/--> | percent_missing &lt;dbl&gt; |\n",
       "|---|---|\n",
       "| performance | 0.00 |\n",
       "| quality | 0.00 |\n",
       "| service_orientation | 0.00 |\n",
       "| innovation | 0.00 |\n",
       "| organisation | 2.67 |\n",
       "| problem_solving | 4.44 |\n",
       "| curiosity | 0.00 |\n",
       "| determination | 0.00 |\n",
       "| analysis | 0.00 |\n",
       "| empowerment | 0.00 |\n",
       "\n"
      ],
      "text/plain": [
       "                    percent_missing\n",
       "performance         0.00           \n",
       "quality             0.00           \n",
       "service_orientation 0.00           \n",
       "innovation          0.00           \n",
       "organisation        2.67           \n",
       "problem_solving     4.44           \n",
       "curiosity           0.00           \n",
       "determination       0.00           \n",
       "analysis            0.00           \n",
       "empowerment         0.00           "
      ]
     },
     "metadata": {},
     "output_type": "display_data"
    }
   ],
   "source": [
    "#Percentage of missing values in each variable\n",
    "data.frame(percent_missing = round(colMeans(is.na(perf)*100),2))"
   ]
  },
  {
   "cell_type": "markdown",
   "metadata": {},
   "source": [
    "There are only very few missing values in the dataset. With a percentage of less than 5% missing values on any given predictor variable, we can impute the missing values during the pre-processing phase, for example using the KNN method."
   ]
  },
  {
   "cell_type": "markdown",
   "metadata": {},
   "source": [
    "## 4.4 Extreme values"
   ]
  },
  {
   "cell_type": "markdown",
   "metadata": {},
   "source": [
    "From the boxplots, we can observe that the competency measures (scale 1 to 5) are less skewed than the potential measures (scale 0 to 1). A possible explanation might be that potential is typically measured asking hypothetical questions ('What would you do if ....?'), as opposed to situational questions prompting the candidates to describe how they *actually* reacted ('Tell me about a situation when you had to ...'). Hypothetical questions leave more opportunities for the candidates to give socially desirable answers (although these might not necessarily reflect candidates' actual behaviours), thus potentially leading to mostly high ratings.\n",
    "\n",
    "It is natural that the more skewed predictors show more outliers, too. As mentioned above, we will not delete outliers as they seem to be legitimte data points after all (within the possible range) and the problem has rather been caused by range restriction (see README.txt for an in-depth explanation). Instead, we will use robust methods as far as possible to address skewed predictors."
   ]
  },
  {
   "cell_type": "code",
   "execution_count": 16,
   "metadata": {},
   "outputs": [
    {
     "name": "stdout",
     "output_type": "stream",
     "text": [
      "NULL\n"
     ]
    },
    {
     "data": {
      "image/png": "[encoded data removed]",
      "text/plain": [
       "plot without title"
      ]
     },
     "metadata": {},
     "output_type": "display_data"
    }
   ],
   "source": [
    "#Boxplots of competencies\n",
    "perf_boxplots <- list()\n",
    "for(i in 2:ncol(perf)){\n",
    "  col <- names(perf)[i]\n",
    "  ggp <- ggplot(perf, aes_string(x = col)) +\n",
    "    geom_boxplot(fill = \"red\")\n",
    "  perf_boxplots[[i]] <- ggp\n",
    "}\n",
    "\n",
    "multiplot(plotlist = perf_boxplots, cols = 2)"
   ]
  },
  {
   "cell_type": "markdown",
   "metadata": {},
   "source": [
    "z-values are a good metric to review the magnitude of extreme values. In a two-tailed hypothesis, a z-value of +-2.57 is indicative of a value that falls into the most extreme percentile of the sample. A z-value of +-3.29 means that a total of only 0.2 percent of the population obtain a value that is even more extreme.\n",
    "\n",
    "The z-values of our predictors confirm our former observations. Many of the predictors have negative skew. The long tail (fewer values making for a flat curve of the distribution) is to the lower end of the scales, meaning that most candidates who are later selected for their jobs obtain quite favourable ratings during the interview, and some lower values were possibly compensated for by high ratings on the other dimensions, or even measures not observable from the dataset that worked in favour of those persons."
   ]
  },
  {
   "cell_type": "code",
   "execution_count": 17,
   "metadata": {
    "scrolled": true
   },
   "outputs": [
    {
     "data": {
      "text/plain": [
       "      quality.V1      service_orientation.V1   innovation.V1   \n",
       " Min.   :-2.1412683   Min.   :-2.3898183     Min.   :-3.29948  \n",
       " 1st Qu.:-0.7158678   1st Qu.:-1.0181114     1st Qu.:-0.36516  \n",
       " Median :-0.7158678   Median : 0.3535956     Median :-0.36516  \n",
       " Mean   : 0.0000000   Mean   : 0.0000000     Mean   : 0.00000  \n",
       " 3rd Qu.: 0.7095327   3rd Qu.: 0.3535956     3rd Qu.: 1.10200  \n",
       " Max.   : 2.1349332   Max.   : 1.7253025     Max.   : 2.56916  \n",
       "                                                               \n",
       "   organisation.V1   problem_solving.V1      curiosity.V1    \n",
       " Min.   :-1.620259   Min.   :-2.199794   Min.   :-2.8165712  \n",
       " 1st Qu.:-0.260731   1st Qu.:-0.762239   1st Qu.:-0.6894732  \n",
       " Median :-0.260731   Median : 0.675317   Median : 0.1907053  \n",
       " Mean   : 0.000000   Mean   : 0.000000   Mean   : 0.0000000  \n",
       " 3rd Qu.: 1.098796   3rd Qu.: 0.675317   3rd Qu.: 0.9241874  \n",
       " Max.   : 2.458324   Max.   : 2.112872   Max.   : 1.1442320  \n",
       " NA's   :6           NA's   :10                              \n",
       "  determination.V1       analysis.V1        empowerment.V1   \n",
       " Min.   :-3.258710   Min.   :-2.6889185   Min.   :-3.992138  \n",
       " 1st Qu.:-0.688299   1st Qu.:-0.7264083   1st Qu.:-0.554911  \n",
       " Median : 0.321505   Median : 0.0284033   Median : 0.281171  \n",
       " Mean   : 0.000000   Mean   : 0.0000000   Mean   : 0.000000  \n",
       " 3rd Qu.: 0.964108   3rd Qu.: 0.8838564   3rd Qu.: 0.838559  \n",
       " Max.   : 0.964108   Max.   : 1.2864226   Max.   : 0.838559  \n",
       "                                                             "
      ]
     },
     "metadata": {},
     "output_type": "display_data"
    }
   ],
   "source": [
    "#z-values\n",
    "perf[-1] %>% \n",
    "  mutate_all(~scale(.)) %>% \n",
    "  summary()"
   ]
  },
  {
   "cell_type": "markdown",
   "metadata": {},
   "source": [
    "## 4.5 Correlational Analysis"
   ]
  },
  {
   "cell_type": "code",
   "execution_count": 18,
   "metadata": {},
   "outputs": [
    {
     "data": {
      "text/html": [
       "<table>\n",
       "<caption>A matrix: 10 × 10 of type dbl</caption>\n",
       "<thead>\n",
       "\t<tr><th></th><th scope=col>performance</th><th scope=col>quality</th><th scope=col>service_orientation</th><th scope=col>innovation</th><th scope=col>organisation</th><th scope=col>problem_solving</th><th scope=col>curiosity</th><th scope=col>determination</th><th scope=col>analysis</th><th scope=col>empowerment</th></tr>\n",
       "</thead>\n",
       "<tbody>\n",
       "\t<tr><th scope=row>performance</th><td>1.00</td><td>0.50</td><td>0.48</td><td>0.46</td><td>0.59</td><td>0.59</td><td>0.20</td><td>0.18</td><td>0.10</td><td>0.07</td></tr>\n",
       "\t<tr><th scope=row>quality</th><td>0.50</td><td>1.00</td><td>0.38</td><td>0.34</td><td>0.41</td><td>0.46</td><td>0.22</td><td>0.13</td><td>0.14</td><td>0.03</td></tr>\n",
       "\t<tr><th scope=row>service_orientation</th><td>0.48</td><td>0.38</td><td>1.00</td><td>0.32</td><td>0.42</td><td>0.47</td><td>0.25</td><td>0.29</td><td>0.08</td><td>0.18</td></tr>\n",
       "\t<tr><th scope=row>innovation</th><td>0.46</td><td>0.34</td><td>0.32</td><td>1.00</td><td>0.38</td><td>0.39</td><td>0.16</td><td>0.28</td><td>0.24</td><td>0.14</td></tr>\n",
       "\t<tr><th scope=row>organisation</th><td>0.59</td><td>0.41</td><td>0.42</td><td>0.38</td><td>1.00</td><td>0.40</td><td>0.22</td><td>0.28</td><td>0.08</td><td>0.24</td></tr>\n",
       "\t<tr><th scope=row>problem_solving</th><td>0.59</td><td>0.46</td><td>0.47</td><td>0.39</td><td>0.40</td><td>1.00</td><td>0.31</td><td>0.30</td><td>0.25</td><td>0.11</td></tr>\n",
       "\t<tr><th scope=row>curiosity</th><td>0.20</td><td>0.22</td><td>0.25</td><td>0.16</td><td>0.22</td><td>0.31</td><td>1.00</td><td>0.47</td><td>0.41</td><td>0.42</td></tr>\n",
       "\t<tr><th scope=row>determination</th><td>0.18</td><td>0.13</td><td>0.29</td><td>0.28</td><td>0.28</td><td>0.30</td><td>0.47</td><td>1.00</td><td>0.25</td><td>0.51</td></tr>\n",
       "\t<tr><th scope=row>analysis</th><td>0.10</td><td>0.14</td><td>0.08</td><td>0.24</td><td>0.08</td><td>0.25</td><td>0.41</td><td>0.25</td><td>1.00</td><td>0.13</td></tr>\n",
       "\t<tr><th scope=row>empowerment</th><td>0.07</td><td>0.03</td><td>0.18</td><td>0.14</td><td>0.24</td><td>0.11</td><td>0.42</td><td>0.51</td><td>0.13</td><td>1.00</td></tr>\n",
       "</tbody>\n",
       "</table>\n"
      ],
      "text/latex": [
       "A matrix: 10 × 10 of type dbl\n",
       "\\begin{tabular}{r|llllllllll}\n",
       "  & performance & quality & service\\_orientation & innovation & organisation & problem\\_solving & curiosity & determination & analysis & empowerment\\\\\n",
       "\\hline\n",
       "\tperformance & 1.00 & 0.50 & 0.48 & 0.46 & 0.59 & 0.59 & 0.20 & 0.18 & 0.10 & 0.07\\\\\n",
       "\tquality & 0.50 & 1.00 & 0.38 & 0.34 & 0.41 & 0.46 & 0.22 & 0.13 & 0.14 & 0.03\\\\\n",
       "\tservice\\_orientation & 0.48 & 0.38 & 1.00 & 0.32 & 0.42 & 0.47 & 0.25 & 0.29 & 0.08 & 0.18\\\\\n",
       "\tinnovation & 0.46 & 0.34 & 0.32 & 1.00 & 0.38 & 0.39 & 0.16 & 0.28 & 0.24 & 0.14\\\\\n",
       "\torganisation & 0.59 & 0.41 & 0.42 & 0.38 & 1.00 & 0.40 & 0.22 & 0.28 & 0.08 & 0.24\\\\\n",
       "\tproblem\\_solving & 0.59 & 0.46 & 0.47 & 0.39 & 0.40 & 1.00 & 0.31 & 0.30 & 0.25 & 0.11\\\\\n",
       "\tcuriosity & 0.20 & 0.22 & 0.25 & 0.16 & 0.22 & 0.31 & 1.00 & 0.47 & 0.41 & 0.42\\\\\n",
       "\tdetermination & 0.18 & 0.13 & 0.29 & 0.28 & 0.28 & 0.30 & 0.47 & 1.00 & 0.25 & 0.51\\\\\n",
       "\tanalysis & 0.10 & 0.14 & 0.08 & 0.24 & 0.08 & 0.25 & 0.41 & 0.25 & 1.00 & 0.13\\\\\n",
       "\tempowerment & 0.07 & 0.03 & 0.18 & 0.14 & 0.24 & 0.11 & 0.42 & 0.51 & 0.13 & 1.00\\\\\n",
       "\\end{tabular}\n"
      ],
      "text/markdown": [
       "\n",
       "A matrix: 10 × 10 of type dbl\n",
       "\n",
       "| <!--/--> | performance | quality | service_orientation | innovation | organisation | problem_solving | curiosity | determination | analysis | empowerment |\n",
       "|---|---|---|---|---|---|---|---|---|---|---|\n",
       "| performance | 1.00 | 0.50 | 0.48 | 0.46 | 0.59 | 0.59 | 0.20 | 0.18 | 0.10 | 0.07 |\n",
       "| quality | 0.50 | 1.00 | 0.38 | 0.34 | 0.41 | 0.46 | 0.22 | 0.13 | 0.14 | 0.03 |\n",
       "| service_orientation | 0.48 | 0.38 | 1.00 | 0.32 | 0.42 | 0.47 | 0.25 | 0.29 | 0.08 | 0.18 |\n",
       "| innovation | 0.46 | 0.34 | 0.32 | 1.00 | 0.38 | 0.39 | 0.16 | 0.28 | 0.24 | 0.14 |\n",
       "| organisation | 0.59 | 0.41 | 0.42 | 0.38 | 1.00 | 0.40 | 0.22 | 0.28 | 0.08 | 0.24 |\n",
       "| problem_solving | 0.59 | 0.46 | 0.47 | 0.39 | 0.40 | 1.00 | 0.31 | 0.30 | 0.25 | 0.11 |\n",
       "| curiosity | 0.20 | 0.22 | 0.25 | 0.16 | 0.22 | 0.31 | 1.00 | 0.47 | 0.41 | 0.42 |\n",
       "| determination | 0.18 | 0.13 | 0.29 | 0.28 | 0.28 | 0.30 | 0.47 | 1.00 | 0.25 | 0.51 |\n",
       "| analysis | 0.10 | 0.14 | 0.08 | 0.24 | 0.08 | 0.25 | 0.41 | 0.25 | 1.00 | 0.13 |\n",
       "| empowerment | 0.07 | 0.03 | 0.18 | 0.14 | 0.24 | 0.11 | 0.42 | 0.51 | 0.13 | 1.00 |\n",
       "\n"
      ],
      "text/plain": [
       "                    performance quality service_orientation innovation\n",
       "performance         1.00        0.50    0.48                0.46      \n",
       "quality             0.50        1.00    0.38                0.34      \n",
       "service_orientation 0.48        0.38    1.00                0.32      \n",
       "innovation          0.46        0.34    0.32                1.00      \n",
       "organisation        0.59        0.41    0.42                0.38      \n",
       "problem_solving     0.59        0.46    0.47                0.39      \n",
       "curiosity           0.20        0.22    0.25                0.16      \n",
       "determination       0.18        0.13    0.29                0.28      \n",
       "analysis            0.10        0.14    0.08                0.24      \n",
       "empowerment         0.07        0.03    0.18                0.14      \n",
       "                    organisation problem_solving curiosity determination\n",
       "performance         0.59         0.59            0.20      0.18         \n",
       "quality             0.41         0.46            0.22      0.13         \n",
       "service_orientation 0.42         0.47            0.25      0.29         \n",
       "innovation          0.38         0.39            0.16      0.28         \n",
       "organisation        1.00         0.40            0.22      0.28         \n",
       "problem_solving     0.40         1.00            0.31      0.30         \n",
       "curiosity           0.22         0.31            1.00      0.47         \n",
       "determination       0.28         0.30            0.47      1.00         \n",
       "analysis            0.08         0.25            0.41      0.25         \n",
       "empowerment         0.24         0.11            0.42      0.51         \n",
       "                    analysis empowerment\n",
       "performance         0.10     0.07       \n",
       "quality             0.14     0.03       \n",
       "service_orientation 0.08     0.18       \n",
       "innovation          0.24     0.14       \n",
       "organisation        0.08     0.24       \n",
       "problem_solving     0.25     0.11       \n",
       "curiosity           0.41     0.42       \n",
       "determination       0.25     0.51       \n",
       "analysis            1.00     0.13       \n",
       "empowerment         0.13     1.00       "
      ]
     },
     "metadata": {},
     "output_type": "display_data"
    }
   ],
   "source": [
    "#Correlations between predictors\n",
    "round(cor(mutate(perf, performance = as.integer(performance)),\n",
    "          use = \"complete.obs\"), 2)"
   ]
  },
  {
   "cell_type": "markdown",
   "metadata": {},
   "source": [
    "The correlational analysis shows that the competency measures (namely 'quality awareness', 'service orientation', 'innovation', 'organisation' and 'problem-solving') are more highly related to the target variable then the potential measures ('curiosity', 'determination', 'analysis' and 'empowerment'). Possibly because the potential measures are not as important for customer service employees as the competency measures, or because of the issue raised above concerning the measurement method used (hypothetical questions). \n",
    "\n",
    "**Especially organisation and problem-solving are highly correlated to later on-the-job performance, giving us a hint about features that might work very well in any given ML algorithm.**\n",
    "\n",
    "A minor concern are the correlations between different predictors, which is why we check for multicollinearity in the next step."
   ]
  },
  {
   "cell_type": "code",
   "execution_count": 19,
   "metadata": {},
   "outputs": [
    {
     "data": {
      "image/png": "[encoded data removed]",
      "text/plain": [
       "Plot with title \"\""
      ]
     },
     "metadata": {},
     "output_type": "display_data"
    }
   ],
   "source": [
    "corrplot::corrplot.mixed(corr = cor(mutate(perf, performance = as.integer(performance)),\n",
    "                                           use = \"complete.obs\"), upper = \"shade\")"
   ]
  },
  {
   "cell_type": "markdown",
   "metadata": {},
   "source": [
    "The predictors' Variance Inflation Factors are a good method to check for possible multicollinearity. This is a phenomenon that occurs when predictors are too highly correlated, and may cause problems for some ML algorithms (especially the less robust ones). Additionally, on a practical consideration also, multicollinearity is not desirable as we try to single out the best predictors to evetually streamline the interviewing process.\n",
    "\n",
    "Multicollinearity does not seem to be of major concern here, as none of the factors show values >= 10. We can therefore keep all of the predictors in the pool for feature selection."
   ]
  },
  {
   "cell_type": "code",
   "execution_count": 20,
   "metadata": {},
   "outputs": [
    {
     "data": {
      "text/html": [
       "<table>\n",
       "<caption>A data.frame: 9 × 1</caption>\n",
       "<thead>\n",
       "\t<tr><th></th><th scope=col>usual_vif</th></tr>\n",
       "\t<tr><th></th><th scope=col>&lt;dbl&gt;</th></tr>\n",
       "</thead>\n",
       "<tbody>\n",
       "\t<tr><th scope=row>quality</th><td>1.462199</td></tr>\n",
       "\t<tr><th scope=row>service_orientation</th><td>1.486032</td></tr>\n",
       "\t<tr><th scope=row>innovation</th><td>1.374019</td></tr>\n",
       "\t<tr><th scope=row>organisation</th><td>1.493630</td></tr>\n",
       "\t<tr><th scope=row>problem_solving</th><td>1.655279</td></tr>\n",
       "\t<tr><th scope=row>curiosity</th><td>1.644401</td></tr>\n",
       "\t<tr><th scope=row>determination</th><td>1.647001</td></tr>\n",
       "\t<tr><th scope=row>analysis</th><td>1.295705</td></tr>\n",
       "\t<tr><th scope=row>empowerment</th><td>1.491580</td></tr>\n",
       "</tbody>\n",
       "</table>\n"
      ],
      "text/latex": [
       "A data.frame: 9 × 1\n",
       "\\begin{tabular}{r|l}\n",
       "  & usual\\_vif\\\\\n",
       "  & <dbl>\\\\\n",
       "\\hline\n",
       "\tquality & 1.462199\\\\\n",
       "\tservice\\_orientation & 1.486032\\\\\n",
       "\tinnovation & 1.374019\\\\\n",
       "\torganisation & 1.493630\\\\\n",
       "\tproblem\\_solving & 1.655279\\\\\n",
       "\tcuriosity & 1.644401\\\\\n",
       "\tdetermination & 1.647001\\\\\n",
       "\tanalysis & 1.295705\\\\\n",
       "\tempowerment & 1.491580\\\\\n",
       "\\end{tabular}\n"
      ],
      "text/markdown": [
       "\n",
       "A data.frame: 9 × 1\n",
       "\n",
       "| <!--/--> | usual_vif &lt;dbl&gt; |\n",
       "|---|---|\n",
       "| quality | 1.462199 |\n",
       "| service_orientation | 1.486032 |\n",
       "| innovation | 1.374019 |\n",
       "| organisation | 1.493630 |\n",
       "| problem_solving | 1.655279 |\n",
       "| curiosity | 1.644401 |\n",
       "| determination | 1.647001 |\n",
       "| analysis | 1.295705 |\n",
       "| empowerment | 1.491580 |\n",
       "\n"
      ],
      "text/plain": [
       "                    usual_vif\n",
       "quality             1.462199 \n",
       "service_orientation 1.486032 \n",
       "innovation          1.374019 \n",
       "organisation        1.493630 \n",
       "problem_solving     1.655279 \n",
       "curiosity           1.644401 \n",
       "determination       1.647001 \n",
       "analysis            1.295705 \n",
       "empowerment         1.491580 "
      ]
     },
     "metadata": {},
     "output_type": "display_data"
    }
   ],
   "source": [
    "#Check for multicollinearity: Variance Inflation Factors (VIF) should be < 10\n",
    "data.frame(usual_vif = car::vif(lm(as.integer(performance) ~ ., data = perf)))"
   ]
  },
  {
   "cell_type": "markdown",
   "metadata": {},
   "source": [
    "## 4.6 Predictors grouped by target variable\n",
    "\n",
    "Grouped graphs are a very helpful visualisation in categorisation tasks as they underscore possible associations between predictors and targets.\n",
    "\n",
    "As observable from the graphs below, organisation and problem-solving are confirmed as potentially strong predictors of performance. Quality, service-orientation and innovation might also make for good candidates as high values on these predictors seem to be related to higher performance ratings later on."
   ]
  },
  {
   "cell_type": "code",
   "execution_count": 21,
   "metadata": {},
   "outputs": [
    {
     "data": {
      "image/png": "[encoded data removed]",
      "text/plain": [
       "plot without title"
      ]
     },
     "metadata": {},
     "output_type": "display_data"
    }
   ],
   "source": [
    "#Grouped boxplots\n",
    "caret::featurePlot(x = perf[, -1], \n",
    "                   y = perf$performance, \n",
    "                   plot = \"box\",\n",
    "                   strip = strip.custom(par.strip.text = list(cex = .7)),\n",
    "                   scales = list(x = list(relation = \"free\"), \n",
    "                                 y = list(relation = \"free\")),\n",
    "                   auto.key = list(columns = 3))"
   ]
  },
  {
   "cell_type": "code",
   "execution_count": 22,
   "metadata": {},
   "outputs": [
    {
     "data": {
      "image/png": "[encoded data removed]",
      "text/plain": [
       "plot without title"
      ]
     },
     "metadata": {},
     "output_type": "display_data"
    }
   ],
   "source": [
    "#Grouped density plots\n",
    "caret::featurePlot(x = perf[, -1], \n",
    "                   y = perf$performance, \n",
    "                   plot = \"density\",\n",
    "                   strip = strip.custom(par.strip.text = list(cex = .7)),\n",
    "                   scales = list(x = list(relation = \"free\"), \n",
    "                                 y = list(relation = \"free\")),\n",
    "                   auto.key = list(columns = 3))"
   ]
  },
  {
   "cell_type": "markdown",
   "metadata": {},
   "source": [
    "## 4.7 Importance of variables as predictors (generic method)\n",
    "\n",
    "The filterVarImp function from the caret framework provides an easy method to estimate the importance of each predictor in (non-)linear models. In multi-class classification, importance is based on maximum pair-wise AUC.\n",
    "\n",
    "The output confirms our conclusions from the EDA so far."
   ]
  },
  {
   "cell_type": "code",
   "execution_count": 23,
   "metadata": {
    "scrolled": true
   },
   "outputs": [
    {
     "data": {
      "text/html": [
       "<table>\n",
       "<caption>A data.frame: 9 × 4</caption>\n",
       "<thead>\n",
       "\t<tr><th scope=col>rowname</th><th scope=col>C</th><th scope=col>B</th><th scope=col>A</th></tr>\n",
       "\t<tr><th scope=col>&lt;chr&gt;</th><th scope=col>&lt;dbl&gt;</th><th scope=col>&lt;dbl&gt;</th><th scope=col>&lt;dbl&gt;</th></tr>\n",
       "</thead>\n",
       "<tbody>\n",
       "\t<tr><td>organisation       </td><td>0.9047303</td><td>0.7567212</td><td>0.9047303</td></tr>\n",
       "\t<tr><td>problem_solving    </td><td>0.9027409</td><td>0.7594974</td><td>0.9027409</td></tr>\n",
       "\t<tr><td>service_orientation</td><td>0.8695844</td><td>0.7210695</td><td>0.8695844</td></tr>\n",
       "\t<tr><td>quality            </td><td>0.8682582</td><td>0.7108416</td><td>0.8682582</td></tr>\n",
       "\t<tr><td>innovation         </td><td>0.8043767</td><td>0.6926336</td><td>0.8043767</td></tr>\n",
       "\t<tr><td>curiosity          </td><td>0.6618037</td><td>0.6373316</td><td>0.6618037</td></tr>\n",
       "\t<tr><td>determination      </td><td>0.6195844</td><td>0.5820296</td><td>0.6195844</td></tr>\n",
       "\t<tr><td>analysis           </td><td>0.5907757</td><td>0.5907757</td><td>0.5793546</td></tr>\n",
       "\t<tr><td>empowerment        </td><td>0.5611691</td><td>0.5651666</td><td>0.5651666</td></tr>\n",
       "</tbody>\n",
       "</table>\n"
      ],
      "text/latex": [
       "A data.frame: 9 × 4\n",
       "\\begin{tabular}{llll}\n",
       " rowname & C & B & A\\\\\n",
       " <chr> & <dbl> & <dbl> & <dbl>\\\\\n",
       "\\hline\n",
       "\t organisation        & 0.9047303 & 0.7567212 & 0.9047303\\\\\n",
       "\t problem\\_solving     & 0.9027409 & 0.7594974 & 0.9027409\\\\\n",
       "\t service\\_orientation & 0.8695844 & 0.7210695 & 0.8695844\\\\\n",
       "\t quality             & 0.8682582 & 0.7108416 & 0.8682582\\\\\n",
       "\t innovation          & 0.8043767 & 0.6926336 & 0.8043767\\\\\n",
       "\t curiosity           & 0.6618037 & 0.6373316 & 0.6618037\\\\\n",
       "\t determination       & 0.6195844 & 0.5820296 & 0.6195844\\\\\n",
       "\t analysis            & 0.5907757 & 0.5907757 & 0.5793546\\\\\n",
       "\t empowerment         & 0.5611691 & 0.5651666 & 0.5651666\\\\\n",
       "\\end{tabular}\n"
      ],
      "text/markdown": [
       "\n",
       "A data.frame: 9 × 4\n",
       "\n",
       "| rowname &lt;chr&gt; | C &lt;dbl&gt; | B &lt;dbl&gt; | A &lt;dbl&gt; |\n",
       "|---|---|---|---|\n",
       "| organisation        | 0.9047303 | 0.7567212 | 0.9047303 |\n",
       "| problem_solving     | 0.9027409 | 0.7594974 | 0.9027409 |\n",
       "| service_orientation | 0.8695844 | 0.7210695 | 0.8695844 |\n",
       "| quality             | 0.8682582 | 0.7108416 | 0.8682582 |\n",
       "| innovation          | 0.8043767 | 0.6926336 | 0.8043767 |\n",
       "| curiosity           | 0.6618037 | 0.6373316 | 0.6618037 |\n",
       "| determination       | 0.6195844 | 0.5820296 | 0.6195844 |\n",
       "| analysis            | 0.5907757 | 0.5907757 | 0.5793546 |\n",
       "| empowerment         | 0.5611691 | 0.5651666 | 0.5651666 |\n",
       "\n"
      ],
      "text/plain": [
       "  rowname             C         B         A        \n",
       "1 organisation        0.9047303 0.7567212 0.9047303\n",
       "2 problem_solving     0.9027409 0.7594974 0.9027409\n",
       "3 service_orientation 0.8695844 0.7210695 0.8695844\n",
       "4 quality             0.8682582 0.7108416 0.8682582\n",
       "5 innovation          0.8043767 0.6926336 0.8043767\n",
       "6 curiosity           0.6618037 0.6373316 0.6618037\n",
       "7 determination       0.6195844 0.5820296 0.6195844\n",
       "8 analysis            0.5907757 0.5907757 0.5793546\n",
       "9 empowerment         0.5611691 0.5651666 0.5651666"
      ]
     },
     "metadata": {},
     "output_type": "display_data"
    }
   ],
   "source": [
    "#Linear filter\n",
    "caret::filterVarImp(x = perf[, -1], \n",
    "                    y = perf$performance,\n",
    "                    nonpara = F) %>% \n",
    "  rownames_to_column() %>% \n",
    "  arrange(desc(A))"
   ]
  },
  {
   "cell_type": "markdown",
   "metadata": {},
   "source": [
    "# 5. Save workspace\n",
    "To use the workspace in a different notebook, I will save it as an R object to be able to import it into other notebooks."
   ]
  },
  {
   "cell_type": "code",
   "execution_count": 24,
   "metadata": {},
   "outputs": [],
   "source": [
    "save.image(file = \"03_Objects/eda.RData\")"
   ]
  }
 ],
 "metadata": {
  "kernelspec": {
   "display_name": "R",
   "language": "R",
   "name": "ir"
  },
  "language_info": {
   "codemirror_mode": "r",
   "file_extension": ".r",
   "mimetype": "text/x-r-source",
   "name": "R",
   "pygments_lexer": "r",
   "version": "3.6.1"
  }
 },
 "nbformat": 4,
 "nbformat_minor": 4
}
