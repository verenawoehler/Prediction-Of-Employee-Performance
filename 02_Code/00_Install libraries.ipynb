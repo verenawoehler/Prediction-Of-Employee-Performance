{
 "cells": [
  {
   "cell_type": "code",
   "execution_count": null,
   "metadata": {},
   "outputs": [],
   "source": [
    "#Install relevant libraries:\n",
    "install.packages(\"eeptools\")\n",
    "install.packages(\"tidyverse\")\n",
    "install.packages(\"MASS\")\n",
    "install.packages(\"caret\")\n",
    "install.packages(\"corrplot\")\n",
    "install.packages(\"WVPlots\")\n",
    "install.packages(\"MLmetrics\")\n",
    "install.packages(\"e1071\")\n",
    "install.packages(\"RANN\")\n",
    "install.packages(\"DMwR\")\n",
    "install.packages(\"DescTools\")\n",
    "install.packages(\"robustHD\")\n",
    "install.packages(\"PerformanceAnalytics\")\n",
    "install.packages(\"car\")\n",
    "install.packages(\"skimr\")"
   ]
  },
  {
   "cell_type": "code",
   "execution_count": 1,
   "metadata": {},
   "outputs": [
    {
     "name": "stderr",
     "output_type": "stream",
     "text": [
      "Installing package into 'C:/Users/veren/Documents/R/win-library/3.6'\n",
      "(as 'lib' is unspecified)\n"
     ]
    },
    {
     "name": "stdout",
     "output_type": "stream",
     "text": [
      "package 'data.table' successfully unpacked and MD5 sums checked\n"
     ]
    },
    {
     "name": "stderr",
     "output_type": "stream",
     "text": [
      "Warning message:\n",
      "\"cannot remove prior installation of package 'data.table'\"Warning message in file.copy(savedcopy, lib, recursive = TRUE):\n",
      "\"Problem C:\\Users\\veren\\Documents\\R\\win-library\\3.6\\00LOCK\\data.table\\libs\\x64\\datatable.dll nach C:\\Users\\veren\\Documents\\R\\win-library\\3.6\\data.table\\libs\\x64\\datatable.dll zu kopieren: Permission denied\"Warning message:\n",
      "\"restored 'data.table'\""
     ]
    },
    {
     "name": "stdout",
     "output_type": "stream",
     "text": [
      "\n",
      "The downloaded binary packages are in\n",
      "\tC:\\Users\\veren\\AppData\\Local\\Temp\\RtmpAFpi3U\\downloaded_packages\n"
     ]
    }
   ],
   "source": [
    "install.packages(\"data.table\")"
   ]
  }
 ],
 "metadata": {
  "kernelspec": {
   "display_name": "R",
   "language": "R",
   "name": "ir"
  },
  "language_info": {
   "codemirror_mode": "r",
   "file_extension": ".r",
   "mimetype": "text/x-r-source",
   "name": "R",
   "pygments_lexer": "r",
   "version": "3.6.1"
  }
 },
 "nbformat": 4,
 "nbformat_minor": 4
}
