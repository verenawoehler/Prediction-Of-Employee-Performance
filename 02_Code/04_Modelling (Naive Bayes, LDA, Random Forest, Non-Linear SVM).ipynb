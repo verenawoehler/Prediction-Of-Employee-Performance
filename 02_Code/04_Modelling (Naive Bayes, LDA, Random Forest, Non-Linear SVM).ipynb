{
 "cells": [
  {
   "cell_type": "markdown",
   "metadata": {},
   "source": [
    "# 0. Section objectives\n",
    "This section demonstrates the modelling of the data. I chose Naive Bayes, Random Forest and Support Vector Machines as they are more robust to outliers and non-normally distributed data (thus not overfitting the models which renders higher out-of-sample predictive validity), and do usually work well with small samples (with exception maybe of SVM). Additionally, I decided to include Linear Discriminant Analysis because most predictors show close linear relationships with the target.\n",
    "\n",
    "Each modelling section is divided up into the following steps:\n",
    "\n",
    "**1. Predictor selection through RFE:** As the main goal was to use as few significant predictors as possible to predict candidate later performance, I use Recursive Feature Selection to simulate using a subset of predictors (any number between 1 and all 9 predictors is tested).\n",
    "\n",
    "**2. Definition of the generic model:** Using the most important predictors selected in 1., I define a generic model with a tuneLength of 10, and the control methods defined in the pre-processing steps (10 times repeated 10-fold CV). Kappa is observed to hint at the best tuning parameters.\n",
    "\n",
    "**3. Optimisation of the model:** The tuning parameters from step 2. are set within the tuneGrid to calculate the final model.\n",
    "\n",
    "**4. Summary of the model:** A summary with descriptive statistics obtained from CV is presented and variable importance is plotted.\n",
    "\n",
    "All interpretation of performance metrics and usefulness of each model will be done in the model evaluation step of the project."
   ]
  },
  {
   "cell_type": "markdown",
   "metadata": {},
   "source": [
    "# 1. Prepare the work environment"
   ]
  },
  {
   "cell_type": "markdown",
   "metadata": {},
   "source": [
    "## 1.1 Set general options"
   ]
  },
  {
   "cell_type": "code",
   "execution_count": 1,
   "metadata": {},
   "outputs": [],
   "source": [
    "#Set seed\n",
    "set.seed(100)"
   ]
  },
  {
   "cell_type": "code",
   "execution_count": 2,
   "metadata": {},
   "outputs": [],
   "source": [
    "#General options\n",
    "options(scipen = 999,\n",
    "        readr.num_columns = 0,\n",
    "        warn=-1)"
   ]
  },
  {
   "cell_type": "markdown",
   "metadata": {},
   "source": [
    "## 1.2 Set working directory"
   ]
  },
  {
   "cell_type": "code",
   "execution_count": 3,
   "metadata": {},
   "outputs": [],
   "source": [
    "#Set wd\n",
    "setwd(\"C:/Users/veren/github/ML_Project_Predict_Employee_Performance\")"
   ]
  },
  {
   "cell_type": "markdown",
   "metadata": {},
   "source": [
    "## 1.3 Load libraries"
   ]
  },
  {
   "cell_type": "code",
   "execution_count": 4,
   "metadata": {},
   "outputs": [
    {
     "name": "stderr",
     "output_type": "stream",
     "text": [
      "Loading required package: lattice\n",
      "Loading required package: ggplot2\n",
      "-- Attaching packages --------------------------------------- tidyverse 1.3.0 --\n",
      "v tibble  3.0.1     v dplyr   0.8.5\n",
      "v tidyr   1.0.3     v stringr 1.4.0\n",
      "v readr   1.3.1     v forcats 0.5.0\n",
      "v purrr   0.3.4     \n",
      "-- Conflicts ------------------------------------------ tidyverse_conflicts() --\n",
      "x dplyr::filter() masks stats::filter()\n",
      "x dplyr::lag()    masks stats::lag()\n",
      "x purrr::lift()   masks caret::lift()\n"
     ]
    }
   ],
   "source": [
    "library(caret)\n",
    "library(tidyverse)"
   ]
  },
  {
   "cell_type": "markdown",
   "metadata": {},
   "source": [
    "## 1.4 Import user-defined functions"
   ]
  },
  {
   "cell_type": "code",
   "execution_count": 5,
   "metadata": {},
   "outputs": [],
   "source": [
    "#Load functions\n",
    "load(\"03_Objects/ud_functions.RData\")"
   ]
  },
  {
   "cell_type": "markdown",
   "metadata": {},
   "source": [
    "## 1.5 Import workspace from pre-processing"
   ]
  },
  {
   "cell_type": "code",
   "execution_count": 6,
   "metadata": {},
   "outputs": [],
   "source": [
    "#Load functions\n",
    "load(\"03_Objects/pre_process.RData\")"
   ]
  },
  {
   "cell_type": "markdown",
   "metadata": {},
   "source": [
    "# 2. Crear modelos ML: Naive Bayes"
   ]
  },
  {
   "cell_type": "markdown",
   "metadata": {},
   "source": [
    "## 2.1 Predictor Selection through RFE"
   ]
  },
  {
   "cell_type": "code",
   "execution_count": 7,
   "metadata": {},
   "outputs": [
    {
     "data": {
      "text/plain": [
       "\n",
       "Recursive feature selection\n",
       "\n",
       "Outer resampling method: Cross-Validated (10 fold, repeated 10 times) \n",
       "\n",
       "Resampling performance over subset size:\n",
       "\n",
       " Variables Accuracy  Kappa AccuracySD KappaSD Selected\n",
       "         1   0.6263 0.3423     0.1075  0.1896         \n",
       "         2   0.6210 0.3289     0.1147  0.2066         \n",
       "         3   0.6583 0.4114     0.1131  0.1856         \n",
       "         4   0.6719 0.4406     0.1017  0.1697         \n",
       "         5   0.6940 0.4705     0.1108  0.1895         \n",
       "         6   0.6937 0.4733     0.1164  0.1981        *\n",
       "         7   0.6762 0.4412     0.1152  0.1974         \n",
       "         8   0.6694 0.4311     0.1178  0.1998         \n",
       "         9   0.6687 0.4275     0.1185  0.2037         \n",
       "\n",
       "The top 5 variables (out of 6):\n",
       "   problem_solving, organisation, service_orientation, quality, innovation\n"
      ]
     },
     "metadata": {},
     "output_type": "display_data"
    }
   ],
   "source": [
    "#Process RFE\n",
    "ml_nb_rfe <- caret::rfe(performance ~ .,\n",
    "                        data = train,\n",
    "                        sizes = c(1:9),\n",
    "                        metric = \"Kappa\",\n",
    "                        rfeControl = rfe_nb)\n",
    "\n",
    "ml_nb_rfe"
   ]
  },
  {
   "cell_type": "code",
   "execution_count": 8,
   "metadata": {},
   "outputs": [
    {
     "data": {
      "text/html": [
       "<table>\n",
       "<caption>A data.frame: 8 × 1</caption>\n",
       "<thead>\n",
       "\t<tr><th></th><th scope=col>Overall</th></tr>\n",
       "\t<tr><th></th><th scope=col>&lt;dbl&gt;</th></tr>\n",
       "</thead>\n",
       "<tbody>\n",
       "\t<tr><th scope=row>problem_solving</th><td>0.8771975</td></tr>\n",
       "\t<tr><th scope=row>organisation</th><td>0.8591497</td></tr>\n",
       "\t<tr><th scope=row>service_orientation</th><td>0.8216527</td></tr>\n",
       "\t<tr><th scope=row>quality</th><td>0.8150921</td></tr>\n",
       "\t<tr><th scope=row>innovation</th><td>0.7535161</td></tr>\n",
       "\t<tr><th scope=row>analysis</th><td>0.6413718</td></tr>\n",
       "\t<tr><th scope=row>curiosity</th><td>0.6370835</td></tr>\n",
       "\t<tr><th scope=row>determination</th><td>0.6319348</td></tr>\n",
       "</tbody>\n",
       "</table>\n"
      ],
      "text/latex": [
       "A data.frame: 8 × 1\n",
       "\\begin{tabular}{r|l}\n",
       "  & Overall\\\\\n",
       "  & <dbl>\\\\\n",
       "\\hline\n",
       "\tproblem\\_solving & 0.8771975\\\\\n",
       "\torganisation & 0.8591497\\\\\n",
       "\tservice\\_orientation & 0.8216527\\\\\n",
       "\tquality & 0.8150921\\\\\n",
       "\tinnovation & 0.7535161\\\\\n",
       "\tanalysis & 0.6413718\\\\\n",
       "\tcuriosity & 0.6370835\\\\\n",
       "\tdetermination & 0.6319348\\\\\n",
       "\\end{tabular}\n"
      ],
      "text/markdown": [
       "\n",
       "A data.frame: 8 × 1\n",
       "\n",
       "| <!--/--> | Overall &lt;dbl&gt; |\n",
       "|---|---|\n",
       "| problem_solving | 0.8771975 |\n",
       "| organisation | 0.8591497 |\n",
       "| service_orientation | 0.8216527 |\n",
       "| quality | 0.8150921 |\n",
       "| innovation | 0.7535161 |\n",
       "| analysis | 0.6413718 |\n",
       "| curiosity | 0.6370835 |\n",
       "| determination | 0.6319348 |\n",
       "\n"
      ],
      "text/plain": [
       "                    Overall  \n",
       "problem_solving     0.8771975\n",
       "organisation        0.8591497\n",
       "service_orientation 0.8216527\n",
       "quality             0.8150921\n",
       "innovation          0.7535161\n",
       "analysis            0.6413718\n",
       "curiosity           0.6370835\n",
       "determination       0.6319348"
      ]
     },
     "metadata": {},
     "output_type": "display_data"
    },
    {
     "data": {
      "image/png": "[encoded data removed]",
      "text/plain": [
       "plot without title"
      ]
     },
     "metadata": {},
     "output_type": "display_data"
    }
   ],
   "source": [
    "#Review predictors importance\n",
    "caret::varImp(ml_nb_rfe, scale = F)\n",
    "plot(ml_nb_rfe, type = c(\"g\", \"o\"))"
   ]
  },
  {
   "cell_type": "markdown",
   "metadata": {},
   "source": [
    "## 2.2 Define model"
   ]
  },
  {
   "cell_type": "code",
   "execution_count": 9,
   "metadata": {},
   "outputs": [
    {
     "name": "stderr",
     "output_type": "stream",
     "text": [
      "Loading required package: grid\n",
      "Registered S3 method overwritten by 'quantmod':\n",
      "  method            from\n",
      "  as.zoo.data.frame zoo \n"
     ]
    }
   ],
   "source": [
    "ml_nb_gen <- caret::train(performance ~ problem_solving + organisation\n",
    "                          + service_orientation + quality + innovation,\n",
    "                          data = train,\n",
    "                          method = \"nb\", tuneLength = 10,\n",
    "                          trControl = ctrl,\n",
    "                          metric = \"Kappa\")"
   ]
  },
  {
   "cell_type": "markdown",
   "metadata": {},
   "source": [
    "## 2.3 Optimise model"
   ]
  },
  {
   "cell_type": "code",
   "execution_count": 10,
   "metadata": {},
   "outputs": [
    {
     "data": {
      "text/plain": [
       "Naive Bayes \n",
       "\n",
       "182 samples\n",
       "  5 predictor\n",
       "  3 classes: 'C', 'B', 'A' \n",
       "\n",
       "No pre-processing\n",
       "Resampling: Cross-Validated (10 fold, repeated 10 times) \n",
       "Summary of sample sizes: 163, 163, 165, 164, 163, 164, ... \n",
       "Addtional sampling using SMOTE\n",
       "\n",
       "Resampling results across tuning parameters:\n",
       "\n",
       "  usekernel  logLoss    AUC        prAUC      Accuracy   Kappa      Mean_F1  \n",
       "  FALSE      0.9663365  0.8308891  0.5391794  0.6565705  0.4563818  0.6495072\n",
       "   TRUE      1.3038576  0.8177484  0.5296747  0.5759388  0.3675154  0.5758228\n",
       "  Mean_Sensitivity  Mean_Specificity  Mean_Pos_Pred_Value  Mean_Neg_Pred_Value\n",
       "  0.6915873         0.8214859         0.6417078            0.8189645          \n",
       "  0.6625503         0.7919602         0.6008884            0.7963208          \n",
       "  Mean_Precision  Mean_Recall  Mean_Detection_Rate  Mean_Balanced_Accuracy\n",
       "  0.6417078       0.6915873    0.2188568            0.7565366             \n",
       "  0.6008884       0.6625503    0.1919796            0.7272552             \n",
       "\n",
       "Tuning parameter 'fL' was held constant at a value of 0\n",
       "Tuning\n",
       " parameter 'adjust' was held constant at a value of 1\n",
       "Kappa was used to select the optimal model using the largest value.\n",
       "The final values used for the model were fL = 0, usekernel = FALSE and adjust\n",
       " = 1."
      ]
     },
     "metadata": {},
     "output_type": "display_data"
    },
    {
     "data": {
      "image/png": "[encoded data removed]",
      "text/plain": [
       "plot without title"
      ]
     },
     "metadata": {},
     "output_type": "display_data"
    }
   ],
   "source": [
    "#Review optimised parameters\n",
    "ml_nb_gen\n",
    "plot(ml_nb_gen)"
   ]
  },
  {
   "cell_type": "code",
   "execution_count": 11,
   "metadata": {},
   "outputs": [
    {
     "data": {
      "text/html": [
       "<table>\n",
       "<caption>A data.frame: 3 × 6</caption>\n",
       "<thead>\n",
       "\t<tr><th></th><th scope=col>model</th><th scope=col>parameter</th><th scope=col>label</th><th scope=col>forReg</th><th scope=col>forClass</th><th scope=col>probModel</th></tr>\n",
       "\t<tr><th></th><th scope=col>&lt;chr&gt;</th><th scope=col>&lt;chr&gt;</th><th scope=col>&lt;chr&gt;</th><th scope=col>&lt;lgl&gt;</th><th scope=col>&lt;lgl&gt;</th><th scope=col>&lt;lgl&gt;</th></tr>\n",
       "</thead>\n",
       "<tbody>\n",
       "\t<tr><th scope=row>1</th><td>nb</td><td>fL       </td><td>Laplace Correction  </td><td>FALSE</td><td>TRUE</td><td>TRUE</td></tr>\n",
       "\t<tr><th scope=row>2</th><td>nb</td><td>usekernel</td><td>Distribution Type   </td><td>FALSE</td><td>TRUE</td><td>TRUE</td></tr>\n",
       "\t<tr><th scope=row>3</th><td>nb</td><td>adjust   </td><td>Bandwidth Adjustment</td><td>FALSE</td><td>TRUE</td><td>TRUE</td></tr>\n",
       "</tbody>\n",
       "</table>\n"
      ],
      "text/latex": [
       "A data.frame: 3 × 6\n",
       "\\begin{tabular}{r|llllll}\n",
       "  & model & parameter & label & forReg & forClass & probModel\\\\\n",
       "  & <chr> & <chr> & <chr> & <lgl> & <lgl> & <lgl>\\\\\n",
       "\\hline\n",
       "\t1 & nb & fL        & Laplace Correction   & FALSE & TRUE & TRUE\\\\\n",
       "\t2 & nb & usekernel & Distribution Type    & FALSE & TRUE & TRUE\\\\\n",
       "\t3 & nb & adjust    & Bandwidth Adjustment & FALSE & TRUE & TRUE\\\\\n",
       "\\end{tabular}\n"
      ],
      "text/markdown": [
       "\n",
       "A data.frame: 3 × 6\n",
       "\n",
       "| <!--/--> | model &lt;chr&gt; | parameter &lt;chr&gt; | label &lt;chr&gt; | forReg &lt;lgl&gt; | forClass &lt;lgl&gt; | probModel &lt;lgl&gt; |\n",
       "|---|---|---|---|---|---|---|\n",
       "| 1 | nb | fL        | Laplace Correction   | FALSE | TRUE | TRUE |\n",
       "| 2 | nb | usekernel | Distribution Type    | FALSE | TRUE | TRUE |\n",
       "| 3 | nb | adjust    | Bandwidth Adjustment | FALSE | TRUE | TRUE |\n",
       "\n"
      ],
      "text/plain": [
       "  model parameter label                forReg forClass probModel\n",
       "1 nb    fL        Laplace Correction   FALSE  TRUE     TRUE     \n",
       "2 nb    usekernel Distribution Type    FALSE  TRUE     TRUE     \n",
       "3 nb    adjust    Bandwidth Adjustment FALSE  TRUE     TRUE     "
      ]
     },
     "metadata": {},
     "output_type": "display_data"
    }
   ],
   "source": [
    "#Look up info for Naive Bayes model\n",
    "modelLookup(\"nb\")"
   ]
  },
  {
   "cell_type": "code",
   "execution_count": 12,
   "metadata": {},
   "outputs": [],
   "source": [
    "#Define tuneGrid\n",
    "grid_nb <- expand.grid(fL = 1,\n",
    "                       usekernel = F,\n",
    "                       adjust = 0)"
   ]
  },
  {
   "cell_type": "code",
   "execution_count": 13,
   "metadata": {},
   "outputs": [
    {
     "data": {
      "text/plain": [
       "Naive Bayes \n",
       "\n",
       "182 samples\n",
       "  5 predictor\n",
       "  3 classes: 'C', 'B', 'A' \n",
       "\n",
       "No pre-processing\n",
       "Resampling: Cross-Validated (10 fold, repeated 10 times) \n",
       "Summary of sample sizes: 163, 163, 164, 163, 165, 164, ... \n",
       "Addtional sampling using SMOTE\n",
       "\n",
       "Resampling results:\n",
       "\n",
       "  logLoss    AUC        prAUC      Accuracy   Kappa      Mean_F1 \n",
       "  0.9740036  0.8328104  0.5402569  0.6386493  0.4320037  0.627213\n",
       "  Mean_Sensitivity  Mean_Specificity  Mean_Pos_Pred_Value  Mean_Neg_Pred_Value\n",
       "  0.6715661         0.8122454         0.6234075            0.8124134          \n",
       "  Mean_Precision  Mean_Recall  Mean_Detection_Rate  Mean_Balanced_Accuracy\n",
       "  0.6234075       0.6715661    0.2128831            0.7419058             \n",
       "\n",
       "Tuning parameter 'fL' was held constant at a value of 1\n",
       "Tuning\n",
       " parameter 'usekernel' was held constant at a value of FALSE\n",
       "Tuning\n",
       " parameter 'adjust' was held constant at a value of 0"
      ]
     },
     "metadata": {},
     "output_type": "display_data"
    }
   ],
   "source": [
    "#Define final model\n",
    "ml_nb <- caret::train(performance ~ problem_solving + organisation\n",
    "                      + service_orientation + quality + innovation,\n",
    "                      data = train,\n",
    "                      method = \"nb\", tuneGrid = grid_nb,\n",
    "                      trControl = ctrl,\n",
    "                      metric = \"Kappa\")\n",
    "\n",
    "\n",
    "ml_nb"
   ]
  },
  {
   "cell_type": "markdown",
   "metadata": {},
   "source": [
    "## 2.4 Summary"
   ]
  },
  {
   "cell_type": "code",
   "execution_count": 14,
   "metadata": {},
   "outputs": [
    {
     "data": {
      "text/html": [
       "<table>\n",
       "<caption>A data.frame: 1 × 15</caption>\n",
       "<thead>\n",
       "\t<tr><th scope=col>TrainlogLoss</th><th scope=col>TrainAUC</th><th scope=col>TrainprAUC</th><th scope=col>TrainAccuracy</th><th scope=col>TrainKappa</th><th scope=col>TrainMean_F1</th><th scope=col>TrainMean_Sensitivity</th><th scope=col>TrainMean_Specificity</th><th scope=col>TrainMean_Pos_Pred_Value</th><th scope=col>TrainMean_Neg_Pred_Value</th><th scope=col>TrainMean_Precision</th><th scope=col>TrainMean_Recall</th><th scope=col>TrainMean_Detection_Rate</th><th scope=col>TrainMean_Balanced_Accuracy</th><th scope=col>method</th></tr>\n",
       "\t<tr><th scope=col>&lt;dbl&gt;</th><th scope=col>&lt;dbl&gt;</th><th scope=col>&lt;dbl&gt;</th><th scope=col>&lt;dbl&gt;</th><th scope=col>&lt;dbl&gt;</th><th scope=col>&lt;dbl&gt;</th><th scope=col>&lt;dbl&gt;</th><th scope=col>&lt;dbl&gt;</th><th scope=col>&lt;dbl&gt;</th><th scope=col>&lt;dbl&gt;</th><th scope=col>&lt;dbl&gt;</th><th scope=col>&lt;dbl&gt;</th><th scope=col>&lt;dbl&gt;</th><th scope=col>&lt;dbl&gt;</th><th scope=col>&lt;chr&gt;</th></tr>\n",
       "</thead>\n",
       "<tbody>\n",
       "\t<tr><td>0.9740036</td><td>0.8328104</td><td>0.5402569</td><td>0.6386493</td><td>0.4320037</td><td>0.627213</td><td>0.6715661</td><td>0.8122454</td><td>0.6234075</td><td>0.8124134</td><td>0.6234075</td><td>0.6715661</td><td>0.2128831</td><td>0.7419058</td><td>nb</td></tr>\n",
       "</tbody>\n",
       "</table>\n"
      ],
      "text/latex": [
       "A data.frame: 1 × 15\n",
       "\\begin{tabular}{lllllllllllllll}\n",
       " TrainlogLoss & TrainAUC & TrainprAUC & TrainAccuracy & TrainKappa & TrainMean\\_F1 & TrainMean\\_Sensitivity & TrainMean\\_Specificity & TrainMean\\_Pos\\_Pred\\_Value & TrainMean\\_Neg\\_Pred\\_Value & TrainMean\\_Precision & TrainMean\\_Recall & TrainMean\\_Detection\\_Rate & TrainMean\\_Balanced\\_Accuracy & method\\\\\n",
       " <dbl> & <dbl> & <dbl> & <dbl> & <dbl> & <dbl> & <dbl> & <dbl> & <dbl> & <dbl> & <dbl> & <dbl> & <dbl> & <dbl> & <chr>\\\\\n",
       "\\hline\n",
       "\t 0.9740036 & 0.8328104 & 0.5402569 & 0.6386493 & 0.4320037 & 0.627213 & 0.6715661 & 0.8122454 & 0.6234075 & 0.8124134 & 0.6234075 & 0.6715661 & 0.2128831 & 0.7419058 & nb\\\\\n",
       "\\end{tabular}\n"
      ],
      "text/markdown": [
       "\n",
       "A data.frame: 1 × 15\n",
       "\n",
       "| TrainlogLoss &lt;dbl&gt; | TrainAUC &lt;dbl&gt; | TrainprAUC &lt;dbl&gt; | TrainAccuracy &lt;dbl&gt; | TrainKappa &lt;dbl&gt; | TrainMean_F1 &lt;dbl&gt; | TrainMean_Sensitivity &lt;dbl&gt; | TrainMean_Specificity &lt;dbl&gt; | TrainMean_Pos_Pred_Value &lt;dbl&gt; | TrainMean_Neg_Pred_Value &lt;dbl&gt; | TrainMean_Precision &lt;dbl&gt; | TrainMean_Recall &lt;dbl&gt; | TrainMean_Detection_Rate &lt;dbl&gt; | TrainMean_Balanced_Accuracy &lt;dbl&gt; | method &lt;chr&gt; |\n",
       "|---|---|---|---|---|---|---|---|---|---|---|---|---|---|---|\n",
       "| 0.9740036 | 0.8328104 | 0.5402569 | 0.6386493 | 0.4320037 | 0.627213 | 0.6715661 | 0.8122454 | 0.6234075 | 0.8124134 | 0.6234075 | 0.6715661 | 0.2128831 | 0.7419058 | nb |\n",
       "\n"
      ],
      "text/plain": [
       "  TrainlogLoss TrainAUC  TrainprAUC TrainAccuracy TrainKappa TrainMean_F1\n",
       "1 0.9740036    0.8328104 0.5402569  0.6386493     0.4320037  0.627213    \n",
       "  TrainMean_Sensitivity TrainMean_Specificity TrainMean_Pos_Pred_Value\n",
       "1 0.6715661             0.8122454             0.6234075               \n",
       "  TrainMean_Neg_Pred_Value TrainMean_Precision TrainMean_Recall\n",
       "1 0.8124134                0.6234075           0.6715661       \n",
       "  TrainMean_Detection_Rate TrainMean_Balanced_Accuracy method\n",
       "1 0.2128831                0.7419058                   nb    "
      ]
     },
     "metadata": {},
     "output_type": "display_data"
    },
    {
     "data": {
      "text/plain": [
       "$apriori\n",
       "grouping\n",
       "        C         B         A \n",
       "0.1845238 0.3869048 0.4285714 \n",
       "\n",
       "$tables\n",
       "$tables$problem_solving\n",
       "        [,1]     [,2]\n",
       "C -0.5320909 0.636675\n",
       "B  0.2222597 0.773640\n",
       "A  1.0656568 0.636388\n",
       "\n",
       "$tables$organisation\n",
       "          [,1]      [,2]\n",
       "C -0.730014421 0.8940605\n",
       "B  0.002850439 0.7408145\n",
       "A  0.979945866 0.4536731\n",
       "\n",
       "$tables$service_orientation\n",
       "        [,1]      [,2]\n",
       "C -0.6145782 0.7512141\n",
       "B  0.3106015 0.8384795\n",
       "A  0.8700315 0.7150930\n",
       "\n",
       "$tables$quality\n",
       "        [,1]      [,2]\n",
       "C -0.6955041 0.8995206\n",
       "B  0.2453801 0.8809492\n",
       "A  0.9331894 0.8161429\n",
       "\n",
       "$tables$innovation\n",
       "         [,1]      [,2]\n",
       "C -0.24525899 0.9596948\n",
       "B  0.07879655 0.8315977\n",
       "A  0.61930058 0.8169163\n",
       "\n",
       "\n",
       "$levels\n",
       "[1] \"C\" \"B\" \"A\"\n",
       "\n",
       "$call\n",
       "NaiveBayes.default(x = x, grouping = y, usekernel = FALSE, fL = param$fL)\n",
       "\n",
       "$x\n",
       "       problem_solving organisation service_orientation     quality innovation\n",
       "X140         0.6934912   -0.2880380          -1.1626341 -0.69550414 -0.3436871\n",
       "X149        -0.7791074    1.0820888          -1.1626341 -0.69550414 -0.3436871\n",
       "X53         -0.7791074   -0.2880380          -1.1626341 -0.69550414 -0.3436871\n",
       "X165        -0.1900680   -0.2880380          -1.1626341 -0.69550414  1.1819482\n",
       "X17          0.6934912   -0.2880380           1.9264083 -0.69550414  1.1819482\n",
       "X134        -0.1900680    1.0820888          -1.1626341 -0.69550414  1.1819482\n",
       "X48          0.6934912   -0.2880380           0.3818871  0.72676275 -0.3436871\n",
       "X9          -0.7791074   -1.6581649          -1.1626341 -0.69550414 -1.8693224\n",
       "X129         0.6934912   -0.2880380           0.3818871  0.72676275 -0.3436871\n",
       "X131        -0.7791074   -0.2880380           0.3818871 -0.69550414 -0.3436871\n",
       "X145        -0.7791074    1.0820888           0.3818871  0.72676275 -0.3436871\n",
       "X113         0.6934912    1.0820888          -1.1626341  2.14902964  1.1819482\n",
       "X164         0.6934912   -0.2880380           0.3818871  0.72676275  1.1819482\n",
       "X116         0.6934912   -0.2880380          -1.1626341 -0.69550414 -0.3436871\n",
       "X178         0.6934912    1.0820888           0.3818871 -0.69550414  1.1819482\n",
       "X124        -0.7791074   -0.2880380           0.3818871 -0.69550414 -0.3436871\n",
       "X84         -0.7791074   -1.6581649          -1.1626341 -0.69550414 -0.3436871\n",
       "X39         -0.7791074   -0.2880380           0.3818871  0.72676275  1.1819482\n",
       "X12         -0.7791074   -0.2880380           0.3818871 -0.69550414 -1.8693224\n",
       "X179        -0.7791074   -0.2880380          -1.1626341 -2.11777103 -1.8693224\n",
       "X14          0.6934912   -0.2880380           1.9264083 -0.69550414 -0.3436871\n",
       "X103        -0.7791074   -0.2880380           0.3818871  0.72676275  1.1819482\n",
       "X145.1      -0.7791074    1.0820888           0.3818871  0.72676275 -0.3436871\n",
       "X61         -2.2517061   -1.6581649          -1.1626341 -2.11777103 -0.3436871\n",
       "X176         0.6934912   -0.2880380           0.3818871 -0.69550414  1.1819482\n",
       "X138        -0.7791074   -1.6581649          -1.1626341  0.72676275 -0.3436871\n",
       "X180         0.6934912   -0.2880380           0.3818871 -0.69550414 -0.3436871\n",
       "X46         -0.7791074   -0.2880380           0.3818871  0.72676275 -0.3436871\n",
       "X18          0.6934912   -0.2880380           0.3818871  0.72676275  1.1819482\n",
       "X16         -0.7791074   -1.6581649           0.3818871 -0.69550414  1.1819482\n",
       "X99         -0.7791074   -1.6581649          -1.1626341 -0.69550414 -0.3436871\n",
       "X147        -0.7791074   -0.2880380           0.3818871  0.72676275 -0.3436871\n",
       "X79         -0.7791074   -0.2880380          -1.1626341 -0.69550414  1.1819482\n",
       "X139        -0.7791074    1.0820888           0.3818871  0.72676275 -0.3436871\n",
       "X179.1      -0.7791074   -0.2880380          -1.1626341 -2.11777103 -1.8693224\n",
       "X11          0.6934912    1.0820888           0.3818871 -0.69550414  1.1819482\n",
       "X49          0.6934912    1.0820888           0.3818871 -0.69550414  1.1819482\n",
       "X147.1      -0.7791074   -0.2880380           0.3818871  0.72676275 -0.3436871\n",
       "X124.1      -0.7791074   -0.2880380           0.3818871 -0.69550414 -0.3436871\n",
       "X153         0.6934912   -0.2880380           0.3818871  0.72676275 -0.3436871\n",
       "X75          0.6934912   -0.2880380           1.9264083 -0.69550414 -0.3436871\n",
       "X3           0.6934912   -1.6581649           0.3818871  0.72676275  1.1819482\n",
       "X153.1       0.6934912   -0.2880380           0.3818871  0.72676275 -0.3436871\n",
       "X126        -0.7791074    1.0820888           0.3818871  0.72676275 -0.3436871\n",
       "X161        -0.7791074   -0.2880380          -1.1626341  0.72676275 -0.3436871\n",
       "X147.2      -0.7791074   -0.2880380           0.3818871  0.72676275 -0.3436871\n",
       "X28          0.1044518   -1.6581649           0.3818871  0.72676275 -0.3436871\n",
       "X88         -0.7791074   -1.6581649          -1.1626341 -0.69550414 -1.8693224\n",
       "X151         2.1660899   -0.2880380           0.3818871  2.14902964 -0.3436871\n",
       "X118         0.6934912    0.8080634           0.3818871 -0.69550414  1.1819482\n",
       "X139.1      -0.7791074    1.0820888           0.3818871  0.72676275 -0.3436871\n",
       "X154         0.6934912   -1.6581649          -1.1626341 -0.69550414 -0.3436871\n",
       "X112        -0.7791074   -0.2880380           0.3818871  2.14902964  1.1819482\n",
       "X129.1       0.6934912   -0.2880380           0.3818871  0.72676275 -0.3436871\n",
       "X133         0.6934912   -0.2880380           0.3818871 -0.69550414  1.1819482\n",
       "X17.1        0.6934912   -0.2880380           1.9264083 -0.69550414  1.1819482\n",
       "X8           0.6934912   -1.6581649           0.3818871  0.72676275 -0.3436871\n",
       "X120         0.6934912   -0.2880380          -1.1626341 -0.69550414 -0.3436871\n",
       "X91         -0.7791074   -1.6581649           0.3818871 -2.11777103 -0.3436871\n",
       "X38         -0.7791074   -0.2880380           1.9264083 -0.69550414 -0.3436871\n",
       "X28.1        0.1044518   -1.6581649           0.3818871  0.72676275 -0.3436871\n",
       "X31         -0.7791074   -0.2880380           0.3818871 -0.69550414 -0.3436871\n",
       "X167         0.6934912    1.0820888           0.3818871  0.72676275 -1.8693224\n",
       "X80         -0.7791074   -1.6581649          -1.1626341 -2.11777103  1.1819482\n",
       "X50         -0.7791074   -0.2880380          -1.1626341 -0.69550414 -0.3436871\n",
       "X165.1      -0.1900680   -0.2880380          -1.1626341 -0.69550414  1.1819482\n",
       "X160         0.6934912   -0.2880380           0.3818871  0.72676275 -0.3436871\n",
       "X177         0.6934912    1.0820888           0.3818871  0.72676275  1.1819482\n",
       "X53.1       -0.7791074   -0.2880380          -1.1626341 -0.69550414 -0.3436871\n",
       "X181        -0.7791074   -1.6581649          -1.1626341  0.72676275 -0.3436871\n",
       "X116.1       0.6934912   -0.2880380          -1.1626341 -0.69550414 -0.3436871\n",
       "X16.1       -0.7791074   -1.6581649           0.3818871 -0.69550414  1.1819482\n",
       "X143        -0.7791074   -0.2880380          -1.1626341 -0.69550414 -0.3436871\n",
       "X176.1       0.6934912   -0.2880380           0.3818871 -0.69550414  1.1819482\n",
       "X90         -0.7791074   -0.2880380          -1.1626341  0.72676275  1.1819482\n",
       "X135         0.6934912    1.0820888           0.3818871  0.72676275 -0.3436871\n",
       "X15         -0.7791074   -0.2880380          -1.1626341 -0.69550414 -0.3436871\n",
       "X179.2      -0.7791074   -0.2880380          -1.1626341 -2.11777103 -1.8693224\n",
       "X147.3      -0.7791074   -0.2880380           0.3818871  0.72676275 -0.3436871\n",
       "X129.2       0.6934912   -0.2880380           0.3818871  0.72676275 -0.3436871\n",
       "X37          0.6934912    1.0820888           0.3818871 -0.69550414  1.1819482\n",
       "X104         0.6934912   -0.2880380           0.3818871  0.72676275 -0.3436871\n",
       "X82          2.1660899    1.0820888           0.3818871  2.14902964 -0.3436871\n",
       "X176.2       0.6934912   -0.2880380           0.3818871 -0.69550414  1.1819482\n",
       "X167.1       0.6934912    1.0820888           0.3818871  0.72676275 -1.8693224\n",
       "X110         0.6934912    1.0820888           0.3818871 -0.69550414 -0.3436871\n",
       "X48.1        0.6934912   -0.2880380           0.3818871  0.72676275 -0.3436871\n",
       "X154.1       0.6934912   -1.6581649          -1.1626341 -0.69550414 -0.3436871\n",
       "X24          0.6934912    1.0820888           1.9264083  0.72676275  1.1819482\n",
       "X100        -0.7791074   -0.2880380          -1.1626341 -0.69550414 -0.3436871\n",
       "X87          0.6934912   -0.2880380           1.9264083  0.72676275 -0.3436871\n",
       "X51         -0.7791074    1.0820888           0.3818871 -0.69550414 -0.3436871\n",
       "X160.1       0.6934912   -0.2880380           0.3818871  0.72676275 -0.3436871\n",
       "X129.3       0.6934912   -0.2880380           0.3818871  0.72676275 -0.3436871\n",
       "X131.1      -0.7791074   -0.2880380           0.3818871 -0.69550414 -0.3436871\n",
       "X109         0.6934912   -0.2880380           1.9264083  2.14902964 -0.3436871\n",
       "X1           0.6934912    1.0820888           0.3818871  0.72676275 -1.8693224\n",
       "X19          0.6934912    1.0820888           0.3818871  0.72676275 -0.3436871\n",
       "X20          0.6934912   -0.2880380           0.3818871  0.72676275  1.1819482\n",
       "X21          0.6934912    1.0820888           0.3818871 -0.69550414 -0.3436871\n",
       "X22          0.6934912    1.0820888           0.3818871  2.14902964  1.1819482\n",
       "X29          0.1044518    1.0820888           0.3818871  0.72676275 -0.3436871\n",
       "X36          2.1660899    1.3561142           0.3818871  0.72676275  1.1819482\n",
       "X40          0.6934912    1.0820888           1.9264083  0.72676275  1.1819482\n",
       "X43          2.1660899    1.0820888           1.9264083  2.14902964  1.1819482\n",
       "X56          0.6934912    1.0820888           0.3818871 -0.69550414  1.1819482\n",
       "X72          0.6934912   -0.2880380           1.9264083 -0.69550414  1.1819482\n",
       "X77          0.6934912    1.0820888           1.9264083  0.72676275  1.1819482\n",
       "X78          0.6934912    1.0820888           0.3818871  0.72676275 -0.3436871\n",
       "X98          0.6934912    1.0820888           0.3818871  0.72676275  1.1819482\n",
       "X106         0.6934912    1.0820888           0.3818871  2.14902964  1.1819482\n",
       "X115         2.1660899    1.0820888           1.9264083  0.72676275  1.1819482\n",
       "X141         0.6934912    1.0820888           0.3818871  0.72676275  1.1819482\n",
       "X142         2.1660899    1.0820888           0.3818871  2.14902964  1.1819482\n",
       "X155         2.1660899    1.0820888           0.3818871  0.72676275 -0.3436871\n",
       "X158         2.1660899    1.0820888           0.3818871  2.14902964  1.1819482\n",
       "X159         0.6934912   -0.2880380           1.9264083 -0.69550414 -0.3436871\n",
       "X163         0.6934912    1.0820888           0.3818871  0.72676275  1.1819482\n",
       "X172         0.6934912    2.4522156           1.9264083  2.14902964  1.1819482\n",
       "X175         0.6934912    1.0820888           1.9264083  2.14902964  1.1819482\n",
       "1            0.6934912    1.0820888           0.3818871  0.72676275 -1.3430550\n",
       "2            0.6934912    1.0820888           0.3818871 -0.06627871 -1.0186437\n",
       "3            0.6934912    1.0820888           0.3818871  0.72676275 -0.5086663\n",
       "4            0.6934912    1.0820888           0.3818871 -0.48524898 -0.3436871\n",
       "5            0.6934912    0.2935860           0.3818871  0.72676275  0.5343103\n",
       "6            0.6934912    0.1599985           0.3818871  0.72676275  0.6830599\n",
       "7            0.6934912    1.0820888           0.3818871  0.13368443 -0.3436871\n",
       "8            0.3581153    1.0820888           0.3818871  0.11427875 -0.3436871\n",
       "9            0.6934912    1.0820888           0.3818871  0.80067866  1.1819482\n",
       "10           0.6934912    1.0820888           0.3818871  2.04598655  1.1819482\n",
       "11           0.2389749    1.0820888           0.3818871  0.72676275 -0.6921074\n",
       "12           0.1688379    1.0820888           0.3818871  0.72676275 -0.3436871\n",
       "13           2.1660899    1.1189714           0.3818871  0.72676275 -0.1383435\n",
       "14           1.7982495    1.2876654           0.3818871  0.72676275  1.1819482\n",
       "15           1.2485276    1.0820888           1.9264083  0.72676275  1.1819482\n",
       "16           0.6934912    1.0820888           1.9264083  0.72676275  1.1819482\n",
       "17           2.1660899    1.0820888           1.9264083  1.75937143  1.1819482\n",
       "18           1.7267272    1.0820888           1.9264083  2.14902964  1.1819482\n",
       "19           0.6934912    1.0820888           0.3818871 -0.69550414  0.7061171\n",
       "20           0.6934912    1.0820888           0.3818871  0.28458326  0.1306294\n",
       "21           1.3747903    0.3458524           1.9264083 -0.03749109  1.1819482\n",
       "22           0.6934912   -0.2880380           1.3526958 -0.16720305  1.1819482\n",
       "23           0.6934912    1.0820888           1.9264083  1.91054822  1.1819482\n",
       "24           0.6934912    1.0820888           1.9264083  1.87337368  1.1819482\n",
       "25           0.6934912    1.0820888           0.3818871  0.72676275 -1.4498569\n",
       "26           0.6934912    1.0820888           0.3818871  0.72676275 -0.5535515\n",
       "27           0.6934912    0.8653043           0.3818871  0.72676275  1.1819482\n",
       "28           0.6934912    1.0820888           0.3818871  0.72676275  0.1542904\n",
       "29           0.6934912    1.0820888           0.3818871  1.32846776  1.1819482\n",
       "30           0.6934912    1.0820888           0.3818871  2.14902964  1.1819482\n",
       "31           0.7381961    1.0820888           1.9264083  0.72676275  1.1819482\n",
       "32           2.1660899    1.3213185           0.5780101  0.72676275  1.1819482\n",
       "33           0.6934912   -0.1123471           0.3818871  0.72676275  1.1819482\n",
       "34           0.6934912    1.0820888           0.3818871  0.72676275  1.1819482\n",
       "35           2.1660899    1.0820888           0.3818871  0.76349981 -0.3042800\n",
       "36           1.0958973    1.0820888           0.3818871  2.14902964  1.1819482\n",
       "37           2.1660899    1.0820888           0.3818871  0.92479355 -0.1312637\n",
       "38           2.1660899    1.0820888           0.3818871  1.23193207  0.1981973\n",
       "39           2.1660899    1.0820888           0.3818871  2.14902964  1.1819482\n",
       "40           2.1660899    1.0820888           0.3818871  2.14902964  1.1819482\n",
       "41           1.6064307    0.5613739           1.9264083  0.18623208  0.6021325\n",
       "42           2.0108758    0.9376754           1.9264083  0.57685375  1.0211440\n",
       "43           0.6934912    1.0820888           0.3818871  1.68704828  1.1819482\n",
       "44           0.6934912    0.1875662           0.3818871  0.72676275  1.1819482\n",
       "45           1.7579155    1.4618601           1.9264083  2.14902964  1.1819482\n",
       "46           1.0501303    2.1203935           1.9264083  1.80458008  1.1819482\n",
       "47           0.6934912    1.0820888           1.9264083  1.24408496  1.1819482\n",
       "48           1.3037899    1.0820888           1.9264083  1.55959027  1.1819482\n",
       "\n",
       "$usekernel\n",
       "[1] FALSE\n",
       "\n",
       "$varnames\n",
       "[1] \"problem_solving\"     \"organisation\"        \"service_orientation\"\n",
       "[4] \"quality\"             \"innovation\"         \n",
       "\n",
       "$xNames\n",
       "[1] \"problem_solving\"     \"organisation\"        \"service_orientation\"\n",
       "[4] \"quality\"             \"innovation\"         \n",
       "\n",
       "$problemType\n",
       "[1] \"Classification\"\n",
       "\n",
       "$tuneValue\n",
       "  fL usekernel adjust\n",
       "1  1     FALSE      0\n",
       "\n",
       "$obsLevels\n",
       "[1] \"C\" \"B\" \"A\"\n",
       "attr(,\"ordered\")\n",
       "[1] TRUE\n",
       "\n",
       "$param\n",
       "list()\n",
       "\n",
       "attr(,\"class\")\n",
       "[1] \"NaiveBayes\""
      ]
     },
     "metadata": {},
     "output_type": "display_data"
    }
   ],
   "source": [
    "#Summary of final model\n",
    "caret::getTrainPerf(ml_nb)\n",
    "ml_nb$finalModel"
   ]
  },
  {
   "cell_type": "code",
   "execution_count": 15,
   "metadata": {},
   "outputs": [
    {
     "data": {
      "text/plain": [
       "ROC curve variable importance\n",
       "\n",
       "  variables are sorted by maximum importance across the classes\n",
       "                         C      B      A\n",
       "problem_solving     0.9372 0.7551 0.9372\n",
       "organisation        0.9104 0.7561 0.9104\n",
       "service_orientation 0.8783 0.7056 0.8783\n",
       "quality             0.8611 0.7213 0.8611\n",
       "innovation          0.7913 0.6735 0.7913"
      ]
     },
     "metadata": {},
     "output_type": "display_data"
    },
    {
     "data": {
      "image/png": "[encoded data removed]",
      "text/plain": [
       "plot without title"
      ]
     },
     "metadata": {},
     "output_type": "display_data"
    }
   ],
   "source": [
    "#Predictor importance\n",
    "(var_nb <- caret::varImp(ml_nb, scale = F))\n",
    "plot(var_nb)"
   ]
  },
  {
   "cell_type": "markdown",
   "metadata": {},
   "source": [
    "# 3. Create ML Model: Linear Discriminant Analysis"
   ]
  },
  {
   "cell_type": "markdown",
   "metadata": {},
   "source": [
    "## 3.1 Selection of predictors"
   ]
  },
  {
   "cell_type": "code",
   "execution_count": 16,
   "metadata": {},
   "outputs": [
    {
     "data": {
      "text/plain": [
       "\n",
       "Recursive feature selection\n",
       "\n",
       "Outer resampling method: Cross-Validated (10 fold, repeated 10 times) \n",
       "\n",
       "Resampling performance over subset size:\n",
       "\n",
       " Variables Accuracy  Kappa AccuracySD KappaSD Selected\n",
       "         1   0.6279 0.3519    0.08717  0.1513         \n",
       "         2   0.6469 0.3859    0.09175  0.1568         \n",
       "         3   0.6836 0.4387    0.09353  0.1667         \n",
       "         4   0.7027 0.4753    0.09451  0.1653        *\n",
       "         5   0.7022 0.4751    0.08857  0.1543         \n",
       "         6   0.6961 0.4682    0.09157  0.1584         \n",
       "         7   0.6947 0.4692    0.10025  0.1736         \n",
       "         8   0.6881 0.4597    0.09451  0.1639         \n",
       "         9   0.6874 0.4586    0.09794  0.1723         \n",
       "\n",
       "The top 4 variables (out of 4):\n",
       "   problem_solving, organisation, service_orientation, quality\n"
      ]
     },
     "metadata": {},
     "output_type": "display_data"
    }
   ],
   "source": [
    "#Process RFE\n",
    "ml_lda_rfe <- rfe(performance ~ .,\n",
    "                  data = train,\n",
    "                  sizes = c(1:9),\n",
    "                  metric = \"Kappa\",\n",
    "                  rfeControl = rfe_lda)\n",
    "\n",
    "ml_lda_rfe"
   ]
  },
  {
   "cell_type": "code",
   "execution_count": 17,
   "metadata": {},
   "outputs": [
    {
     "data": {
      "text/html": [
       "<table>\n",
       "<caption>A data.frame: 4 × 1</caption>\n",
       "<thead>\n",
       "\t<tr><th></th><th scope=col>Overall</th></tr>\n",
       "\t<tr><th></th><th scope=col>&lt;dbl&gt;</th></tr>\n",
       "</thead>\n",
       "<tbody>\n",
       "\t<tr><th scope=row>problem_solving</th><td>0.8771864</td></tr>\n",
       "\t<tr><th scope=row>organisation</th><td>0.8594943</td></tr>\n",
       "\t<tr><th scope=row>service_orientation</th><td>0.8216901</td></tr>\n",
       "\t<tr><th scope=row>quality</th><td>0.8152094</td></tr>\n",
       "</tbody>\n",
       "</table>\n"
      ],
      "text/latex": [
       "A data.frame: 4 × 1\n",
       "\\begin{tabular}{r|l}\n",
       "  & Overall\\\\\n",
       "  & <dbl>\\\\\n",
       "\\hline\n",
       "\tproblem\\_solving & 0.8771864\\\\\n",
       "\torganisation & 0.8594943\\\\\n",
       "\tservice\\_orientation & 0.8216901\\\\\n",
       "\tquality & 0.8152094\\\\\n",
       "\\end{tabular}\n"
      ],
      "text/markdown": [
       "\n",
       "A data.frame: 4 × 1\n",
       "\n",
       "| <!--/--> | Overall &lt;dbl&gt; |\n",
       "|---|---|\n",
       "| problem_solving | 0.8771864 |\n",
       "| organisation | 0.8594943 |\n",
       "| service_orientation | 0.8216901 |\n",
       "| quality | 0.8152094 |\n",
       "\n"
      ],
      "text/plain": [
       "                    Overall  \n",
       "problem_solving     0.8771864\n",
       "organisation        0.8594943\n",
       "service_orientation 0.8216901\n",
       "quality             0.8152094"
      ]
     },
     "metadata": {},
     "output_type": "display_data"
    },
    {
     "data": {
      "image/png": "[encoded data removed]",
      "text/plain": [
       "plot without title"
      ]
     },
     "metadata": {},
     "output_type": "display_data"
    }
   ],
   "source": [
    "#Review importance of predictors\n",
    "caret::varImp(ml_lda_rfe, scale = F)\n",
    "plot(ml_lda_rfe, type = c(\"g\", \"o\"))"
   ]
  },
  {
   "cell_type": "markdown",
   "metadata": {},
   "source": [
    "## 3.2 Define model"
   ]
  },
  {
   "cell_type": "code",
   "execution_count": 18,
   "metadata": {},
   "outputs": [
    {
     "data": {
      "text/plain": [
       "Linear Discriminant Analysis \n",
       "\n",
       "182 samples\n",
       "  6 predictor\n",
       "  3 classes: 'C', 'B', 'A' \n",
       "\n",
       "No pre-processing\n",
       "Resampling: Cross-Validated (10 fold, repeated 10 times) \n",
       "Summary of sample sizes: 163, 165, 164, 163, 165, 164, ... \n",
       "Addtional sampling using SMOTE\n",
       "\n",
       "Resampling results:\n",
       "\n",
       "  logLoss    AUC        prAUC      Accuracy   Kappa      Mean_F1  \n",
       "  0.9092333  0.8157409  0.5321274  0.6089962  0.3911994  0.5979431\n",
       "  Mean_Sensitivity  Mean_Specificity  Mean_Pos_Pred_Value  Mean_Neg_Pred_Value\n",
       "  0.6553016         0.7992076         0.6000635            0.8001755          \n",
       "  Mean_Precision  Mean_Recall  Mean_Detection_Rate  Mean_Balanced_Accuracy\n",
       "  0.6000635       0.6553016    0.2029987            0.7272546             \n"
      ]
     },
     "metadata": {},
     "output_type": "display_data"
    }
   ],
   "source": [
    "ml_lda_gen <- caret::train(performance ~ problem_solving + organisation + service_orientation\n",
    "                           + quality + innovation + determination,\n",
    "                           data = train,\n",
    "                           method = \"lda\", tuneLength = 10,\n",
    "                           trControl = ctrl,\n",
    "                           metric = \"Kappa\",\n",
    "                           importance = T)\n",
    "\n",
    "\n",
    "ml_lda_gen"
   ]
  },
  {
   "cell_type": "markdown",
   "metadata": {},
   "source": [
    "## 3.3 Optimise model"
   ]
  },
  {
   "cell_type": "code",
   "execution_count": 19,
   "metadata": {},
   "outputs": [
    {
     "data": {
      "text/html": [
       "<table>\n",
       "<caption>A data.frame: 1 × 6</caption>\n",
       "<thead>\n",
       "\t<tr><th></th><th scope=col>model</th><th scope=col>parameter</th><th scope=col>label</th><th scope=col>forReg</th><th scope=col>forClass</th><th scope=col>probModel</th></tr>\n",
       "\t<tr><th></th><th scope=col>&lt;chr&gt;</th><th scope=col>&lt;chr&gt;</th><th scope=col>&lt;chr&gt;</th><th scope=col>&lt;lgl&gt;</th><th scope=col>&lt;lgl&gt;</th><th scope=col>&lt;lgl&gt;</th></tr>\n",
       "</thead>\n",
       "<tbody>\n",
       "\t<tr><th scope=row>1</th><td>lda</td><td>parameter</td><td>parameter</td><td>FALSE</td><td>TRUE</td><td>TRUE</td></tr>\n",
       "</tbody>\n",
       "</table>\n"
      ],
      "text/latex": [
       "A data.frame: 1 × 6\n",
       "\\begin{tabular}{r|llllll}\n",
       "  & model & parameter & label & forReg & forClass & probModel\\\\\n",
       "  & <chr> & <chr> & <chr> & <lgl> & <lgl> & <lgl>\\\\\n",
       "\\hline\n",
       "\t1 & lda & parameter & parameter & FALSE & TRUE & TRUE\\\\\n",
       "\\end{tabular}\n"
      ],
      "text/markdown": [
       "\n",
       "A data.frame: 1 × 6\n",
       "\n",
       "| <!--/--> | model &lt;chr&gt; | parameter &lt;chr&gt; | label &lt;chr&gt; | forReg &lt;lgl&gt; | forClass &lt;lgl&gt; | probModel &lt;lgl&gt; |\n",
       "|---|---|---|---|---|---|---|\n",
       "| 1 | lda | parameter | parameter | FALSE | TRUE | TRUE |\n",
       "\n"
      ],
      "text/plain": [
       "  model parameter label     forReg forClass probModel\n",
       "1 lda   parameter parameter FALSE  TRUE     TRUE     "
      ]
     },
     "metadata": {},
     "output_type": "display_data"
    }
   ],
   "source": [
    "#Look up info for LDA model\n",
    "modelLookup(\"lda\")   #no tuning parameters\n",
    "\n",
    "\n",
    "ml_lda <- ml_lda_gen"
   ]
  },
  {
   "cell_type": "markdown",
   "metadata": {},
   "source": [
    "## 3.4 Summary"
   ]
  },
  {
   "cell_type": "code",
   "execution_count": 20,
   "metadata": {},
   "outputs": [
    {
     "data": {
      "text/html": [
       "<table>\n",
       "<caption>A data.frame: 1 × 15</caption>\n",
       "<thead>\n",
       "\t<tr><th scope=col>TrainlogLoss</th><th scope=col>TrainAUC</th><th scope=col>TrainprAUC</th><th scope=col>TrainAccuracy</th><th scope=col>TrainKappa</th><th scope=col>TrainMean_F1</th><th scope=col>TrainMean_Sensitivity</th><th scope=col>TrainMean_Specificity</th><th scope=col>TrainMean_Pos_Pred_Value</th><th scope=col>TrainMean_Neg_Pred_Value</th><th scope=col>TrainMean_Precision</th><th scope=col>TrainMean_Recall</th><th scope=col>TrainMean_Detection_Rate</th><th scope=col>TrainMean_Balanced_Accuracy</th><th scope=col>method</th></tr>\n",
       "\t<tr><th scope=col>&lt;dbl&gt;</th><th scope=col>&lt;dbl&gt;</th><th scope=col>&lt;dbl&gt;</th><th scope=col>&lt;dbl&gt;</th><th scope=col>&lt;dbl&gt;</th><th scope=col>&lt;dbl&gt;</th><th scope=col>&lt;dbl&gt;</th><th scope=col>&lt;dbl&gt;</th><th scope=col>&lt;dbl&gt;</th><th scope=col>&lt;dbl&gt;</th><th scope=col>&lt;dbl&gt;</th><th scope=col>&lt;dbl&gt;</th><th scope=col>&lt;dbl&gt;</th><th scope=col>&lt;dbl&gt;</th><th scope=col>&lt;chr&gt;</th></tr>\n",
       "</thead>\n",
       "<tbody>\n",
       "\t<tr><td>0.9092333</td><td>0.8157409</td><td>0.5321274</td><td>0.6089962</td><td>0.3911994</td><td>0.5979431</td><td>0.6553016</td><td>0.7992076</td><td>0.6000635</td><td>0.8001755</td><td>0.6000635</td><td>0.6553016</td><td>0.2029987</td><td>0.7272546</td><td>lda</td></tr>\n",
       "</tbody>\n",
       "</table>\n"
      ],
      "text/latex": [
       "A data.frame: 1 × 15\n",
       "\\begin{tabular}{lllllllllllllll}\n",
       " TrainlogLoss & TrainAUC & TrainprAUC & TrainAccuracy & TrainKappa & TrainMean\\_F1 & TrainMean\\_Sensitivity & TrainMean\\_Specificity & TrainMean\\_Pos\\_Pred\\_Value & TrainMean\\_Neg\\_Pred\\_Value & TrainMean\\_Precision & TrainMean\\_Recall & TrainMean\\_Detection\\_Rate & TrainMean\\_Balanced\\_Accuracy & method\\\\\n",
       " <dbl> & <dbl> & <dbl> & <dbl> & <dbl> & <dbl> & <dbl> & <dbl> & <dbl> & <dbl> & <dbl> & <dbl> & <dbl> & <dbl> & <chr>\\\\\n",
       "\\hline\n",
       "\t 0.9092333 & 0.8157409 & 0.5321274 & 0.6089962 & 0.3911994 & 0.5979431 & 0.6553016 & 0.7992076 & 0.6000635 & 0.8001755 & 0.6000635 & 0.6553016 & 0.2029987 & 0.7272546 & lda\\\\\n",
       "\\end{tabular}\n"
      ],
      "text/markdown": [
       "\n",
       "A data.frame: 1 × 15\n",
       "\n",
       "| TrainlogLoss &lt;dbl&gt; | TrainAUC &lt;dbl&gt; | TrainprAUC &lt;dbl&gt; | TrainAccuracy &lt;dbl&gt; | TrainKappa &lt;dbl&gt; | TrainMean_F1 &lt;dbl&gt; | TrainMean_Sensitivity &lt;dbl&gt; | TrainMean_Specificity &lt;dbl&gt; | TrainMean_Pos_Pred_Value &lt;dbl&gt; | TrainMean_Neg_Pred_Value &lt;dbl&gt; | TrainMean_Precision &lt;dbl&gt; | TrainMean_Recall &lt;dbl&gt; | TrainMean_Detection_Rate &lt;dbl&gt; | TrainMean_Balanced_Accuracy &lt;dbl&gt; | method &lt;chr&gt; |\n",
       "|---|---|---|---|---|---|---|---|---|---|---|---|---|---|---|\n",
       "| 0.9092333 | 0.8157409 | 0.5321274 | 0.6089962 | 0.3911994 | 0.5979431 | 0.6553016 | 0.7992076 | 0.6000635 | 0.8001755 | 0.6000635 | 0.6553016 | 0.2029987 | 0.7272546 | lda |\n",
       "\n"
      ],
      "text/plain": [
       "  TrainlogLoss TrainAUC  TrainprAUC TrainAccuracy TrainKappa TrainMean_F1\n",
       "1 0.9092333    0.8157409 0.5321274  0.6089962     0.3911994  0.5979431   \n",
       "  TrainMean_Sensitivity TrainMean_Specificity TrainMean_Pos_Pred_Value\n",
       "1 0.6553016             0.7992076             0.6000635               \n",
       "  TrainMean_Neg_Pred_Value TrainMean_Precision TrainMean_Recall\n",
       "1 0.8001755                0.6000635           0.6553016       \n",
       "  TrainMean_Detection_Rate TrainMean_Balanced_Accuracy method\n",
       "1 0.2029987                0.7272546                   lda   "
      ]
     },
     "metadata": {},
     "output_type": "display_data"
    },
    {
     "data": {
      "text/plain": [
       "Call:\n",
       "lda(x, y, importance = ..1)\n",
       "\n",
       "Prior probabilities of groups:\n",
       "        C         B         A \n",
       "0.2023810 0.3690476 0.4285714 \n",
       "\n",
       "Group means:\n",
       "  problem_solving organisation service_orientation    quality innovation\n",
       "C      -0.8830556   -0.5862421          -0.6175090 -0.7791669 -0.5231736\n",
       "B       0.2517116    0.3881859           0.2324173  0.1991476  0.3699165\n",
       "A       1.0263440    0.9955631           0.8967275  0.9540026  0.7204215\n",
       "  determination\n",
       "C    -0.1853281\n",
       "B     0.2575914\n",
       "A     0.2692439\n",
       "\n",
       "Coefficients of linear discriminants:\n",
       "                           LD1         LD2\n",
       "problem_solving      0.6905067  0.09087984\n",
       "organisation         0.5976341 -0.07085385\n",
       "service_orientation  0.3733228  0.51109617\n",
       "quality              0.2151611  0.17883835\n",
       "innovation           0.2167677 -0.67230864\n",
       "determination       -0.2995964 -0.77442396\n",
       "\n",
       "Proportion of trace:\n",
       "   LD1    LD2 \n",
       "0.9889 0.0111 "
      ]
     },
     "metadata": {},
     "output_type": "display_data"
    }
   ],
   "source": [
    "#Summary of the final model\n",
    "getTrainPerf(ml_lda)\n",
    "ml_lda$finalModel"
   ]
  },
  {
   "cell_type": "code",
   "execution_count": 21,
   "metadata": {},
   "outputs": [
    {
     "data": {
      "text/plain": [
       "ROC curve variable importance\n",
       "\n",
       "  variables are sorted by maximum importance across the classes\n",
       "                         C      B      A\n",
       "problem_solving     0.9372 0.7551 0.9372\n",
       "organisation        0.9104 0.7561 0.9104\n",
       "service_orientation 0.8783 0.7056 0.8783\n",
       "quality             0.8611 0.7213 0.8611\n",
       "innovation          0.7913 0.6735 0.7913\n",
       "determination       0.6227 0.5806 0.6227"
      ]
     },
     "metadata": {},
     "output_type": "display_data"
    },
    {
     "data": {
      "image/png": "[encoded data removed]",
      "text/plain": [
       "plot without title"
      ]
     },
     "metadata": {},
     "output_type": "display_data"
    }
   ],
   "source": [
    "#Importance of predictors\n",
    "(var_lda <- varImp(ml_lda, scale = F))\n",
    "plot(var_lda)"
   ]
  },
  {
   "cell_type": "markdown",
   "metadata": {},
   "source": [
    "# 4. Create model: Random Forest"
   ]
  },
  {
   "cell_type": "markdown",
   "metadata": {},
   "source": [
    "## 4.1 Selection of predictors"
   ]
  },
  {
   "cell_type": "code",
   "execution_count": 22,
   "metadata": {},
   "outputs": [
    {
     "data": {
      "text/plain": [
       "\n",
       "Recursive feature selection\n",
       "\n",
       "Outer resampling method: Cross-Validated (10 fold, repeated 10 times) \n",
       "\n",
       "Resampling performance over subset size:\n",
       "\n",
       " Variables Accuracy  Kappa AccuracySD KappaSD Selected\n",
       "         1   0.6137 0.3356    0.10177  0.1750         \n",
       "         2   0.6177 0.3106    0.09080  0.1706         \n",
       "         3   0.7183 0.4897    0.10087  0.1859        *\n",
       "         4   0.6875 0.4454    0.11421  0.2053         \n",
       "         5   0.6445 0.3809    0.09984  0.1766         \n",
       "         6   0.6417 0.3732    0.09667  0.1726         \n",
       "         7   0.6579 0.3906    0.10412  0.1898         \n",
       "         8   0.6652 0.4005    0.09450  0.1725         \n",
       "         9   0.6594 0.3883    0.10670  0.1956         \n",
       "\n",
       "The top 3 variables (out of 3):\n",
       "   problem_solving, organisation, quality\n"
      ]
     },
     "metadata": {},
     "output_type": "display_data"
    }
   ],
   "source": [
    "#Process RFE\n",
    "ml_forest_rfe <- rfe(performance ~ .,\n",
    "                     data = train,\n",
    "                     sizes = c(1:9),\n",
    "                     metric = \"Kappa\",\n",
    "                     rfeControl = rfe_rf)\n",
    "\n",
    "ml_forest_rfe"
   ]
  },
  {
   "cell_type": "code",
   "execution_count": 23,
   "metadata": {},
   "outputs": [
    {
     "data": {
      "text/html": [
       "<table>\n",
       "<caption>A data.frame: 4 × 1</caption>\n",
       "<thead>\n",
       "\t<tr><th></th><th scope=col>Overall</th></tr>\n",
       "\t<tr><th></th><th scope=col>&lt;dbl&gt;</th></tr>\n",
       "</thead>\n",
       "<tbody>\n",
       "\t<tr><th scope=row>problem_solving</th><td>14.688904</td></tr>\n",
       "\t<tr><th scope=row>organisation</th><td>10.323213</td></tr>\n",
       "\t<tr><th scope=row>quality</th><td> 8.280853</td></tr>\n",
       "\t<tr><th scope=row>service_orientation</th><td> 7.355129</td></tr>\n",
       "</tbody>\n",
       "</table>\n"
      ],
      "text/latex": [
       "A data.frame: 4 × 1\n",
       "\\begin{tabular}{r|l}\n",
       "  & Overall\\\\\n",
       "  & <dbl>\\\\\n",
       "\\hline\n",
       "\tproblem\\_solving & 14.688904\\\\\n",
       "\torganisation & 10.323213\\\\\n",
       "\tquality &  8.280853\\\\\n",
       "\tservice\\_orientation &  7.355129\\\\\n",
       "\\end{tabular}\n"
      ],
      "text/markdown": [
       "\n",
       "A data.frame: 4 × 1\n",
       "\n",
       "| <!--/--> | Overall &lt;dbl&gt; |\n",
       "|---|---|\n",
       "| problem_solving | 14.688904 |\n",
       "| organisation | 10.323213 |\n",
       "| quality |  8.280853 |\n",
       "| service_orientation |  7.355129 |\n",
       "\n"
      ],
      "text/plain": [
       "                    Overall  \n",
       "problem_solving     14.688904\n",
       "organisation        10.323213\n",
       "quality              8.280853\n",
       "service_orientation  7.355129"
      ]
     },
     "metadata": {},
     "output_type": "display_data"
    },
    {
     "data": {
      "image/png": "[encoded data removed]",
      "text/plain": [
       "plot without title"
      ]
     },
     "metadata": {},
     "output_type": "display_data"
    }
   ],
   "source": [
    "#Review importance of predictors\n",
    "caret::varImp(ml_forest_rfe, scale = F)\n",
    "plot(ml_forest_rfe, type = c(\"g\", \"o\"))"
   ]
  },
  {
   "cell_type": "markdown",
   "metadata": {},
   "source": [
    "## 4.2 Define model"
   ]
  },
  {
   "cell_type": "code",
   "execution_count": 24,
   "metadata": {},
   "outputs": [
    {
     "name": "stdout",
     "output_type": "stream",
     "text": [
      "note: only 5 unique complexity parameters in default grid. Truncating the grid to 5 .\n",
      "\n"
     ]
    }
   ],
   "source": [
    "ml_forest_gen <- caret::train(performance ~ problem_solving+organisation+\n",
    "                              quality+innovation+service_orientation+determination,\n",
    "                              data = train,\n",
    "                              method = \"rf\", tuneLength = 10,\n",
    "                              trControl = ctrl,\n",
    "                              metric = \"Kappa\")"
   ]
  },
  {
   "cell_type": "markdown",
   "metadata": {},
   "source": [
    "## 4.3 Optimise model"
   ]
  },
  {
   "cell_type": "code",
   "execution_count": 25,
   "metadata": {},
   "outputs": [
    {
     "data": {
      "text/plain": [
       "Random Forest \n",
       "\n",
       "182 samples\n",
       "  6 predictor\n",
       "  3 classes: 'C', 'B', 'A' \n",
       "\n",
       "No pre-processing\n",
       "Resampling: Cross-Validated (10 fold, repeated 10 times) \n",
       "Summary of sample sizes: 165, 163, 165, 163, 164, 163, ... \n",
       "Addtional sampling using SMOTE\n",
       "\n",
       "Resampling results across tuning parameters:\n",
       "\n",
       "  mtry  logLoss    AUC        prAUC      Accuracy   Kappa      Mean_F1  \n",
       "  2     0.9907033  0.8162003  0.5357347  0.6679082  0.4503277  0.6487182\n",
       "  3     1.0977884  0.8196470  0.5407213  0.6560222  0.4268924  0.6424987\n",
       "  4     1.2134160  0.8116501  0.5360347  0.6579955  0.4311174  0.6495424\n",
       "  5     1.4152782  0.7959834  0.5200459  0.6217621  0.3723881  0.6080831\n",
       "  6     1.5662151  0.8097597  0.5305959  0.6489615  0.4151350  0.6390397\n",
       "  Mean_Sensitivity  Mean_Specificity  Mean_Pos_Pred_Value  Mean_Neg_Pred_Value\n",
       "  0.6707725         0.8141677         0.6657907            0.8177279          \n",
       "  0.6561693         0.8052720         0.6586932            0.8098004          \n",
       "  0.6598095         0.8078033         0.6588685            0.8114376          \n",
       "  0.6311164         0.7853751         0.6266381            0.7922866          \n",
       "  0.6462381         0.8010142         0.6481026            0.8069773          \n",
       "  Mean_Precision  Mean_Recall  Mean_Detection_Rate  Mean_Balanced_Accuracy\n",
       "  0.6657907       0.6707725    0.2226361            0.7424701             \n",
       "  0.6586932       0.6561693    0.2186741            0.7307206             \n",
       "  0.6588685       0.6598095    0.2193318            0.7338064             \n",
       "  0.6266381       0.6311164    0.2072540            0.7082458             \n",
       "  0.6481026       0.6462381    0.2163205            0.7236261             \n",
       "\n",
       "Kappa was used to select the optimal model using the largest value.\n",
       "The final value used for the model was mtry = 2."
      ]
     },
     "metadata": {},
     "output_type": "display_data"
    },
    {
     "data": {
      "image/png": "[encoded data removed]",
      "text/plain": [
       "plot without title"
      ]
     },
     "metadata": {},
     "output_type": "display_data"
    }
   ],
   "source": [
    "#View optimised parameters\n",
    "ml_forest_gen\n",
    "plot(ml_forest_gen)"
   ]
  },
  {
   "cell_type": "code",
   "execution_count": 26,
   "metadata": {},
   "outputs": [
    {
     "data": {
      "text/html": [
       "<table>\n",
       "<caption>A data.frame: 1 × 6</caption>\n",
       "<thead>\n",
       "\t<tr><th></th><th scope=col>model</th><th scope=col>parameter</th><th scope=col>label</th><th scope=col>forReg</th><th scope=col>forClass</th><th scope=col>probModel</th></tr>\n",
       "\t<tr><th></th><th scope=col>&lt;chr&gt;</th><th scope=col>&lt;chr&gt;</th><th scope=col>&lt;chr&gt;</th><th scope=col>&lt;lgl&gt;</th><th scope=col>&lt;lgl&gt;</th><th scope=col>&lt;lgl&gt;</th></tr>\n",
       "</thead>\n",
       "<tbody>\n",
       "\t<tr><th scope=row>1</th><td>rf</td><td>mtry</td><td>#Randomly Selected Predictors</td><td>TRUE</td><td>TRUE</td><td>TRUE</td></tr>\n",
       "</tbody>\n",
       "</table>\n"
      ],
      "text/latex": [
       "A data.frame: 1 × 6\n",
       "\\begin{tabular}{r|llllll}\n",
       "  & model & parameter & label & forReg & forClass & probModel\\\\\n",
       "  & <chr> & <chr> & <chr> & <lgl> & <lgl> & <lgl>\\\\\n",
       "\\hline\n",
       "\t1 & rf & mtry & \\#Randomly Selected Predictors & TRUE & TRUE & TRUE\\\\\n",
       "\\end{tabular}\n"
      ],
      "text/markdown": [
       "\n",
       "A data.frame: 1 × 6\n",
       "\n",
       "| <!--/--> | model &lt;chr&gt; | parameter &lt;chr&gt; | label &lt;chr&gt; | forReg &lt;lgl&gt; | forClass &lt;lgl&gt; | probModel &lt;lgl&gt; |\n",
       "|---|---|---|---|---|---|---|\n",
       "| 1 | rf | mtry | #Randomly Selected Predictors | TRUE | TRUE | TRUE |\n",
       "\n"
      ],
      "text/plain": [
       "  model parameter label                         forReg forClass probModel\n",
       "1 rf    mtry      #Randomly Selected Predictors TRUE   TRUE     TRUE     "
      ]
     },
     "metadata": {},
     "output_type": "display_data"
    }
   ],
   "source": [
    "#Look up info for Random Forest model\n",
    "modelLookup(\"rf\")"
   ]
  },
  {
   "cell_type": "code",
   "execution_count": 27,
   "metadata": {},
   "outputs": [],
   "source": [
    "#Define tuneGrid\n",
    "grid_forest <- expand.grid(mtry = 2)"
   ]
  },
  {
   "cell_type": "code",
   "execution_count": 28,
   "metadata": {},
   "outputs": [
    {
     "data": {
      "text/plain": [
       "Random Forest \n",
       "\n",
       "182 samples\n",
       "  6 predictor\n",
       "  3 classes: 'C', 'B', 'A' \n",
       "\n",
       "No pre-processing\n",
       "Resampling: Cross-Validated (10 fold, repeated 10 times) \n",
       "Summary of sample sizes: 164, 163, 165, 164, 164, 164, ... \n",
       "Addtional sampling using SMOTE\n",
       "\n",
       "Resampling results:\n",
       "\n",
       "  logLoss    AUC        prAUC      Accuracy   Kappa      Mean_F1 \n",
       "  0.9408779  0.8274277  0.5469524  0.6513682  0.4238315  0.647398\n",
       "  Mean_Sensitivity  Mean_Specificity  Mean_Pos_Pred_Value  Mean_Neg_Pred_Value\n",
       "  0.6524444         0.8049386         0.6408345            0.8078598          \n",
       "  Mean_Precision  Mean_Recall  Mean_Detection_Rate  Mean_Balanced_Accuracy\n",
       "  0.6408345       0.6524444    0.2171227            0.7286915             \n",
       "\n",
       "Tuning parameter 'mtry' was held constant at a value of 2"
      ]
     },
     "metadata": {},
     "output_type": "display_data"
    }
   ],
   "source": [
    "#Define final model\n",
    "ml_forest <- caret::train(performance ~ problem_solving+organisation+\n",
    "                          quality+innovation+service_orientation+determination,\n",
    "                          data = train,\n",
    "                          method = \"rf\", tuneGrid = grid_forest,\n",
    "                          trControl = ctrl)\n",
    "\n",
    "\n",
    "ml_forest"
   ]
  },
  {
   "cell_type": "markdown",
   "metadata": {},
   "source": [
    "## 4.4 Summary"
   ]
  },
  {
   "cell_type": "code",
   "execution_count": 29,
   "metadata": {},
   "outputs": [
    {
     "data": {
      "text/html": [
       "<table>\n",
       "<caption>A data.frame: 1 × 15</caption>\n",
       "<thead>\n",
       "\t<tr><th scope=col>TrainlogLoss</th><th scope=col>TrainAUC</th><th scope=col>TrainprAUC</th><th scope=col>TrainAccuracy</th><th scope=col>TrainKappa</th><th scope=col>TrainMean_F1</th><th scope=col>TrainMean_Sensitivity</th><th scope=col>TrainMean_Specificity</th><th scope=col>TrainMean_Pos_Pred_Value</th><th scope=col>TrainMean_Neg_Pred_Value</th><th scope=col>TrainMean_Precision</th><th scope=col>TrainMean_Recall</th><th scope=col>TrainMean_Detection_Rate</th><th scope=col>TrainMean_Balanced_Accuracy</th><th scope=col>method</th></tr>\n",
       "\t<tr><th scope=col>&lt;dbl&gt;</th><th scope=col>&lt;dbl&gt;</th><th scope=col>&lt;dbl&gt;</th><th scope=col>&lt;dbl&gt;</th><th scope=col>&lt;dbl&gt;</th><th scope=col>&lt;dbl&gt;</th><th scope=col>&lt;dbl&gt;</th><th scope=col>&lt;dbl&gt;</th><th scope=col>&lt;dbl&gt;</th><th scope=col>&lt;dbl&gt;</th><th scope=col>&lt;dbl&gt;</th><th scope=col>&lt;dbl&gt;</th><th scope=col>&lt;dbl&gt;</th><th scope=col>&lt;dbl&gt;</th><th scope=col>&lt;chr&gt;</th></tr>\n",
       "</thead>\n",
       "<tbody>\n",
       "\t<tr><td>0.9408779</td><td>0.8274277</td><td>0.5469524</td><td>0.6513682</td><td>0.4238315</td><td>0.647398</td><td>0.6524444</td><td>0.8049386</td><td>0.6408345</td><td>0.8078598</td><td>0.6408345</td><td>0.6524444</td><td>0.2171227</td><td>0.7286915</td><td>rf</td></tr>\n",
       "</tbody>\n",
       "</table>\n"
      ],
      "text/latex": [
       "A data.frame: 1 × 15\n",
       "\\begin{tabular}{lllllllllllllll}\n",
       " TrainlogLoss & TrainAUC & TrainprAUC & TrainAccuracy & TrainKappa & TrainMean\\_F1 & TrainMean\\_Sensitivity & TrainMean\\_Specificity & TrainMean\\_Pos\\_Pred\\_Value & TrainMean\\_Neg\\_Pred\\_Value & TrainMean\\_Precision & TrainMean\\_Recall & TrainMean\\_Detection\\_Rate & TrainMean\\_Balanced\\_Accuracy & method\\\\\n",
       " <dbl> & <dbl> & <dbl> & <dbl> & <dbl> & <dbl> & <dbl> & <dbl> & <dbl> & <dbl> & <dbl> & <dbl> & <dbl> & <dbl> & <chr>\\\\\n",
       "\\hline\n",
       "\t 0.9408779 & 0.8274277 & 0.5469524 & 0.6513682 & 0.4238315 & 0.647398 & 0.6524444 & 0.8049386 & 0.6408345 & 0.8078598 & 0.6408345 & 0.6524444 & 0.2171227 & 0.7286915 & rf\\\\\n",
       "\\end{tabular}\n"
      ],
      "text/markdown": [
       "\n",
       "A data.frame: 1 × 15\n",
       "\n",
       "| TrainlogLoss &lt;dbl&gt; | TrainAUC &lt;dbl&gt; | TrainprAUC &lt;dbl&gt; | TrainAccuracy &lt;dbl&gt; | TrainKappa &lt;dbl&gt; | TrainMean_F1 &lt;dbl&gt; | TrainMean_Sensitivity &lt;dbl&gt; | TrainMean_Specificity &lt;dbl&gt; | TrainMean_Pos_Pred_Value &lt;dbl&gt; | TrainMean_Neg_Pred_Value &lt;dbl&gt; | TrainMean_Precision &lt;dbl&gt; | TrainMean_Recall &lt;dbl&gt; | TrainMean_Detection_Rate &lt;dbl&gt; | TrainMean_Balanced_Accuracy &lt;dbl&gt; | method &lt;chr&gt; |\n",
       "|---|---|---|---|---|---|---|---|---|---|---|---|---|---|---|\n",
       "| 0.9408779 | 0.8274277 | 0.5469524 | 0.6513682 | 0.4238315 | 0.647398 | 0.6524444 | 0.8049386 | 0.6408345 | 0.8078598 | 0.6408345 | 0.6524444 | 0.2171227 | 0.7286915 | rf |\n",
       "\n"
      ],
      "text/plain": [
       "  TrainlogLoss TrainAUC  TrainprAUC TrainAccuracy TrainKappa TrainMean_F1\n",
       "1 0.9408779    0.8274277 0.5469524  0.6513682     0.4238315  0.647398    \n",
       "  TrainMean_Sensitivity TrainMean_Specificity TrainMean_Pos_Pred_Value\n",
       "1 0.6524444             0.8049386             0.6408345               \n",
       "  TrainMean_Neg_Pred_Value TrainMean_Precision TrainMean_Recall\n",
       "1 0.8078598                0.6408345           0.6524444       \n",
       "  TrainMean_Detection_Rate TrainMean_Balanced_Accuracy method\n",
       "1 0.2171227                0.7286915                   rf    "
      ]
     },
     "metadata": {},
     "output_type": "display_data"
    },
    {
     "data": {
      "text/plain": [
       "\n",
       "Call:\n",
       " randomForest(x = x, y = y, mtry = param$mtry) \n",
       "               Type of random forest: classification\n",
       "                     Number of trees: 500\n",
       "No. of variables tried at each split: 2\n",
       "\n",
       "        OOB estimate of  error rate: 18.45%\n",
       "Confusion matrix:\n",
       "   C  B  A class.error\n",
       "C 24 13  1  0.36842105\n",
       "B  8 48  2  0.17241379\n",
       "A  0  7 65  0.09722222"
      ]
     },
     "metadata": {},
     "output_type": "display_data"
    }
   ],
   "source": [
    "#Summary of final model\n",
    "caret::getTrainPerf(ml_forest)\n",
    "ml_forest$finalModel"
   ]
  },
  {
   "cell_type": "code",
   "execution_count": 30,
   "metadata": {},
   "outputs": [
    {
     "data": {
      "text/plain": [
       "rf variable importance\n",
       "\n",
       "                    Overall\n",
       "organisation         25.219\n",
       "problem_solving      18.038\n",
       "determination        17.991\n",
       "quality              16.546\n",
       "service_orientation   8.111\n",
       "innovation            7.151"
      ]
     },
     "metadata": {},
     "output_type": "display_data"
    },
    {
     "data": {
      "image/png": "[encoded data removed]",
      "text/plain": [
       "plot without title"
      ]
     },
     "metadata": {},
     "output_type": "display_data"
    }
   ],
   "source": [
    "#Importance of variables\n",
    "(var_forest <- caret::varImp(ml_forest, scale = F))\n",
    "plot(var_forest)"
   ]
  },
  {
   "cell_type": "markdown",
   "metadata": {},
   "source": [
    "# 5. Create model: Non-Linear Support Vector Machines"
   ]
  },
  {
   "cell_type": "markdown",
   "metadata": {},
   "source": [
    "## 5.1 Selection of predictors"
   ]
  },
  {
   "cell_type": "code",
   "execution_count": 31,
   "metadata": {},
   "outputs": [
    {
     "name": "stdout",
     "output_type": "stream",
     "text": [
      "note: only 2 unique complexity parameters in default grid. Truncating the grid to 2 .\n",
      "\n",
      "note: only 1 unique complexity parameters in default grid. Truncating the grid to 1 .\n",
      "\n",
      "note: only 2 unique complexity parameters in default grid. Truncating the grid to 2 .\n",
      "\n",
      "note: only 1 unique complexity parameters in default grid. Truncating the grid to 1 .\n",
      "\n",
      "note: only 2 unique complexity parameters in default grid. Truncating the grid to 2 .\n",
      "\n",
      "note: only 1 unique complexity parameters in default grid. Truncating the grid to 1 .\n",
      "\n",
      "note: only 2 unique complexity parameters in default grid. Truncating the grid to 2 .\n",
      "\n",
      "note: only 1 unique complexity parameters in default grid. Truncating the grid to 1 .\n",
      "\n",
      "note: only 2 unique complexity parameters in default grid. Truncating the grid to 2 .\n",
      "\n",
      "note: only 1 unique complexity parameters in default grid. Truncating the grid to 1 .\n",
      "\n",
      "note: only 2 unique complexity parameters in default grid. Truncating the grid to 2 .\n",
      "\n",
      "note: only 1 unique complexity parameters in default grid. Truncating the grid to 1 .\n",
      "\n",
      "note: only 2 unique complexity parameters in default grid. Truncating the grid to 2 .\n",
      "\n",
      "note: only 1 unique complexity parameters in default grid. Truncating the grid to 1 .\n",
      "\n",
      "note: only 2 unique complexity parameters in default grid. Truncating the grid to 2 .\n",
      "\n",
      "note: only 1 unique complexity parameters in default grid. Truncating the grid to 1 .\n",
      "\n",
      "note: only 2 unique complexity parameters in default grid. Truncating the grid to 2 .\n",
      "\n",
      "note: only 1 unique complexity parameters in default grid. Truncating the grid to 1 .\n",
      "\n",
      "note: only 2 unique complexity parameters in default grid. Truncating the grid to 2 .\n",
      "\n",
      "note: only 1 unique complexity parameters in default grid. Truncating the grid to 1 .\n",
      "\n",
      "note: only 2 unique complexity parameters in default grid. Truncating the grid to 2 .\n",
      "\n",
      "note: only 1 unique complexity parameters in default grid. Truncating the grid to 1 .\n",
      "\n",
      "note: only 2 unique complexity parameters in default grid. Truncating the grid to 2 .\n",
      "\n",
      "note: only 1 unique complexity parameters in default grid. Truncating the grid to 1 .\n",
      "\n",
      "note: only 2 unique complexity parameters in default grid. Truncating the grid to 2 .\n",
      "\n",
      "note: only 1 unique complexity parameters in default grid. Truncating the grid to 1 .\n",
      "\n",
      "note: only 2 unique complexity parameters in default grid. Truncating the grid to 2 .\n",
      "\n",
      "note: only 1 unique complexity parameters in default grid. Truncating the grid to 1 .\n",
      "\n",
      "note: only 2 unique complexity parameters in default grid. Truncating the grid to 2 .\n",
      "\n",
      "note: only 1 unique complexity parameters in default grid. Truncating the grid to 1 .\n",
      "\n",
      "note: only 2 unique complexity parameters in default grid. Truncating the grid to 2 .\n",
      "\n",
      "note: only 1 unique complexity parameters in default grid. Truncating the grid to 1 .\n",
      "\n",
      "note: only 2 unique complexity parameters in default grid. Truncating the grid to 2 .\n",
      "\n",
      "note: only 1 unique complexity parameters in default grid. Truncating the grid to 1 .\n",
      "\n",
      "note: only 2 unique complexity parameters in default grid. Truncating the grid to 2 .\n",
      "\n",
      "note: only 1 unique complexity parameters in default grid. Truncating the grid to 1 .\n",
      "\n",
      "note: only 2 unique complexity parameters in default grid. Truncating the grid to 2 .\n",
      "\n",
      "note: only 1 unique complexity parameters in default grid. Truncating the grid to 1 .\n",
      "\n",
      "note: only 2 unique complexity parameters in default grid. Truncating the grid to 2 .\n",
      "\n",
      "note: only 1 unique complexity parameters in default grid. Truncating the grid to 1 .\n",
      "\n",
      "note: only 2 unique complexity parameters in default grid. Truncating the grid to 2 .\n",
      "\n",
      "note: only 1 unique complexity parameters in default grid. Truncating the grid to 1 .\n",
      "\n",
      "note: only 2 unique complexity parameters in default grid. Truncating the grid to 2 .\n",
      "\n",
      "note: only 1 unique complexity parameters in default grid. Truncating the grid to 1 .\n",
      "\n",
      "note: only 2 unique complexity parameters in default grid. Truncating the grid to 2 .\n",
      "\n",
      "note: only 1 unique complexity parameters in default grid. Truncating the grid to 1 .\n",
      "\n",
      "note: only 2 unique complexity parameters in default grid. Truncating the grid to 2 .\n",
      "\n",
      "note: only 1 unique complexity parameters in default grid. Truncating the grid to 1 .\n",
      "\n",
      "note: only 2 unique complexity parameters in default grid. Truncating the grid to 2 .\n",
      "\n",
      "note: only 1 unique complexity parameters in default grid. Truncating the grid to 1 .\n",
      "\n",
      "note: only 2 unique complexity parameters in default grid. Truncating the grid to 2 .\n",
      "\n",
      "note: only 1 unique complexity parameters in default grid. Truncating the grid to 1 .\n",
      "\n",
      "note: only 2 unique complexity parameters in default grid. Truncating the grid to 2 .\n",
      "\n",
      "note: only 1 unique complexity parameters in default grid. Truncating the grid to 1 .\n",
      "\n",
      "note: only 2 unique complexity parameters in default grid. Truncating the grid to 2 .\n",
      "\n",
      "note: only 1 unique complexity parameters in default grid. Truncating the grid to 1 .\n",
      "\n",
      "note: only 2 unique complexity parameters in default grid. Truncating the grid to 2 .\n",
      "\n",
      "note: only 1 unique complexity parameters in default grid. Truncating the grid to 1 .\n",
      "\n",
      "note: only 2 unique complexity parameters in default grid. Truncating the grid to 2 .\n",
      "\n",
      "note: only 1 unique complexity parameters in default grid. Truncating the grid to 1 .\n",
      "\n",
      "note: only 2 unique complexity parameters in default grid. Truncating the grid to 2 .\n",
      "\n",
      "note: only 1 unique complexity parameters in default grid. Truncating the grid to 1 .\n",
      "\n",
      "note: only 2 unique complexity parameters in default grid. Truncating the grid to 2 .\n",
      "\n",
      "note: only 1 unique complexity parameters in default grid. Truncating the grid to 1 .\n",
      "\n",
      "note: only 2 unique complexity parameters in default grid. Truncating the grid to 2 .\n",
      "\n",
      "note: only 1 unique complexity parameters in default grid. Truncating the grid to 1 .\n",
      "\n",
      "note: only 2 unique complexity parameters in default grid. Truncating the grid to 2 .\n",
      "\n",
      "note: only 1 unique complexity parameters in default grid. Truncating the grid to 1 .\n",
      "\n",
      "note: only 2 unique complexity parameters in default grid. Truncating the grid to 2 .\n",
      "\n",
      "note: only 1 unique complexity parameters in default grid. Truncating the grid to 1 .\n",
      "\n",
      "note: only 2 unique complexity parameters in default grid. Truncating the grid to 2 .\n",
      "\n",
      "note: only 1 unique complexity parameters in default grid. Truncating the grid to 1 .\n",
      "\n",
      "note: only 2 unique complexity parameters in default grid. Truncating the grid to 2 .\n",
      "\n",
      "note: only 1 unique complexity parameters in default grid. Truncating the grid to 1 .\n",
      "\n",
      "note: only 2 unique complexity parameters in default grid. Truncating the grid to 2 .\n",
      "\n",
      "note: only 1 unique complexity parameters in default grid. Truncating the grid to 1 .\n",
      "\n",
      "note: only 2 unique complexity parameters in default grid. Truncating the grid to 2 .\n",
      "\n",
      "note: only 1 unique complexity parameters in default grid. Truncating the grid to 1 .\n",
      "\n",
      "note: only 2 unique complexity parameters in default grid. Truncating the grid to 2 .\n",
      "\n",
      "note: only 1 unique complexity parameters in default grid. Truncating the grid to 1 .\n",
      "\n",
      "note: only 2 unique complexity parameters in default grid. Truncating the grid to 2 .\n",
      "\n",
      "note: only 1 unique complexity parameters in default grid. Truncating the grid to 1 .\n",
      "\n",
      "note: only 2 unique complexity parameters in default grid. Truncating the grid to 2 .\n",
      "\n",
      "note: only 1 unique complexity parameters in default grid. Truncating the grid to 1 .\n",
      "\n",
      "note: only 2 unique complexity parameters in default grid. Truncating the grid to 2 .\n",
      "\n",
      "note: only 1 unique complexity parameters in default grid. Truncating the grid to 1 .\n",
      "\n",
      "note: only 2 unique complexity parameters in default grid. Truncating the grid to 2 .\n",
      "\n",
      "note: only 1 unique complexity parameters in default grid. Truncating the grid to 1 .\n",
      "\n",
      "note: only 2 unique complexity parameters in default grid. Truncating the grid to 2 .\n",
      "\n",
      "note: only 1 unique complexity parameters in default grid. Truncating the grid to 1 .\n",
      "\n",
      "note: only 2 unique complexity parameters in default grid. Truncating the grid to 2 .\n",
      "\n",
      "note: only 1 unique complexity parameters in default grid. Truncating the grid to 1 .\n",
      "\n",
      "note: only 2 unique complexity parameters in default grid. Truncating the grid to 2 .\n",
      "\n",
      "note: only 1 unique complexity parameters in default grid. Truncating the grid to 1 .\n",
      "\n",
      "note: only 2 unique complexity parameters in default grid. Truncating the grid to 2 .\n",
      "\n"
     ]
    },
    {
     "name": "stdout",
     "output_type": "stream",
     "text": [
      "note: only 1 unique complexity parameters in default grid. Truncating the grid to 1 .\n",
      "\n",
      "note: only 2 unique complexity parameters in default grid. Truncating the grid to 2 .\n",
      "\n",
      "note: only 1 unique complexity parameters in default grid. Truncating the grid to 1 .\n",
      "\n",
      "note: only 2 unique complexity parameters in default grid. Truncating the grid to 2 .\n",
      "\n",
      "note: only 1 unique complexity parameters in default grid. Truncating the grid to 1 .\n",
      "\n"
     ]
    },
    {
     "data": {
      "text/plain": [
       "\n",
       "Recursive feature selection\n",
       "\n",
       "Outer resampling method: Cross-Validated (10 fold, repeated 5 times) \n",
       "\n",
       "Resampling performance over subset size:\n",
       "\n",
       " Variables Accuracy   Kappa AccuracySD KappaSD Selected\n",
       "         1   0.4929 0.09808    0.09776  0.1710         \n",
       "         2   0.4777 0.08543    0.08524  0.1475         \n",
       "         3   0.5133 0.15576    0.09397  0.1710         \n",
       "         4   0.5326 0.18588    0.11130  0.1967         \n",
       "         5   0.5975 0.28908    0.11980  0.2098         \n",
       "         6   0.5915 0.27563    0.10985  0.1932         \n",
       "         7   0.6266 0.32608    0.09508  0.1699         \n",
       "         8   0.6384 0.35474    0.09928  0.1753         \n",
       "         9   0.6721 0.40927    0.09588  0.1714        *\n",
       "\n",
       "The top 5 variables (out of 9):\n",
       "   curiosity, analysis, problem_solving, organisation, determination\n"
      ]
     },
     "metadata": {},
     "output_type": "display_data"
    }
   ],
   "source": [
    "#Process RFE\n",
    "ml_gen_rfe <- rfe(performance ~ .,\n",
    "                  data = train,\n",
    "                  sizes = c(1:9),\n",
    "                  metric = \"Kappa\",\n",
    "                  rfeControl = rfe_gen)\n",
    "\n",
    "ml_gen_rfe"
   ]
  },
  {
   "cell_type": "code",
   "execution_count": 32,
   "metadata": {},
   "outputs": [
    {
     "data": {
      "text/html": [
       "<table>\n",
       "<caption>A data.frame: 9 × 1</caption>\n",
       "<thead>\n",
       "\t<tr><th></th><th scope=col>Overall</th></tr>\n",
       "\t<tr><th></th><th scope=col>&lt;dbl&gt;</th></tr>\n",
       "</thead>\n",
       "<tbody>\n",
       "\t<tr><th scope=row>curiosity</th><td>14.295735</td></tr>\n",
       "\t<tr><th scope=row>analysis</th><td>12.267860</td></tr>\n",
       "\t<tr><th scope=row>problem_solving</th><td>11.540779</td></tr>\n",
       "\t<tr><th scope=row>organisation</th><td>11.103267</td></tr>\n",
       "\t<tr><th scope=row>determination</th><td>11.014279</td></tr>\n",
       "\t<tr><th scope=row>empowerment</th><td> 9.395342</td></tr>\n",
       "\t<tr><th scope=row>quality</th><td> 8.416893</td></tr>\n",
       "\t<tr><th scope=row>service_orientation</th><td> 6.513806</td></tr>\n",
       "\t<tr><th scope=row>innovation</th><td> 6.426620</td></tr>\n",
       "</tbody>\n",
       "</table>\n"
      ],
      "text/latex": [
       "A data.frame: 9 × 1\n",
       "\\begin{tabular}{r|l}\n",
       "  & Overall\\\\\n",
       "  & <dbl>\\\\\n",
       "\\hline\n",
       "\tcuriosity & 14.295735\\\\\n",
       "\tanalysis & 12.267860\\\\\n",
       "\tproblem\\_solving & 11.540779\\\\\n",
       "\torganisation & 11.103267\\\\\n",
       "\tdetermination & 11.014279\\\\\n",
       "\tempowerment &  9.395342\\\\\n",
       "\tquality &  8.416893\\\\\n",
       "\tservice\\_orientation &  6.513806\\\\\n",
       "\tinnovation &  6.426620\\\\\n",
       "\\end{tabular}\n"
      ],
      "text/markdown": [
       "\n",
       "A data.frame: 9 × 1\n",
       "\n",
       "| <!--/--> | Overall &lt;dbl&gt; |\n",
       "|---|---|\n",
       "| curiosity | 14.295735 |\n",
       "| analysis | 12.267860 |\n",
       "| problem_solving | 11.540779 |\n",
       "| organisation | 11.103267 |\n",
       "| determination | 11.014279 |\n",
       "| empowerment |  9.395342 |\n",
       "| quality |  8.416893 |\n",
       "| service_orientation |  6.513806 |\n",
       "| innovation |  6.426620 |\n",
       "\n"
      ],
      "text/plain": [
       "                    Overall  \n",
       "curiosity           14.295735\n",
       "analysis            12.267860\n",
       "problem_solving     11.540779\n",
       "organisation        11.103267\n",
       "determination       11.014279\n",
       "empowerment          9.395342\n",
       "quality              8.416893\n",
       "service_orientation  6.513806\n",
       "innovation           6.426620"
      ]
     },
     "metadata": {},
     "output_type": "display_data"
    },
    {
     "data": {
      "image/png": "[encoded data removed]",
      "text/plain": [
       "plot without title"
      ]
     },
     "metadata": {},
     "output_type": "display_data"
    }
   ],
   "source": [
    "#Review importance of predictors\n",
    "caret::varImp(ml_gen_rfe, scale = F)\n",
    "plot(ml_gen_rfe, type = c(\"g\", \"o\"))"
   ]
  },
  {
   "cell_type": "markdown",
   "metadata": {},
   "source": [
    "## 5.2 Define model"
   ]
  },
  {
   "cell_type": "code",
   "execution_count": 33,
   "metadata": {},
   "outputs": [],
   "source": [
    "#Train model\n",
    "ml_svmnl_gen <- caret::train(performance ~ organisation+curiosity+problem_solving+\n",
    "                             analysis+determination+empowerment+quality+\n",
    "                             innovation+service_orientation,\n",
    "                             data = train,\n",
    "                             method = \"svmRadial\", tuneLength = 10,\n",
    "                             trControl = ctrl,\n",
    "                             importance = T,\n",
    "                             metric = \"Kappa\")"
   ]
  },
  {
   "cell_type": "markdown",
   "metadata": {},
   "source": [
    "## 5.3 Optimise model"
   ]
  },
  {
   "cell_type": "code",
   "execution_count": 34,
   "metadata": {},
   "outputs": [
    {
     "data": {
      "text/plain": [
       "Support Vector Machines with Radial Basis Function Kernel \n",
       "\n",
       "182 samples\n",
       "  9 predictor\n",
       "  3 classes: 'C', 'B', 'A' \n",
       "\n",
       "No pre-processing\n",
       "Resampling: Cross-Validated (10 fold, repeated 10 times) \n",
       "Summary of sample sizes: 163, 163, 165, 165, 163, 162, ... \n",
       "Addtional sampling using SMOTE\n",
       "\n",
       "Resampling results across tuning parameters:\n",
       "\n",
       "  C       logLoss    AUC        prAUC      Accuracy   Kappa      Mean_F1  \n",
       "    0.25  0.8177703  0.8189882  0.5401031  0.6498653  0.4331690  0.6432807\n",
       "    0.50  0.7997042  0.8109700  0.5314659  0.6424348  0.4213324  0.6343127\n",
       "    1.00  0.8224906  0.8045115  0.5279383  0.6235499  0.3847357  0.6106127\n",
       "    2.00  0.8373109  0.7926407  0.5125165  0.6087993  0.3576280  0.5977411\n",
       "    4.00  0.8770227  0.7790315  0.5023402  0.5896271  0.3213528  0.5773237\n",
       "    8.00  0.8668527  0.7796519  0.5008637  0.5946723  0.3271239  0.5864388\n",
       "   16.00  0.9063821  0.7694590  0.4904748  0.5668390  0.2809001  0.5683019\n",
       "   32.00  0.9413020  0.7587529  0.4817359  0.5932329  0.3164040  0.5888537\n",
       "   64.00  0.9556056  0.7543915  0.4837206  0.5639735  0.2731785  0.5706481\n",
       "  128.00  0.9208268  0.7687101  0.4933749  0.6003082  0.3318156  0.5953472\n",
       "  Mean_Sensitivity  Mean_Specificity  Mean_Pos_Pred_Value  Mean_Neg_Pred_Value\n",
       "  0.6704550         0.8103693         0.6492445            0.8114431          \n",
       "  0.6648571         0.8053238         0.6439072            0.8085872          \n",
       "  0.6328095         0.7914592         0.6105910            0.7951759          \n",
       "  0.6103492         0.7824876         0.6010528            0.7871984          \n",
       "  0.5867937         0.7688714         0.5797961            0.7725113          \n",
       "  0.5845820         0.7710955         0.5838558            0.7768847          \n",
       "  0.5614656         0.7545724         0.5620409            0.7589024          \n",
       "  0.5716138         0.7673849         0.5756131            0.7734873          \n",
       "  0.5520741         0.7527963         0.5533954            0.7571922          \n",
       "  0.5832381         0.7733436         0.5815300            0.7758124          \n",
       "  Mean_Precision  Mean_Recall  Mean_Detection_Rate  Mean_Balanced_Accuracy\n",
       "  0.6492445       0.6704550    0.2166218            0.7404121             \n",
       "  0.6439072       0.6648571    0.2141449            0.7350905             \n",
       "  0.6105910       0.6328095    0.2078500            0.7121344             \n",
       "  0.6010528       0.6103492    0.2029331            0.6964184             \n",
       "  0.5797961       0.5867937    0.1965424            0.6778325             \n",
       "  0.5838558       0.5845820    0.1982241            0.6778388             \n",
       "  0.5620409       0.5614656    0.1889463            0.6580190             \n",
       "  0.5756131       0.5716138    0.1977443            0.6694994             \n",
       "  0.5533954       0.5520741    0.1879912            0.6524352             \n",
       "  0.5815300       0.5832381    0.2001027            0.6782909             \n",
       "\n",
       "Tuning parameter 'sigma' was held constant at a value of 0.08561516\n",
       "Kappa was used to select the optimal model using the largest value.\n",
       "The final values used for the model were sigma = 0.08561516 and C = 0.25."
      ]
     },
     "metadata": {},
     "output_type": "display_data"
    },
    {
     "data": {
      "image/png": "[encoded data removed]",
      "text/plain": [
       "plot without title"
      ]
     },
     "metadata": {},
     "output_type": "display_data"
    }
   ],
   "source": [
    "#Review optimised parameters\n",
    "ml_svmnl_gen\n",
    "plot(ml_svmnl_gen)"
   ]
  },
  {
   "cell_type": "code",
   "execution_count": 35,
   "metadata": {},
   "outputs": [
    {
     "data": {
      "text/html": [
       "<table>\n",
       "<caption>A data.frame: 2 × 6</caption>\n",
       "<thead>\n",
       "\t<tr><th></th><th scope=col>model</th><th scope=col>parameter</th><th scope=col>label</th><th scope=col>forReg</th><th scope=col>forClass</th><th scope=col>probModel</th></tr>\n",
       "\t<tr><th></th><th scope=col>&lt;chr&gt;</th><th scope=col>&lt;chr&gt;</th><th scope=col>&lt;chr&gt;</th><th scope=col>&lt;lgl&gt;</th><th scope=col>&lt;lgl&gt;</th><th scope=col>&lt;lgl&gt;</th></tr>\n",
       "</thead>\n",
       "<tbody>\n",
       "\t<tr><th scope=row>1</th><td>svmRadial</td><td>sigma</td><td>Sigma</td><td>TRUE</td><td>TRUE</td><td>TRUE</td></tr>\n",
       "\t<tr><th scope=row>2</th><td>svmRadial</td><td>C    </td><td>Cost </td><td>TRUE</td><td>TRUE</td><td>TRUE</td></tr>\n",
       "</tbody>\n",
       "</table>\n"
      ],
      "text/latex": [
       "A data.frame: 2 × 6\n",
       "\\begin{tabular}{r|llllll}\n",
       "  & model & parameter & label & forReg & forClass & probModel\\\\\n",
       "  & <chr> & <chr> & <chr> & <lgl> & <lgl> & <lgl>\\\\\n",
       "\\hline\n",
       "\t1 & svmRadial & sigma & Sigma & TRUE & TRUE & TRUE\\\\\n",
       "\t2 & svmRadial & C     & Cost  & TRUE & TRUE & TRUE\\\\\n",
       "\\end{tabular}\n"
      ],
      "text/markdown": [
       "\n",
       "A data.frame: 2 × 6\n",
       "\n",
       "| <!--/--> | model &lt;chr&gt; | parameter &lt;chr&gt; | label &lt;chr&gt; | forReg &lt;lgl&gt; | forClass &lt;lgl&gt; | probModel &lt;lgl&gt; |\n",
       "|---|---|---|---|---|---|---|\n",
       "| 1 | svmRadial | sigma | Sigma | TRUE | TRUE | TRUE |\n",
       "| 2 | svmRadial | C     | Cost  | TRUE | TRUE | TRUE |\n",
       "\n"
      ],
      "text/plain": [
       "  model     parameter label forReg forClass probModel\n",
       "1 svmRadial sigma     Sigma TRUE   TRUE     TRUE     \n",
       "2 svmRadial C         Cost  TRUE   TRUE     TRUE     "
      ]
     },
     "metadata": {},
     "output_type": "display_data"
    }
   ],
   "source": [
    "#Look up info for model svmboost\n",
    "modelLookup(\"svmRadial\")"
   ]
  },
  {
   "cell_type": "code",
   "execution_count": 36,
   "metadata": {},
   "outputs": [],
   "source": [
    "#Define tuneGrid\n",
    "grid_svmnl <- expand.grid(C = .5,\n",
    "                          sigma = .09128954)"
   ]
  },
  {
   "cell_type": "code",
   "execution_count": 37,
   "metadata": {},
   "outputs": [
    {
     "data": {
      "text/plain": [
       "Support Vector Machines with Radial Basis Function Kernel \n",
       "\n",
       "182 samples\n",
       "  9 predictor\n",
       "  3 classes: 'C', 'B', 'A' \n",
       "\n",
       "No pre-processing\n",
       "Resampling: Cross-Validated (10 fold, repeated 10 times) \n",
       "Summary of sample sizes: 163, 163, 163, 164, 163, 165, ... \n",
       "Addtional sampling using SMOTE\n",
       "\n",
       "Resampling results:\n",
       "\n",
       "  logLoss    AUC        prAUC      Accuracy   Kappa     Mean_F1  \n",
       "  0.8105747  0.8058762  0.5261541  0.6331933  0.407063  0.6196171\n",
       "  Mean_Sensitivity  Mean_Specificity  Mean_Pos_Pred_Value  Mean_Neg_Pred_Value\n",
       "  0.654127          0.7999529         0.6286079            0.8029165          \n",
       "  Mean_Precision  Mean_Recall  Mean_Detection_Rate  Mean_Balanced_Accuracy\n",
       "  0.6286079       0.654127     0.2110644            0.7270399             \n",
       "\n",
       "Tuning parameter 'sigma' was held constant at a value of 0.09128954\n",
       "\n",
       "Tuning parameter 'C' was held constant at a value of 0.5"
      ]
     },
     "metadata": {},
     "output_type": "display_data"
    }
   ],
   "source": [
    "#Define model\n",
    "ml_svmnl <- caret::train(performance ~ organisation+curiosity+problem_solving+\n",
    "                         analysis+determination+empowerment+quality+\n",
    "                         innovation+service_orientation,\n",
    "                         data = train,\n",
    "                         method = \"svmRadial\", tuneGrid = grid_svmnl,\n",
    "                         trControl = ctrl,\n",
    "                         importance = T)\n",
    "\n",
    "\n",
    "ml_svmnl"
   ]
  },
  {
   "cell_type": "markdown",
   "metadata": {},
   "source": [
    "## 5.4 Summary"
   ]
  },
  {
   "cell_type": "code",
   "execution_count": 38,
   "metadata": {},
   "outputs": [
    {
     "data": {
      "text/html": [
       "<table>\n",
       "<caption>A data.frame: 1 × 15</caption>\n",
       "<thead>\n",
       "\t<tr><th scope=col>TrainlogLoss</th><th scope=col>TrainAUC</th><th scope=col>TrainprAUC</th><th scope=col>TrainAccuracy</th><th scope=col>TrainKappa</th><th scope=col>TrainMean_F1</th><th scope=col>TrainMean_Sensitivity</th><th scope=col>TrainMean_Specificity</th><th scope=col>TrainMean_Pos_Pred_Value</th><th scope=col>TrainMean_Neg_Pred_Value</th><th scope=col>TrainMean_Precision</th><th scope=col>TrainMean_Recall</th><th scope=col>TrainMean_Detection_Rate</th><th scope=col>TrainMean_Balanced_Accuracy</th><th scope=col>method</th></tr>\n",
       "\t<tr><th scope=col>&lt;dbl&gt;</th><th scope=col>&lt;dbl&gt;</th><th scope=col>&lt;dbl&gt;</th><th scope=col>&lt;dbl&gt;</th><th scope=col>&lt;dbl&gt;</th><th scope=col>&lt;dbl&gt;</th><th scope=col>&lt;dbl&gt;</th><th scope=col>&lt;dbl&gt;</th><th scope=col>&lt;dbl&gt;</th><th scope=col>&lt;dbl&gt;</th><th scope=col>&lt;dbl&gt;</th><th scope=col>&lt;dbl&gt;</th><th scope=col>&lt;dbl&gt;</th><th scope=col>&lt;dbl&gt;</th><th scope=col>&lt;chr&gt;</th></tr>\n",
       "</thead>\n",
       "<tbody>\n",
       "\t<tr><td>0.8105747</td><td>0.8058762</td><td>0.5261541</td><td>0.6331933</td><td>0.407063</td><td>0.6196171</td><td>0.654127</td><td>0.7999529</td><td>0.6286079</td><td>0.8029165</td><td>0.6286079</td><td>0.654127</td><td>0.2110644</td><td>0.7270399</td><td>svmRadial</td></tr>\n",
       "</tbody>\n",
       "</table>\n"
      ],
      "text/latex": [
       "A data.frame: 1 × 15\n",
       "\\begin{tabular}{lllllllllllllll}\n",
       " TrainlogLoss & TrainAUC & TrainprAUC & TrainAccuracy & TrainKappa & TrainMean\\_F1 & TrainMean\\_Sensitivity & TrainMean\\_Specificity & TrainMean\\_Pos\\_Pred\\_Value & TrainMean\\_Neg\\_Pred\\_Value & TrainMean\\_Precision & TrainMean\\_Recall & TrainMean\\_Detection\\_Rate & TrainMean\\_Balanced\\_Accuracy & method\\\\\n",
       " <dbl> & <dbl> & <dbl> & <dbl> & <dbl> & <dbl> & <dbl> & <dbl> & <dbl> & <dbl> & <dbl> & <dbl> & <dbl> & <dbl> & <chr>\\\\\n",
       "\\hline\n",
       "\t 0.8105747 & 0.8058762 & 0.5261541 & 0.6331933 & 0.407063 & 0.6196171 & 0.654127 & 0.7999529 & 0.6286079 & 0.8029165 & 0.6286079 & 0.654127 & 0.2110644 & 0.7270399 & svmRadial\\\\\n",
       "\\end{tabular}\n"
      ],
      "text/markdown": [
       "\n",
       "A data.frame: 1 × 15\n",
       "\n",
       "| TrainlogLoss &lt;dbl&gt; | TrainAUC &lt;dbl&gt; | TrainprAUC &lt;dbl&gt; | TrainAccuracy &lt;dbl&gt; | TrainKappa &lt;dbl&gt; | TrainMean_F1 &lt;dbl&gt; | TrainMean_Sensitivity &lt;dbl&gt; | TrainMean_Specificity &lt;dbl&gt; | TrainMean_Pos_Pred_Value &lt;dbl&gt; | TrainMean_Neg_Pred_Value &lt;dbl&gt; | TrainMean_Precision &lt;dbl&gt; | TrainMean_Recall &lt;dbl&gt; | TrainMean_Detection_Rate &lt;dbl&gt; | TrainMean_Balanced_Accuracy &lt;dbl&gt; | method &lt;chr&gt; |\n",
       "|---|---|---|---|---|---|---|---|---|---|---|---|---|---|---|\n",
       "| 0.8105747 | 0.8058762 | 0.5261541 | 0.6331933 | 0.407063 | 0.6196171 | 0.654127 | 0.7999529 | 0.6286079 | 0.8029165 | 0.6286079 | 0.654127 | 0.2110644 | 0.7270399 | svmRadial |\n",
       "\n"
      ],
      "text/plain": [
       "  TrainlogLoss TrainAUC  TrainprAUC TrainAccuracy TrainKappa TrainMean_F1\n",
       "1 0.8105747    0.8058762 0.5261541  0.6331933     0.407063   0.6196171   \n",
       "  TrainMean_Sensitivity TrainMean_Specificity TrainMean_Pos_Pred_Value\n",
       "1 0.654127              0.7999529             0.6286079               \n",
       "  TrainMean_Neg_Pred_Value TrainMean_Precision TrainMean_Recall\n",
       "1 0.8029165                0.6286079           0.654127        \n",
       "  TrainMean_Detection_Rate TrainMean_Balanced_Accuracy method   \n",
       "1 0.2110644                0.7270399                   svmRadial"
      ]
     },
     "metadata": {},
     "output_type": "display_data"
    },
    {
     "data": {
      "text/plain": [
       "Support Vector Machine object of class \"ksvm\" \n",
       "\n",
       "SV type: C-svc  (classification) \n",
       " parameter : cost C = 0.5 \n",
       "\n",
       "Gaussian Radial Basis kernel function. \n",
       " Hyperparameter : sigma =  0.09128954 \n",
       "\n",
       "Number of Support Vectors : 136 \n",
       "\n",
       "Objective Function Value : -20.8486 -9.0947 -34.9729 \n",
       "Training error : 0.214286 \n",
       "Probability model included. "
      ]
     },
     "metadata": {},
     "output_type": "display_data"
    }
   ],
   "source": [
    "#Summary of final model\n",
    "getTrainPerf(ml_svmnl)\n",
    "ml_svmnl$finalModel"
   ]
  },
  {
   "cell_type": "code",
   "execution_count": 39,
   "metadata": {},
   "outputs": [
    {
     "data": {
      "text/plain": [
       "ROC curve variable importance\n",
       "\n",
       "  variables are sorted by maximum importance across the classes\n",
       "                         C      B      A\n",
       "problem_solving     0.9372 0.7551 0.9372\n",
       "organisation        0.9104 0.7561 0.9104\n",
       "service_orientation 0.8783 0.7056 0.8783\n",
       "quality             0.8611 0.7213 0.8611\n",
       "innovation          0.7913 0.6735 0.7913\n",
       "curiosity           0.6428 0.6428 0.6204\n",
       "determination       0.6227 0.5806 0.6227\n",
       "analysis            0.6117 0.6117 0.5774\n",
       "empowerment         0.5568 0.5702 0.5702"
      ]
     },
     "metadata": {},
     "output_type": "display_data"
    },
    {
     "data": {
      "image/png": "[encoded data removed]",
      "text/plain": [
       "plot without title"
      ]
     },
     "metadata": {},
     "output_type": "display_data"
    }
   ],
   "source": [
    "#Importance of variables\n",
    "(var_svmnl <- caret::varImp(ml_svmnl, scale = F))\n",
    "plot(var_svmnl)"
   ]
  },
  {
   "cell_type": "markdown",
   "metadata": {},
   "source": [
    "# 6. Save workspace\n",
    "To use the workspace in the next notebook, I will save it as an R object to be able to import it into other notebooks."
   ]
  },
  {
   "cell_type": "code",
   "execution_count": 40,
   "metadata": {},
   "outputs": [],
   "source": [
    "save.image(file = \"03_Objects/modelling.RData\")"
   ]
  }
 ],
 "metadata": {
  "kernelspec": {
   "display_name": "R",
   "language": "R",
   "name": "ir"
  },
  "language_info": {
   "codemirror_mode": "r",
   "file_extension": ".r",
   "mimetype": "text/x-r-source",
   "name": "R",
   "pygments_lexer": "r",
   "version": "3.6.1"
  }
 },
 "nbformat": 4,
 "nbformat_minor": 4
}
